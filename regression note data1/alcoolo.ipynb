{
 "cells": [
  {
   "cell_type": "code",
   "execution_count": 240,
   "id": "direct-advance",
   "metadata": {},
   "outputs": [],
   "source": [
    "import pandas as pd\n",
    "import numpy as np\n",
    "import matplotlib.pyplot as plt"
   ]
  },
  {
   "cell_type": "code",
   "execution_count": 161,
   "id": "certain-joining",
   "metadata": {},
   "outputs": [],
   "source": [
    "df = pd.read_csv(\"student-mat.csv\")"
   ]
  },
  {
   "cell_type": "code",
   "execution_count": 162,
   "id": "civilian-durham",
   "metadata": {},
   "outputs": [
    {
     "data": {
      "text/html": [
       "<div>\n",
       "<style scoped>\n",
       "    .dataframe tbody tr th:only-of-type {\n",
       "        vertical-align: middle;\n",
       "    }\n",
       "\n",
       "    .dataframe tbody tr th {\n",
       "        vertical-align: top;\n",
       "    }\n",
       "\n",
       "    .dataframe thead th {\n",
       "        text-align: right;\n",
       "    }\n",
       "</style>\n",
       "<table border=\"1\" class=\"dataframe\">\n",
       "  <thead>\n",
       "    <tr style=\"text-align: right;\">\n",
       "      <th></th>\n",
       "      <th>school</th>\n",
       "      <th>sex</th>\n",
       "      <th>age</th>\n",
       "      <th>address</th>\n",
       "      <th>famsize</th>\n",
       "      <th>Pstatus</th>\n",
       "      <th>Medu</th>\n",
       "      <th>Fedu</th>\n",
       "      <th>Mjob</th>\n",
       "      <th>Fjob</th>\n",
       "      <th>...</th>\n",
       "      <th>famrel</th>\n",
       "      <th>freetime</th>\n",
       "      <th>goout</th>\n",
       "      <th>Dalc</th>\n",
       "      <th>Walc</th>\n",
       "      <th>health</th>\n",
       "      <th>absences</th>\n",
       "      <th>G1</th>\n",
       "      <th>G2</th>\n",
       "      <th>G3</th>\n",
       "    </tr>\n",
       "  </thead>\n",
       "  <tbody>\n",
       "    <tr>\n",
       "      <th>0</th>\n",
       "      <td>GP</td>\n",
       "      <td>F</td>\n",
       "      <td>18</td>\n",
       "      <td>U</td>\n",
       "      <td>GT3</td>\n",
       "      <td>A</td>\n",
       "      <td>4</td>\n",
       "      <td>4</td>\n",
       "      <td>at_home</td>\n",
       "      <td>teacher</td>\n",
       "      <td>...</td>\n",
       "      <td>4</td>\n",
       "      <td>3</td>\n",
       "      <td>4</td>\n",
       "      <td>1</td>\n",
       "      <td>1</td>\n",
       "      <td>3</td>\n",
       "      <td>6</td>\n",
       "      <td>5</td>\n",
       "      <td>6</td>\n",
       "      <td>6</td>\n",
       "    </tr>\n",
       "    <tr>\n",
       "      <th>1</th>\n",
       "      <td>GP</td>\n",
       "      <td>F</td>\n",
       "      <td>17</td>\n",
       "      <td>U</td>\n",
       "      <td>GT3</td>\n",
       "      <td>T</td>\n",
       "      <td>1</td>\n",
       "      <td>1</td>\n",
       "      <td>at_home</td>\n",
       "      <td>other</td>\n",
       "      <td>...</td>\n",
       "      <td>5</td>\n",
       "      <td>3</td>\n",
       "      <td>3</td>\n",
       "      <td>1</td>\n",
       "      <td>1</td>\n",
       "      <td>3</td>\n",
       "      <td>4</td>\n",
       "      <td>5</td>\n",
       "      <td>5</td>\n",
       "      <td>6</td>\n",
       "    </tr>\n",
       "    <tr>\n",
       "      <th>2</th>\n",
       "      <td>GP</td>\n",
       "      <td>F</td>\n",
       "      <td>15</td>\n",
       "      <td>U</td>\n",
       "      <td>LE3</td>\n",
       "      <td>T</td>\n",
       "      <td>1</td>\n",
       "      <td>1</td>\n",
       "      <td>at_home</td>\n",
       "      <td>other</td>\n",
       "      <td>...</td>\n",
       "      <td>4</td>\n",
       "      <td>3</td>\n",
       "      <td>2</td>\n",
       "      <td>2</td>\n",
       "      <td>3</td>\n",
       "      <td>3</td>\n",
       "      <td>10</td>\n",
       "      <td>7</td>\n",
       "      <td>8</td>\n",
       "      <td>10</td>\n",
       "    </tr>\n",
       "    <tr>\n",
       "      <th>3</th>\n",
       "      <td>GP</td>\n",
       "      <td>F</td>\n",
       "      <td>15</td>\n",
       "      <td>U</td>\n",
       "      <td>GT3</td>\n",
       "      <td>T</td>\n",
       "      <td>4</td>\n",
       "      <td>2</td>\n",
       "      <td>health</td>\n",
       "      <td>services</td>\n",
       "      <td>...</td>\n",
       "      <td>3</td>\n",
       "      <td>2</td>\n",
       "      <td>2</td>\n",
       "      <td>1</td>\n",
       "      <td>1</td>\n",
       "      <td>5</td>\n",
       "      <td>2</td>\n",
       "      <td>15</td>\n",
       "      <td>14</td>\n",
       "      <td>15</td>\n",
       "    </tr>\n",
       "    <tr>\n",
       "      <th>4</th>\n",
       "      <td>GP</td>\n",
       "      <td>F</td>\n",
       "      <td>16</td>\n",
       "      <td>U</td>\n",
       "      <td>GT3</td>\n",
       "      <td>T</td>\n",
       "      <td>3</td>\n",
       "      <td>3</td>\n",
       "      <td>other</td>\n",
       "      <td>other</td>\n",
       "      <td>...</td>\n",
       "      <td>4</td>\n",
       "      <td>3</td>\n",
       "      <td>2</td>\n",
       "      <td>1</td>\n",
       "      <td>2</td>\n",
       "      <td>5</td>\n",
       "      <td>4</td>\n",
       "      <td>6</td>\n",
       "      <td>10</td>\n",
       "      <td>10</td>\n",
       "    </tr>\n",
       "  </tbody>\n",
       "</table>\n",
       "<p>5 rows × 33 columns</p>\n",
       "</div>"
      ],
      "text/plain": [
       "  school sex  age address famsize Pstatus  Medu  Fedu     Mjob      Fjob  ...  \\\n",
       "0     GP   F   18       U     GT3       A     4     4  at_home   teacher  ...   \n",
       "1     GP   F   17       U     GT3       T     1     1  at_home     other  ...   \n",
       "2     GP   F   15       U     LE3       T     1     1  at_home     other  ...   \n",
       "3     GP   F   15       U     GT3       T     4     2   health  services  ...   \n",
       "4     GP   F   16       U     GT3       T     3     3    other     other  ...   \n",
       "\n",
       "  famrel freetime  goout  Dalc  Walc health absences  G1  G2  G3  \n",
       "0      4        3      4     1     1      3        6   5   6   6  \n",
       "1      5        3      3     1     1      3        4   5   5   6  \n",
       "2      4        3      2     2     3      3       10   7   8  10  \n",
       "3      3        2      2     1     1      5        2  15  14  15  \n",
       "4      4        3      2     1     2      5        4   6  10  10  \n",
       "\n",
       "[5 rows x 33 columns]"
      ]
     },
     "execution_count": 162,
     "metadata": {},
     "output_type": "execute_result"
    }
   ],
   "source": [
    "df.head()"
   ]
  },
  {
   "cell_type": "code",
   "execution_count": 163,
   "id": "voluntary-browse",
   "metadata": {},
   "outputs": [
    {
     "data": {
      "text/plain": [
       "(395, 33)"
      ]
     },
     "execution_count": 163,
     "metadata": {},
     "output_type": "execute_result"
    }
   ],
   "source": [
    "df.shape"
   ]
  },
  {
   "cell_type": "code",
   "execution_count": 164,
   "id": "caroline-mining",
   "metadata": {},
   "outputs": [],
   "source": [
    "#df.isna().sum()"
   ]
  },
  {
   "cell_type": "code",
   "execution_count": 165,
   "id": "overall-margin",
   "metadata": {},
   "outputs": [],
   "source": [
    "#df.nunique()"
   ]
  },
  {
   "cell_type": "code",
   "execution_count": 166,
   "id": "administrative-presentation",
   "metadata": {},
   "outputs": [],
   "source": [
    "#df.describe()"
   ]
  },
  {
   "cell_type": "markdown",
   "id": "minute-litigation",
   "metadata": {},
   "source": [
    "h0 il y a des corrélations"
   ]
  },
  {
   "cell_type": "code",
   "execution_count": 167,
   "id": "previous-mason",
   "metadata": {},
   "outputs": [],
   "source": [
    "#df.info()"
   ]
  },
  {
   "cell_type": "code",
   "execution_count": 168,
   "id": "advance-corruption",
   "metadata": {},
   "outputs": [
    {
     "data": {
      "text/html": [
       "<div>\n",
       "<style scoped>\n",
       "    .dataframe tbody tr th:only-of-type {\n",
       "        vertical-align: middle;\n",
       "    }\n",
       "\n",
       "    .dataframe tbody tr th {\n",
       "        vertical-align: top;\n",
       "    }\n",
       "\n",
       "    .dataframe thead th {\n",
       "        text-align: right;\n",
       "    }\n",
       "</style>\n",
       "<table border=\"1\" class=\"dataframe\">\n",
       "  <thead>\n",
       "    <tr style=\"text-align: right;\">\n",
       "      <th></th>\n",
       "      <th>school</th>\n",
       "      <th>sex</th>\n",
       "      <th>age</th>\n",
       "      <th>address</th>\n",
       "      <th>famsize</th>\n",
       "      <th>Pstatus</th>\n",
       "      <th>Medu</th>\n",
       "      <th>Fedu</th>\n",
       "      <th>Mjob</th>\n",
       "      <th>Fjob</th>\n",
       "      <th>...</th>\n",
       "      <th>famrel</th>\n",
       "      <th>freetime</th>\n",
       "      <th>goout</th>\n",
       "      <th>Dalc</th>\n",
       "      <th>Walc</th>\n",
       "      <th>health</th>\n",
       "      <th>absences</th>\n",
       "      <th>G1</th>\n",
       "      <th>G2</th>\n",
       "      <th>G3</th>\n",
       "    </tr>\n",
       "  </thead>\n",
       "  <tbody>\n",
       "    <tr>\n",
       "      <th>0</th>\n",
       "      <td>GP</td>\n",
       "      <td>F</td>\n",
       "      <td>18</td>\n",
       "      <td>U</td>\n",
       "      <td>GT3</td>\n",
       "      <td>A</td>\n",
       "      <td>4</td>\n",
       "      <td>4</td>\n",
       "      <td>at_home</td>\n",
       "      <td>teacher</td>\n",
       "      <td>...</td>\n",
       "      <td>4</td>\n",
       "      <td>3</td>\n",
       "      <td>4</td>\n",
       "      <td>1</td>\n",
       "      <td>1</td>\n",
       "      <td>3</td>\n",
       "      <td>6</td>\n",
       "      <td>5</td>\n",
       "      <td>6</td>\n",
       "      <td>6</td>\n",
       "    </tr>\n",
       "    <tr>\n",
       "      <th>1</th>\n",
       "      <td>GP</td>\n",
       "      <td>F</td>\n",
       "      <td>17</td>\n",
       "      <td>U</td>\n",
       "      <td>GT3</td>\n",
       "      <td>T</td>\n",
       "      <td>1</td>\n",
       "      <td>1</td>\n",
       "      <td>at_home</td>\n",
       "      <td>other</td>\n",
       "      <td>...</td>\n",
       "      <td>5</td>\n",
       "      <td>3</td>\n",
       "      <td>3</td>\n",
       "      <td>1</td>\n",
       "      <td>1</td>\n",
       "      <td>3</td>\n",
       "      <td>4</td>\n",
       "      <td>5</td>\n",
       "      <td>5</td>\n",
       "      <td>6</td>\n",
       "    </tr>\n",
       "    <tr>\n",
       "      <th>2</th>\n",
       "      <td>GP</td>\n",
       "      <td>F</td>\n",
       "      <td>15</td>\n",
       "      <td>U</td>\n",
       "      <td>LE3</td>\n",
       "      <td>T</td>\n",
       "      <td>1</td>\n",
       "      <td>1</td>\n",
       "      <td>at_home</td>\n",
       "      <td>other</td>\n",
       "      <td>...</td>\n",
       "      <td>4</td>\n",
       "      <td>3</td>\n",
       "      <td>2</td>\n",
       "      <td>2</td>\n",
       "      <td>3</td>\n",
       "      <td>3</td>\n",
       "      <td>10</td>\n",
       "      <td>7</td>\n",
       "      <td>8</td>\n",
       "      <td>10</td>\n",
       "    </tr>\n",
       "    <tr>\n",
       "      <th>3</th>\n",
       "      <td>GP</td>\n",
       "      <td>F</td>\n",
       "      <td>15</td>\n",
       "      <td>U</td>\n",
       "      <td>GT3</td>\n",
       "      <td>T</td>\n",
       "      <td>4</td>\n",
       "      <td>2</td>\n",
       "      <td>health</td>\n",
       "      <td>services</td>\n",
       "      <td>...</td>\n",
       "      <td>3</td>\n",
       "      <td>2</td>\n",
       "      <td>2</td>\n",
       "      <td>1</td>\n",
       "      <td>1</td>\n",
       "      <td>5</td>\n",
       "      <td>2</td>\n",
       "      <td>15</td>\n",
       "      <td>14</td>\n",
       "      <td>15</td>\n",
       "    </tr>\n",
       "    <tr>\n",
       "      <th>4</th>\n",
       "      <td>GP</td>\n",
       "      <td>F</td>\n",
       "      <td>16</td>\n",
       "      <td>U</td>\n",
       "      <td>GT3</td>\n",
       "      <td>T</td>\n",
       "      <td>3</td>\n",
       "      <td>3</td>\n",
       "      <td>other</td>\n",
       "      <td>other</td>\n",
       "      <td>...</td>\n",
       "      <td>4</td>\n",
       "      <td>3</td>\n",
       "      <td>2</td>\n",
       "      <td>1</td>\n",
       "      <td>2</td>\n",
       "      <td>5</td>\n",
       "      <td>4</td>\n",
       "      <td>6</td>\n",
       "      <td>10</td>\n",
       "      <td>10</td>\n",
       "    </tr>\n",
       "  </tbody>\n",
       "</table>\n",
       "<p>5 rows × 33 columns</p>\n",
       "</div>"
      ],
      "text/plain": [
       "  school sex  age address famsize Pstatus  Medu  Fedu     Mjob      Fjob  ...  \\\n",
       "0     GP   F   18       U     GT3       A     4     4  at_home   teacher  ...   \n",
       "1     GP   F   17       U     GT3       T     1     1  at_home     other  ...   \n",
       "2     GP   F   15       U     LE3       T     1     1  at_home     other  ...   \n",
       "3     GP   F   15       U     GT3       T     4     2   health  services  ...   \n",
       "4     GP   F   16       U     GT3       T     3     3    other     other  ...   \n",
       "\n",
       "  famrel freetime  goout  Dalc  Walc health absences  G1  G2  G3  \n",
       "0      4        3      4     1     1      3        6   5   6   6  \n",
       "1      5        3      3     1     1      3        4   5   5   6  \n",
       "2      4        3      2     2     3      3       10   7   8  10  \n",
       "3      3        2      2     1     1      5        2  15  14  15  \n",
       "4      4        3      2     1     2      5        4   6  10  10  \n",
       "\n",
       "[5 rows x 33 columns]"
      ]
     },
     "execution_count": 168,
     "metadata": {},
     "output_type": "execute_result"
    }
   ],
   "source": [
    "df.head()"
   ]
  },
  {
   "cell_type": "markdown",
   "id": "seventh-honolulu",
   "metadata": {},
   "source": [
    "### école et note final"
   ]
  },
  {
   "cell_type": "markdown",
   "id": "dressed-telling",
   "metadata": {},
   "source": [
    "Est-ce que l'école influe sur la note finale ?"
   ]
  },
  {
   "cell_type": "code",
   "execution_count": 169,
   "id": "occasional-hawaiian",
   "metadata": {},
   "outputs": [
    {
     "data": {
      "text/plain": [
       "array(['GP', 'MS'], dtype=object)"
      ]
     },
     "execution_count": 169,
     "metadata": {},
     "output_type": "execute_result"
    }
   ],
   "source": [
    "df[\"school\"].unique()"
   ]
  },
  {
   "cell_type": "code",
   "execution_count": 170,
   "id": "angry-salad",
   "metadata": {},
   "outputs": [
    {
     "data": {
      "text/plain": [
       "{'GP': 349, 'MS': 46}"
      ]
     },
     "execution_count": 170,
     "metadata": {},
     "output_type": "execute_result"
    }
   ],
   "source": [
    "dico_nb_person_from_school = {school: len(df[df[\"school\"] == school]) for school in df[\"school\"].unique()}\n",
    "dico_nb_person_from_school"
   ]
  },
  {
   "cell_type": "markdown",
   "id": "gross-technician",
   "metadata": {},
   "source": [
    "Nous remarquons une asymétrie au niveau des écoles.\n",
    "\n",
    "1) Moyenne de G3 en fonction de l'école.\n",
    "\n",
    "2) Moyenne des 3 notes en fonction de l'école."
   ]
  },
  {
   "cell_type": "code",
   "execution_count": 171,
   "id": "asian-narrative",
   "metadata": {},
   "outputs": [],
   "source": [
    "def recuperate_labels_from_one_label(data, label, sublabel):\n",
    "    return data[data[label] == sublabel][\"G3\"].mean()"
   ]
  },
  {
   "cell_type": "code",
   "execution_count": 172,
   "id": "hispanic-marking",
   "metadata": {},
   "outputs": [
    {
     "data": {
      "text/plain": [
       "{'GP': 10.489971346704872, 'MS': 9.847826086956522}"
      ]
     },
     "execution_count": 172,
     "metadata": {},
     "output_type": "execute_result"
    }
   ],
   "source": [
    "schools = {school: recuperate_labels_from_one_label(df, \"school\", school) for school in df[\"school\"].unique()}\n",
    "schools"
   ]
  },
  {
   "cell_type": "markdown",
   "id": "gentle-terrain",
   "metadata": {},
   "source": [
    "Il semble qu'il n'y ai pas de grande différence entre l'école 1 et 2 pour la note finale.\n",
    "\n",
    "L'école à t-elle donc un lien avec notre étude ?"
   ]
  },
  {
   "cell_type": "code",
   "execution_count": null,
   "id": "taken-spencer",
   "metadata": {},
   "outputs": [],
   "source": []
  },
  {
   "cell_type": "code",
   "execution_count": null,
   "id": "regulation-radius",
   "metadata": {},
   "outputs": [],
   "source": []
  },
  {
   "cell_type": "code",
   "execution_count": 173,
   "id": "dramatic-remark",
   "metadata": {},
   "outputs": [],
   "source": [
    "def recuperate_labels_from_multipl_label(data, label, sublabel):\n",
    "    g1 = data[data[label] == sublabel][\"G1\"].mean()\n",
    "    g2 = data[data[label] == sublabel][\"G2\"].mean()\n",
    "    g3 = data[data[label] == sublabel][\"G3\"].mean()\n",
    "    return (g1 + g2 + g3) / 3"
   ]
  },
  {
   "cell_type": "code",
   "execution_count": 174,
   "id": "smaller-placement",
   "metadata": {},
   "outputs": [
    {
     "data": {
      "text/plain": [
       "{'GP': 10.737344794651385, 'MS': 10.23913043478261}"
      ]
     },
     "execution_count": 174,
     "metadata": {},
     "output_type": "execute_result"
    }
   ],
   "source": [
    "schools = {school: recuperate_labels_from_multipl_label(df, \"school\", school) for school in df[\"school\"].unique()}\n",
    "schools"
   ]
  },
  {
   "cell_type": "markdown",
   "id": "opposite-experiment",
   "metadata": {},
   "source": [
    "Il semble qu'il n'y ai aucunes différences entre l'école 1 et 2 sur l'ensemble des notes.\n",
    "\n",
    "L'école à t-elle donc un lien avec notre étude ?"
   ]
  },
  {
   "cell_type": "markdown",
   "id": "drawn-farming",
   "metadata": {},
   "source": [
    "Par le nombre de donnée de chaques écoles, et par la moyenne des notes mais aussi par la note finale. \n",
    "\n",
    "Nous ne conservons pas la variable \"school\"."
   ]
  },
  {
   "cell_type": "code",
   "execution_count": 175,
   "id": "unexpected-investigator",
   "metadata": {},
   "outputs": [],
   "source": [
    "del df[\"school\"]"
   ]
  },
  {
   "cell_type": "code",
   "execution_count": null,
   "id": "comic-aspect",
   "metadata": {},
   "outputs": [],
   "source": []
  },
  {
   "cell_type": "code",
   "execution_count": null,
   "id": "satisfied-conservation",
   "metadata": {},
   "outputs": [],
   "source": []
  },
  {
   "cell_type": "code",
   "execution_count": null,
   "id": "received-papua",
   "metadata": {},
   "outputs": [],
   "source": []
  },
  {
   "cell_type": "code",
   "execution_count": 176,
   "id": "agreed-corpus",
   "metadata": {},
   "outputs": [
    {
     "data": {
      "text/html": [
       "<div>\n",
       "<style scoped>\n",
       "    .dataframe tbody tr th:only-of-type {\n",
       "        vertical-align: middle;\n",
       "    }\n",
       "\n",
       "    .dataframe tbody tr th {\n",
       "        vertical-align: top;\n",
       "    }\n",
       "\n",
       "    .dataframe thead th {\n",
       "        text-align: right;\n",
       "    }\n",
       "</style>\n",
       "<table border=\"1\" class=\"dataframe\">\n",
       "  <thead>\n",
       "    <tr style=\"text-align: right;\">\n",
       "      <th></th>\n",
       "      <th>sex</th>\n",
       "      <th>age</th>\n",
       "      <th>address</th>\n",
       "      <th>famsize</th>\n",
       "      <th>Pstatus</th>\n",
       "      <th>Medu</th>\n",
       "      <th>Fedu</th>\n",
       "      <th>Mjob</th>\n",
       "      <th>Fjob</th>\n",
       "      <th>reason</th>\n",
       "      <th>...</th>\n",
       "      <th>famrel</th>\n",
       "      <th>freetime</th>\n",
       "      <th>goout</th>\n",
       "      <th>Dalc</th>\n",
       "      <th>Walc</th>\n",
       "      <th>health</th>\n",
       "      <th>absences</th>\n",
       "      <th>G1</th>\n",
       "      <th>G2</th>\n",
       "      <th>G3</th>\n",
       "    </tr>\n",
       "  </thead>\n",
       "  <tbody>\n",
       "    <tr>\n",
       "      <th>0</th>\n",
       "      <td>F</td>\n",
       "      <td>18</td>\n",
       "      <td>U</td>\n",
       "      <td>GT3</td>\n",
       "      <td>A</td>\n",
       "      <td>4</td>\n",
       "      <td>4</td>\n",
       "      <td>at_home</td>\n",
       "      <td>teacher</td>\n",
       "      <td>course</td>\n",
       "      <td>...</td>\n",
       "      <td>4</td>\n",
       "      <td>3</td>\n",
       "      <td>4</td>\n",
       "      <td>1</td>\n",
       "      <td>1</td>\n",
       "      <td>3</td>\n",
       "      <td>6</td>\n",
       "      <td>5</td>\n",
       "      <td>6</td>\n",
       "      <td>6</td>\n",
       "    </tr>\n",
       "    <tr>\n",
       "      <th>1</th>\n",
       "      <td>F</td>\n",
       "      <td>17</td>\n",
       "      <td>U</td>\n",
       "      <td>GT3</td>\n",
       "      <td>T</td>\n",
       "      <td>1</td>\n",
       "      <td>1</td>\n",
       "      <td>at_home</td>\n",
       "      <td>other</td>\n",
       "      <td>course</td>\n",
       "      <td>...</td>\n",
       "      <td>5</td>\n",
       "      <td>3</td>\n",
       "      <td>3</td>\n",
       "      <td>1</td>\n",
       "      <td>1</td>\n",
       "      <td>3</td>\n",
       "      <td>4</td>\n",
       "      <td>5</td>\n",
       "      <td>5</td>\n",
       "      <td>6</td>\n",
       "    </tr>\n",
       "    <tr>\n",
       "      <th>2</th>\n",
       "      <td>F</td>\n",
       "      <td>15</td>\n",
       "      <td>U</td>\n",
       "      <td>LE3</td>\n",
       "      <td>T</td>\n",
       "      <td>1</td>\n",
       "      <td>1</td>\n",
       "      <td>at_home</td>\n",
       "      <td>other</td>\n",
       "      <td>other</td>\n",
       "      <td>...</td>\n",
       "      <td>4</td>\n",
       "      <td>3</td>\n",
       "      <td>2</td>\n",
       "      <td>2</td>\n",
       "      <td>3</td>\n",
       "      <td>3</td>\n",
       "      <td>10</td>\n",
       "      <td>7</td>\n",
       "      <td>8</td>\n",
       "      <td>10</td>\n",
       "    </tr>\n",
       "    <tr>\n",
       "      <th>3</th>\n",
       "      <td>F</td>\n",
       "      <td>15</td>\n",
       "      <td>U</td>\n",
       "      <td>GT3</td>\n",
       "      <td>T</td>\n",
       "      <td>4</td>\n",
       "      <td>2</td>\n",
       "      <td>health</td>\n",
       "      <td>services</td>\n",
       "      <td>home</td>\n",
       "      <td>...</td>\n",
       "      <td>3</td>\n",
       "      <td>2</td>\n",
       "      <td>2</td>\n",
       "      <td>1</td>\n",
       "      <td>1</td>\n",
       "      <td>5</td>\n",
       "      <td>2</td>\n",
       "      <td>15</td>\n",
       "      <td>14</td>\n",
       "      <td>15</td>\n",
       "    </tr>\n",
       "    <tr>\n",
       "      <th>4</th>\n",
       "      <td>F</td>\n",
       "      <td>16</td>\n",
       "      <td>U</td>\n",
       "      <td>GT3</td>\n",
       "      <td>T</td>\n",
       "      <td>3</td>\n",
       "      <td>3</td>\n",
       "      <td>other</td>\n",
       "      <td>other</td>\n",
       "      <td>home</td>\n",
       "      <td>...</td>\n",
       "      <td>4</td>\n",
       "      <td>3</td>\n",
       "      <td>2</td>\n",
       "      <td>1</td>\n",
       "      <td>2</td>\n",
       "      <td>5</td>\n",
       "      <td>4</td>\n",
       "      <td>6</td>\n",
       "      <td>10</td>\n",
       "      <td>10</td>\n",
       "    </tr>\n",
       "  </tbody>\n",
       "</table>\n",
       "<p>5 rows × 32 columns</p>\n",
       "</div>"
      ],
      "text/plain": [
       "  sex  age address famsize Pstatus  Medu  Fedu     Mjob      Fjob  reason  \\\n",
       "0   F   18       U     GT3       A     4     4  at_home   teacher  course   \n",
       "1   F   17       U     GT3       T     1     1  at_home     other  course   \n",
       "2   F   15       U     LE3       T     1     1  at_home     other   other   \n",
       "3   F   15       U     GT3       T     4     2   health  services    home   \n",
       "4   F   16       U     GT3       T     3     3    other     other    home   \n",
       "\n",
       "   ... famrel  freetime  goout  Dalc Walc health absences  G1  G2  G3  \n",
       "0  ...      4         3      4     1    1      3        6   5   6   6  \n",
       "1  ...      5         3      3     1    1      3        4   5   5   6  \n",
       "2  ...      4         3      2     2    3      3       10   7   8  10  \n",
       "3  ...      3         2      2     1    1      5        2  15  14  15  \n",
       "4  ...      4         3      2     1    2      5        4   6  10  10  \n",
       "\n",
       "[5 rows x 32 columns]"
      ]
     },
     "execution_count": 176,
     "metadata": {},
     "output_type": "execute_result"
    }
   ],
   "source": [
    "df.head()"
   ]
  },
  {
   "cell_type": "code",
   "execution_count": null,
   "id": "charming-reason",
   "metadata": {},
   "outputs": [],
   "source": []
  },
  {
   "cell_type": "code",
   "execution_count": null,
   "id": "responsible-waste",
   "metadata": {},
   "outputs": [],
   "source": []
  },
  {
   "cell_type": "code",
   "execution_count": null,
   "id": "unauthorized-louisville",
   "metadata": {},
   "outputs": [],
   "source": []
  },
  {
   "cell_type": "code",
   "execution_count": null,
   "id": "decreased-translation",
   "metadata": {},
   "outputs": [],
   "source": []
  },
  {
   "cell_type": "code",
   "execution_count": null,
   "id": "international-signature",
   "metadata": {},
   "outputs": [],
   "source": []
  },
  {
   "cell_type": "code",
   "execution_count": null,
   "id": "tracked-citizen",
   "metadata": {},
   "outputs": [],
   "source": []
  },
  {
   "cell_type": "code",
   "execution_count": null,
   "id": "environmental-lightning",
   "metadata": {},
   "outputs": [],
   "source": []
  },
  {
   "cell_type": "markdown",
   "id": "decimal-reggae",
   "metadata": {},
   "source": [
    "### Sexe et note final"
   ]
  },
  {
   "cell_type": "code",
   "execution_count": 177,
   "id": "capital-annex",
   "metadata": {},
   "outputs": [],
   "source": [
    "sexe_label = [\"M\", \"F\"]"
   ]
  },
  {
   "cell_type": "code",
   "execution_count": 178,
   "id": "wanted-stevens",
   "metadata": {},
   "outputs": [
    {
     "data": {
      "text/plain": [
       "{'M': 187, 'F': 208}"
      ]
     },
     "execution_count": 178,
     "metadata": {},
     "output_type": "execute_result"
    }
   ],
   "source": [
    "dico = {label: len(df[df[\"sex\"] == label]) for label in sexe_label}\n",
    "dico"
   ]
  },
  {
   "cell_type": "markdown",
   "id": "defensive-christmas",
   "metadata": {},
   "source": [
    "Nous pouvons voir que la répartition sur notre échantillon est uniformément réparti."
   ]
  },
  {
   "cell_type": "code",
   "execution_count": null,
   "id": "commercial-employment",
   "metadata": {},
   "outputs": [],
   "source": []
  },
  {
   "cell_type": "code",
   "execution_count": 179,
   "id": "maritime-limit",
   "metadata": {},
   "outputs": [
    {
     "data": {
      "text/plain": [
       "{'M': 10.914438502673796, 'F': 9.966346153846153}"
      ]
     },
     "execution_count": 179,
     "metadata": {},
     "output_type": "execute_result"
    }
   ],
   "source": [
    "dico = {label: recuperate_labels_from_one_label(df, \"sex\", label) for label in sexe_label}\n",
    "dico"
   ]
  },
  {
   "cell_type": "markdown",
   "id": "younger-ultimate",
   "metadata": {},
   "source": [
    "Il semble qu'il n'y ai pas de différence significative sur la note final en fonction du sexe.\n",
    "\n",
    "Hypothèse: nous pouvons supprimer la variable catégorielle sexe."
   ]
  },
  {
   "cell_type": "code",
   "execution_count": null,
   "id": "liked-feelings",
   "metadata": {},
   "outputs": [],
   "source": []
  },
  {
   "cell_type": "code",
   "execution_count": null,
   "id": "cutting-train",
   "metadata": {},
   "outputs": [],
   "source": []
  },
  {
   "cell_type": "code",
   "execution_count": 180,
   "id": "sorted-onion",
   "metadata": {},
   "outputs": [
    {
     "data": {
      "text/plain": [
       "{'M': 11.073083778966131, 'F': 10.325320512820513}"
      ]
     },
     "execution_count": 180,
     "metadata": {},
     "output_type": "execute_result"
    }
   ],
   "source": [
    "dico = {label: recuperate_labels_from_multipl_label(df, \"sex\", label) for label in sexe_label}\n",
    "dico"
   ]
  },
  {
   "cell_type": "markdown",
   "id": "metallic-peter",
   "metadata": {},
   "source": [
    "Il semble qu'il n'y ai pas de différence significative sur la note final en fonction du sexe.\n",
    "\n",
    "Hypothèse: nous pouvons supprimer la variable catégorielle sexe."
   ]
  },
  {
   "cell_type": "code",
   "execution_count": null,
   "id": "younger-emerald",
   "metadata": {},
   "outputs": [],
   "source": []
  },
  {
   "cell_type": "code",
   "execution_count": null,
   "id": "august-collector",
   "metadata": {},
   "outputs": [],
   "source": []
  },
  {
   "cell_type": "code",
   "execution_count": null,
   "id": "recreational-hello",
   "metadata": {},
   "outputs": [],
   "source": []
  },
  {
   "cell_type": "markdown",
   "id": "alone-district",
   "metadata": {},
   "source": [
    "## Age et note finale"
   ]
  },
  {
   "cell_type": "code",
   "execution_count": 181,
   "id": "suburban-jacket",
   "metadata": {},
   "outputs": [
    {
     "data": {
      "text/html": [
       "<div>\n",
       "<style scoped>\n",
       "    .dataframe tbody tr th:only-of-type {\n",
       "        vertical-align: middle;\n",
       "    }\n",
       "\n",
       "    .dataframe tbody tr th {\n",
       "        vertical-align: top;\n",
       "    }\n",
       "\n",
       "    .dataframe thead th {\n",
       "        text-align: right;\n",
       "    }\n",
       "</style>\n",
       "<table border=\"1\" class=\"dataframe\">\n",
       "  <thead>\n",
       "    <tr style=\"text-align: right;\">\n",
       "      <th></th>\n",
       "      <th>sex</th>\n",
       "      <th>age</th>\n",
       "      <th>address</th>\n",
       "      <th>famsize</th>\n",
       "      <th>Pstatus</th>\n",
       "      <th>Medu</th>\n",
       "      <th>Fedu</th>\n",
       "      <th>Mjob</th>\n",
       "      <th>Fjob</th>\n",
       "      <th>reason</th>\n",
       "      <th>...</th>\n",
       "      <th>famrel</th>\n",
       "      <th>freetime</th>\n",
       "      <th>goout</th>\n",
       "      <th>Dalc</th>\n",
       "      <th>Walc</th>\n",
       "      <th>health</th>\n",
       "      <th>absences</th>\n",
       "      <th>G1</th>\n",
       "      <th>G2</th>\n",
       "      <th>G3</th>\n",
       "    </tr>\n",
       "  </thead>\n",
       "  <tbody>\n",
       "    <tr>\n",
       "      <th>0</th>\n",
       "      <td>F</td>\n",
       "      <td>18</td>\n",
       "      <td>U</td>\n",
       "      <td>GT3</td>\n",
       "      <td>A</td>\n",
       "      <td>4</td>\n",
       "      <td>4</td>\n",
       "      <td>at_home</td>\n",
       "      <td>teacher</td>\n",
       "      <td>course</td>\n",
       "      <td>...</td>\n",
       "      <td>4</td>\n",
       "      <td>3</td>\n",
       "      <td>4</td>\n",
       "      <td>1</td>\n",
       "      <td>1</td>\n",
       "      <td>3</td>\n",
       "      <td>6</td>\n",
       "      <td>5</td>\n",
       "      <td>6</td>\n",
       "      <td>6</td>\n",
       "    </tr>\n",
       "    <tr>\n",
       "      <th>1</th>\n",
       "      <td>F</td>\n",
       "      <td>17</td>\n",
       "      <td>U</td>\n",
       "      <td>GT3</td>\n",
       "      <td>T</td>\n",
       "      <td>1</td>\n",
       "      <td>1</td>\n",
       "      <td>at_home</td>\n",
       "      <td>other</td>\n",
       "      <td>course</td>\n",
       "      <td>...</td>\n",
       "      <td>5</td>\n",
       "      <td>3</td>\n",
       "      <td>3</td>\n",
       "      <td>1</td>\n",
       "      <td>1</td>\n",
       "      <td>3</td>\n",
       "      <td>4</td>\n",
       "      <td>5</td>\n",
       "      <td>5</td>\n",
       "      <td>6</td>\n",
       "    </tr>\n",
       "    <tr>\n",
       "      <th>2</th>\n",
       "      <td>F</td>\n",
       "      <td>15</td>\n",
       "      <td>U</td>\n",
       "      <td>LE3</td>\n",
       "      <td>T</td>\n",
       "      <td>1</td>\n",
       "      <td>1</td>\n",
       "      <td>at_home</td>\n",
       "      <td>other</td>\n",
       "      <td>other</td>\n",
       "      <td>...</td>\n",
       "      <td>4</td>\n",
       "      <td>3</td>\n",
       "      <td>2</td>\n",
       "      <td>2</td>\n",
       "      <td>3</td>\n",
       "      <td>3</td>\n",
       "      <td>10</td>\n",
       "      <td>7</td>\n",
       "      <td>8</td>\n",
       "      <td>10</td>\n",
       "    </tr>\n",
       "    <tr>\n",
       "      <th>3</th>\n",
       "      <td>F</td>\n",
       "      <td>15</td>\n",
       "      <td>U</td>\n",
       "      <td>GT3</td>\n",
       "      <td>T</td>\n",
       "      <td>4</td>\n",
       "      <td>2</td>\n",
       "      <td>health</td>\n",
       "      <td>services</td>\n",
       "      <td>home</td>\n",
       "      <td>...</td>\n",
       "      <td>3</td>\n",
       "      <td>2</td>\n",
       "      <td>2</td>\n",
       "      <td>1</td>\n",
       "      <td>1</td>\n",
       "      <td>5</td>\n",
       "      <td>2</td>\n",
       "      <td>15</td>\n",
       "      <td>14</td>\n",
       "      <td>15</td>\n",
       "    </tr>\n",
       "    <tr>\n",
       "      <th>4</th>\n",
       "      <td>F</td>\n",
       "      <td>16</td>\n",
       "      <td>U</td>\n",
       "      <td>GT3</td>\n",
       "      <td>T</td>\n",
       "      <td>3</td>\n",
       "      <td>3</td>\n",
       "      <td>other</td>\n",
       "      <td>other</td>\n",
       "      <td>home</td>\n",
       "      <td>...</td>\n",
       "      <td>4</td>\n",
       "      <td>3</td>\n",
       "      <td>2</td>\n",
       "      <td>1</td>\n",
       "      <td>2</td>\n",
       "      <td>5</td>\n",
       "      <td>4</td>\n",
       "      <td>6</td>\n",
       "      <td>10</td>\n",
       "      <td>10</td>\n",
       "    </tr>\n",
       "  </tbody>\n",
       "</table>\n",
       "<p>5 rows × 32 columns</p>\n",
       "</div>"
      ],
      "text/plain": [
       "  sex  age address famsize Pstatus  Medu  Fedu     Mjob      Fjob  reason  \\\n",
       "0   F   18       U     GT3       A     4     4  at_home   teacher  course   \n",
       "1   F   17       U     GT3       T     1     1  at_home     other  course   \n",
       "2   F   15       U     LE3       T     1     1  at_home     other   other   \n",
       "3   F   15       U     GT3       T     4     2   health  services    home   \n",
       "4   F   16       U     GT3       T     3     3    other     other    home   \n",
       "\n",
       "   ... famrel  freetime  goout  Dalc Walc health absences  G1  G2  G3  \n",
       "0  ...      4         3      4     1    1      3        6   5   6   6  \n",
       "1  ...      5         3      3     1    1      3        4   5   5   6  \n",
       "2  ...      4         3      2     2    3      3       10   7   8  10  \n",
       "3  ...      3         2      2     1    1      5        2  15  14  15  \n",
       "4  ...      4         3      2     1    2      5        4   6  10  10  \n",
       "\n",
       "[5 rows x 32 columns]"
      ]
     },
     "execution_count": 181,
     "metadata": {},
     "output_type": "execute_result"
    }
   ],
   "source": [
    "df.head()"
   ]
  },
  {
   "cell_type": "code",
   "execution_count": 182,
   "id": "broadband-highlight",
   "metadata": {},
   "outputs": [
    {
     "data": {
      "text/plain": [
       "[15, 16, 17, 18, 19, 20, 21, 22]"
      ]
     },
     "execution_count": 182,
     "metadata": {},
     "output_type": "execute_result"
    }
   ],
   "source": [
    "age_label = sorted(df[\"age\"].unique())\n",
    "age_label"
   ]
  },
  {
   "cell_type": "markdown",
   "id": "alien-significance",
   "metadata": {},
   "source": [
    "Nous pouvons voir que l'étendue est de: 8 et que la moyenne d'age est de 18.5. Notre échantillon est dans l'interval fermé [15; 22]"
   ]
  },
  {
   "cell_type": "code",
   "execution_count": 183,
   "id": "according-swedish",
   "metadata": {},
   "outputs": [
    {
     "data": {
      "text/plain": [
       "{15: 82, 16: 104, 17: 98, 18: 82, 19: 24, 20: 3, 21: 1, 22: 1}"
      ]
     },
     "execution_count": 183,
     "metadata": {},
     "output_type": "execute_result"
    }
   ],
   "source": [
    "nombre_age = {age: len(df[df[\"age\"] == age]) for age in age_label}\n",
    "nombre_age"
   ]
  },
  {
   "cell_type": "code",
   "execution_count": 184,
   "id": "suitable-print",
   "metadata": {},
   "outputs": [],
   "source": [
    "# Diagramme à moustage"
   ]
  },
  {
   "cell_type": "code",
   "execution_count": 185,
   "id": "previous-heart",
   "metadata": {},
   "outputs": [
    {
     "data": {
      "text/plain": [
       "49.375"
      ]
     },
     "execution_count": 185,
     "metadata": {},
     "output_type": "execute_result"
    }
   ],
   "source": [
    "mean_person_age = sum(v for k, v in nombre_age.items()) / len(nombre_age)\n",
    "mean_person_age"
   ]
  },
  {
   "cell_type": "markdown",
   "id": "reliable-prime",
   "metadata": {},
   "source": [
    "Il semble que nous avons des données continues peu représentatives dans notre échantillon.\n",
    "\n",
    "Les ages: 19, 20 21 et 22 ne sont pas etre pris en compte car ils ne sont représentatifs"
   ]
  },
  {
   "cell_type": "code",
   "execution_count": null,
   "id": "regional-sudan",
   "metadata": {},
   "outputs": [],
   "source": []
  },
  {
   "cell_type": "markdown",
   "id": "honest-aaron",
   "metadata": {},
   "source": [
    "Hypothèse 0: a note finale, ou l'ensemble des 3 notes sont influencées par l'age."
   ]
  },
  {
   "cell_type": "code",
   "execution_count": null,
   "id": "scheduled-indicator",
   "metadata": {},
   "outputs": [],
   "source": []
  },
  {
   "cell_type": "code",
   "execution_count": 186,
   "id": "analyzed-sacramento",
   "metadata": {
    "scrolled": true
   },
   "outputs": [
    {
     "name": "stdout",
     "output_type": "stream",
     "text": [
      "age : 21  ->  7.0   nombre échantillon: 1\n",
      "age : 22  ->  8.0   nombre échantillon: 1\n",
      "age : 19  ->  8.21   nombre échantillon: 24\n",
      "age : 18  ->  9.55   nombre échantillon: 82\n",
      "age : 17  ->  10.28   nombre échantillon: 98\n",
      "age : 16  ->  11.03   nombre échantillon: 104\n",
      "age : 15  ->  11.26   nombre échantillon: 82\n",
      "age : 20  ->  14.0   nombre échantillon: 3\n"
     ]
    },
    {
     "data": {
      "text/plain": [
       "[None, None, None, None, None, None, None, None]"
      ]
     },
     "execution_count": 186,
     "metadata": {},
     "output_type": "execute_result"
    }
   ],
   "source": [
    "dico = {label: recuperate_labels_from_one_label(df, \"age\", label) for label in age_label}\n",
    "dico = dict(sorted(dico.items(), key=lambda item: item[1]))\n",
    "[print(\"age :\", k, \" -> \", round(v, 2), \"  nombre échantillon:\", nombre_age[k]) for k, v in dico.items()]"
   ]
  },
  {
   "cell_type": "markdown",
   "id": "prerequisite-campbell",
   "metadata": {},
   "source": [
    "Dans nos échantillons de la tranche d'age: [15;18] l'age n'influence pas la note finale."
   ]
  },
  {
   "cell_type": "code",
   "execution_count": null,
   "id": "spare-policy",
   "metadata": {},
   "outputs": [],
   "source": []
  },
  {
   "cell_type": "code",
   "execution_count": null,
   "id": "bored-formation",
   "metadata": {},
   "outputs": [],
   "source": []
  },
  {
   "cell_type": "code",
   "execution_count": 187,
   "id": "ongoing-jesus",
   "metadata": {},
   "outputs": [
    {
     "name": "stdout",
     "output_type": "stream",
     "text": [
      "age : 15  ->  11.28   nombre échantillon: 82\n",
      "age : 16  ->  11.05   nombre échantillon: 104\n",
      "age : 17  ->  10.55   nombre échantillon: 98\n",
      "age : 18  ->  10.13   nombre échantillon: 82\n",
      "age : 19  ->  9.24   nombre échantillon: 24\n",
      "age : 20  ->  13.78   nombre échantillon: 3\n",
      "age : 21  ->  8.33   nombre échantillon: 1\n",
      "age : 22  ->  7.33   nombre échantillon: 1\n"
     ]
    },
    {
     "data": {
      "text/plain": [
       "[None, None, None, None, None, None, None, None]"
      ]
     },
     "execution_count": 187,
     "metadata": {},
     "output_type": "execute_result"
    }
   ],
   "source": [
    "dico = {label: recuperate_labels_from_multipl_label(df, \"age\", label) for label in age_label}\n",
    "[print(\"age :\", k, \" -> \", round(v, 2), \"  nombre échantillon:\", nombre_age[k]) for k, v in dico.items()]"
   ]
  },
  {
   "cell_type": "markdown",
   "id": "satisfactory-yugoslavia",
   "metadata": {},
   "source": [
    "Dans nos échantillons de la tranche d'age: [15;18] l'age n'influence pas la moyenne des 3 notes."
   ]
  },
  {
   "cell_type": "markdown",
   "id": "processed-lincoln",
   "metadata": {},
   "source": [
    "Il semble que l'age n'influence pas la note finale, et qu'il y a des données peu représentatives (en terme d'age) dans notre dataset."
   ]
  },
  {
   "cell_type": "code",
   "execution_count": null,
   "id": "greenhouse-indie",
   "metadata": {},
   "outputs": [],
   "source": []
  },
  {
   "cell_type": "code",
   "execution_count": 190,
   "id": "olympic-glance",
   "metadata": {},
   "outputs": [],
   "source": [
    "label_to_remove = [20, 21, 22]\n",
    "for i in label_to_remove:\n",
    "    df.drop(df.loc[df['age'] == i].index, inplace=True)"
   ]
  },
  {
   "cell_type": "code",
   "execution_count": null,
   "id": "generic-stability",
   "metadata": {},
   "outputs": [],
   "source": []
  },
  {
   "cell_type": "markdown",
   "id": "extreme-calendar",
   "metadata": {},
   "source": [
    "### G1, G2 et G3"
   ]
  },
  {
   "cell_type": "code",
   "execution_count": 191,
   "id": "directed-disco",
   "metadata": {},
   "outputs": [],
   "source": [
    "# moyenne de g1 g2 et g3"
   ]
  },
  {
   "cell_type": "code",
   "execution_count": 192,
   "id": "fatty-fluid",
   "metadata": {},
   "outputs": [],
   "source": [
    "# 1 quatile de g3, moyenne et 3 eme"
   ]
  },
  {
   "cell_type": "code",
   "execution_count": 193,
   "id": "experimental-lancaster",
   "metadata": {},
   "outputs": [
    {
     "data": {
      "text/plain": [
       "array([ 6, 10, 15, 11, 19,  9, 12, 14, 16,  5,  8, 17, 18, 13, 20,  7,  0,\n",
       "        4], dtype=int64)"
      ]
     },
     "execution_count": 193,
     "metadata": {},
     "output_type": "execute_result"
    }
   ],
   "source": [
    "df[\"G3\"].unique()"
   ]
  },
  {
   "cell_type": "code",
   "execution_count": null,
   "id": "ethical-bacon",
   "metadata": {},
   "outputs": [],
   "source": []
  },
  {
   "cell_type": "code",
   "execution_count": null,
   "id": "coated-abuse",
   "metadata": {},
   "outputs": [],
   "source": []
  },
  {
   "cell_type": "code",
   "execution_count": null,
   "id": "pursuant-hawaii",
   "metadata": {},
   "outputs": [],
   "source": []
  },
  {
   "cell_type": "markdown",
   "id": "derived-representative",
   "metadata": {},
   "source": [
    "### Adresse et note finale"
   ]
  },
  {
   "cell_type": "code",
   "execution_count": 194,
   "id": "wooden-dinner",
   "metadata": {},
   "outputs": [
    {
     "data": {
      "text/html": [
       "<div>\n",
       "<style scoped>\n",
       "    .dataframe tbody tr th:only-of-type {\n",
       "        vertical-align: middle;\n",
       "    }\n",
       "\n",
       "    .dataframe tbody tr th {\n",
       "        vertical-align: top;\n",
       "    }\n",
       "\n",
       "    .dataframe thead th {\n",
       "        text-align: right;\n",
       "    }\n",
       "</style>\n",
       "<table border=\"1\" class=\"dataframe\">\n",
       "  <thead>\n",
       "    <tr style=\"text-align: right;\">\n",
       "      <th></th>\n",
       "      <th>sex</th>\n",
       "      <th>age</th>\n",
       "      <th>address</th>\n",
       "      <th>famsize</th>\n",
       "      <th>Pstatus</th>\n",
       "      <th>Medu</th>\n",
       "      <th>Fedu</th>\n",
       "      <th>Mjob</th>\n",
       "      <th>Fjob</th>\n",
       "      <th>reason</th>\n",
       "      <th>...</th>\n",
       "      <th>famrel</th>\n",
       "      <th>freetime</th>\n",
       "      <th>goout</th>\n",
       "      <th>Dalc</th>\n",
       "      <th>Walc</th>\n",
       "      <th>health</th>\n",
       "      <th>absences</th>\n",
       "      <th>G1</th>\n",
       "      <th>G2</th>\n",
       "      <th>G3</th>\n",
       "    </tr>\n",
       "  </thead>\n",
       "  <tbody>\n",
       "    <tr>\n",
       "      <th>0</th>\n",
       "      <td>F</td>\n",
       "      <td>18</td>\n",
       "      <td>U</td>\n",
       "      <td>GT3</td>\n",
       "      <td>A</td>\n",
       "      <td>4</td>\n",
       "      <td>4</td>\n",
       "      <td>at_home</td>\n",
       "      <td>teacher</td>\n",
       "      <td>course</td>\n",
       "      <td>...</td>\n",
       "      <td>4</td>\n",
       "      <td>3</td>\n",
       "      <td>4</td>\n",
       "      <td>1</td>\n",
       "      <td>1</td>\n",
       "      <td>3</td>\n",
       "      <td>6</td>\n",
       "      <td>5</td>\n",
       "      <td>6</td>\n",
       "      <td>6</td>\n",
       "    </tr>\n",
       "    <tr>\n",
       "      <th>1</th>\n",
       "      <td>F</td>\n",
       "      <td>17</td>\n",
       "      <td>U</td>\n",
       "      <td>GT3</td>\n",
       "      <td>T</td>\n",
       "      <td>1</td>\n",
       "      <td>1</td>\n",
       "      <td>at_home</td>\n",
       "      <td>other</td>\n",
       "      <td>course</td>\n",
       "      <td>...</td>\n",
       "      <td>5</td>\n",
       "      <td>3</td>\n",
       "      <td>3</td>\n",
       "      <td>1</td>\n",
       "      <td>1</td>\n",
       "      <td>3</td>\n",
       "      <td>4</td>\n",
       "      <td>5</td>\n",
       "      <td>5</td>\n",
       "      <td>6</td>\n",
       "    </tr>\n",
       "    <tr>\n",
       "      <th>2</th>\n",
       "      <td>F</td>\n",
       "      <td>15</td>\n",
       "      <td>U</td>\n",
       "      <td>LE3</td>\n",
       "      <td>T</td>\n",
       "      <td>1</td>\n",
       "      <td>1</td>\n",
       "      <td>at_home</td>\n",
       "      <td>other</td>\n",
       "      <td>other</td>\n",
       "      <td>...</td>\n",
       "      <td>4</td>\n",
       "      <td>3</td>\n",
       "      <td>2</td>\n",
       "      <td>2</td>\n",
       "      <td>3</td>\n",
       "      <td>3</td>\n",
       "      <td>10</td>\n",
       "      <td>7</td>\n",
       "      <td>8</td>\n",
       "      <td>10</td>\n",
       "    </tr>\n",
       "    <tr>\n",
       "      <th>3</th>\n",
       "      <td>F</td>\n",
       "      <td>15</td>\n",
       "      <td>U</td>\n",
       "      <td>GT3</td>\n",
       "      <td>T</td>\n",
       "      <td>4</td>\n",
       "      <td>2</td>\n",
       "      <td>health</td>\n",
       "      <td>services</td>\n",
       "      <td>home</td>\n",
       "      <td>...</td>\n",
       "      <td>3</td>\n",
       "      <td>2</td>\n",
       "      <td>2</td>\n",
       "      <td>1</td>\n",
       "      <td>1</td>\n",
       "      <td>5</td>\n",
       "      <td>2</td>\n",
       "      <td>15</td>\n",
       "      <td>14</td>\n",
       "      <td>15</td>\n",
       "    </tr>\n",
       "    <tr>\n",
       "      <th>4</th>\n",
       "      <td>F</td>\n",
       "      <td>16</td>\n",
       "      <td>U</td>\n",
       "      <td>GT3</td>\n",
       "      <td>T</td>\n",
       "      <td>3</td>\n",
       "      <td>3</td>\n",
       "      <td>other</td>\n",
       "      <td>other</td>\n",
       "      <td>home</td>\n",
       "      <td>...</td>\n",
       "      <td>4</td>\n",
       "      <td>3</td>\n",
       "      <td>2</td>\n",
       "      <td>1</td>\n",
       "      <td>2</td>\n",
       "      <td>5</td>\n",
       "      <td>4</td>\n",
       "      <td>6</td>\n",
       "      <td>10</td>\n",
       "      <td>10</td>\n",
       "    </tr>\n",
       "  </tbody>\n",
       "</table>\n",
       "<p>5 rows × 32 columns</p>\n",
       "</div>"
      ],
      "text/plain": [
       "  sex  age address famsize Pstatus  Medu  Fedu     Mjob      Fjob  reason  \\\n",
       "0   F   18       U     GT3       A     4     4  at_home   teacher  course   \n",
       "1   F   17       U     GT3       T     1     1  at_home     other  course   \n",
       "2   F   15       U     LE3       T     1     1  at_home     other   other   \n",
       "3   F   15       U     GT3       T     4     2   health  services    home   \n",
       "4   F   16       U     GT3       T     3     3    other     other    home   \n",
       "\n",
       "   ... famrel  freetime  goout  Dalc Walc health absences  G1  G2  G3  \n",
       "0  ...      4         3      4     1    1      3        6   5   6   6  \n",
       "1  ...      5         3      3     1    1      3        4   5   5   6  \n",
       "2  ...      4         3      2     2    3      3       10   7   8  10  \n",
       "3  ...      3         2      2     1    1      5        2  15  14  15  \n",
       "4  ...      4         3      2     1    2      5        4   6  10  10  \n",
       "\n",
       "[5 rows x 32 columns]"
      ]
     },
     "execution_count": 194,
     "metadata": {},
     "output_type": "execute_result"
    }
   ],
   "source": [
    "df.head()"
   ]
  },
  {
   "cell_type": "code",
   "execution_count": 195,
   "id": "cross-arrangement",
   "metadata": {},
   "outputs": [
    {
     "data": {
      "text/plain": [
       "array(['U', 'R'], dtype=object)"
      ]
     },
     "execution_count": 195,
     "metadata": {},
     "output_type": "execute_result"
    }
   ],
   "source": [
    "label_adresse = df[\"address\"].unique()\n",
    "label_adresse"
   ]
  },
  {
   "cell_type": "markdown",
   "id": "illegal-elevation",
   "metadata": {},
   "source": [
    "Il semble que nous ayons 2 type d'adresses dans notre dataset."
   ]
  },
  {
   "cell_type": "markdown",
   "id": "dependent-south",
   "metadata": {},
   "source": [
    "Hypothèse 0: L'adresse influence t-elle la note finale ?"
   ]
  },
  {
   "cell_type": "code",
   "execution_count": 196,
   "id": "olympic-acrylic",
   "metadata": {},
   "outputs": [
    {
     "data": {
      "text/plain": [
       "{'U': 303, 'R': 87}"
      ]
     },
     "execution_count": 196,
     "metadata": {},
     "output_type": "execute_result"
    }
   ],
   "source": [
    "dico = {address: len(df[df[\"address\"] == address]) for address in label_adresse}\n",
    "dico"
   ]
  },
  {
   "cell_type": "code",
   "execution_count": 197,
   "id": "equipped-trinity",
   "metadata": {},
   "outputs": [
    {
     "name": "stdout",
     "output_type": "stream",
     "text": [
      "Il semble que nous ayons une majorité de personne vivant en urbain de ratio: 3.4827586206896552 entre les deux données\n"
     ]
    }
   ],
   "source": [
    "print(\"Il semble que nous ayons une majorité de personne vivant en urbain de ratio:\", dico[\"U\"] / dico[\"R\"], \"entre les deux données\")"
   ]
  },
  {
   "cell_type": "code",
   "execution_count": null,
   "id": "exclusive-pollution",
   "metadata": {},
   "outputs": [],
   "source": []
  },
  {
   "cell_type": "code",
   "execution_count": 198,
   "id": "defined-offer",
   "metadata": {},
   "outputs": [
    {
     "data": {
      "text/plain": [
       "{'U': 10.650165016501651, 'R': 9.540229885057471}"
      ]
     },
     "execution_count": 198,
     "metadata": {},
     "output_type": "execute_result"
    }
   ],
   "source": [
    "dico = {label: recuperate_labels_from_one_label(df, \"address\", label) for label in label_adresse}\n",
    "dico"
   ]
  },
  {
   "cell_type": "code",
   "execution_count": 199,
   "id": "coordinated-chinese",
   "metadata": {},
   "outputs": [
    {
     "data": {
      "text/plain": [
       "{'U': 10.874587458745877, 'R': 9.957854406130268}"
      ]
     },
     "execution_count": 199,
     "metadata": {},
     "output_type": "execute_result"
    }
   ],
   "source": [
    "dico = {label: recuperate_labels_from_multipl_label(df, \"address\", label) for label in label_adresse}\n",
    "dico"
   ]
  },
  {
   "cell_type": "markdown",
   "id": "respiratory-shore",
   "metadata": {},
   "source": [
    "On retrouve une certaine asymétrie de donnée. Que nous devons vérifier avec un test d'anova et de chi 2."
   ]
  },
  {
   "cell_type": "code",
   "execution_count": null,
   "id": "consistent-characterization",
   "metadata": {},
   "outputs": [],
   "source": []
  },
  {
   "cell_type": "code",
   "execution_count": null,
   "id": "unique-equation",
   "metadata": {},
   "outputs": [],
   "source": []
  },
  {
   "cell_type": "code",
   "execution_count": null,
   "id": "stuck-portuguese",
   "metadata": {},
   "outputs": [],
   "source": []
  },
  {
   "cell_type": "code",
   "execution_count": null,
   "id": "close-vancouver",
   "metadata": {},
   "outputs": [],
   "source": []
  },
  {
   "cell_type": "markdown",
   "id": "disabled-columbia",
   "metadata": {},
   "source": [
    "### Family size and final note"
   ]
  },
  {
   "cell_type": "code",
   "execution_count": 200,
   "id": "jewish-clothing",
   "metadata": {},
   "outputs": [
    {
     "data": {
      "text/html": [
       "<div>\n",
       "<style scoped>\n",
       "    .dataframe tbody tr th:only-of-type {\n",
       "        vertical-align: middle;\n",
       "    }\n",
       "\n",
       "    .dataframe tbody tr th {\n",
       "        vertical-align: top;\n",
       "    }\n",
       "\n",
       "    .dataframe thead th {\n",
       "        text-align: right;\n",
       "    }\n",
       "</style>\n",
       "<table border=\"1\" class=\"dataframe\">\n",
       "  <thead>\n",
       "    <tr style=\"text-align: right;\">\n",
       "      <th></th>\n",
       "      <th>sex</th>\n",
       "      <th>age</th>\n",
       "      <th>address</th>\n",
       "      <th>famsize</th>\n",
       "      <th>Pstatus</th>\n",
       "      <th>Medu</th>\n",
       "      <th>Fedu</th>\n",
       "      <th>Mjob</th>\n",
       "      <th>Fjob</th>\n",
       "      <th>reason</th>\n",
       "      <th>...</th>\n",
       "      <th>famrel</th>\n",
       "      <th>freetime</th>\n",
       "      <th>goout</th>\n",
       "      <th>Dalc</th>\n",
       "      <th>Walc</th>\n",
       "      <th>health</th>\n",
       "      <th>absences</th>\n",
       "      <th>G1</th>\n",
       "      <th>G2</th>\n",
       "      <th>G3</th>\n",
       "    </tr>\n",
       "  </thead>\n",
       "  <tbody>\n",
       "    <tr>\n",
       "      <th>0</th>\n",
       "      <td>F</td>\n",
       "      <td>18</td>\n",
       "      <td>U</td>\n",
       "      <td>GT3</td>\n",
       "      <td>A</td>\n",
       "      <td>4</td>\n",
       "      <td>4</td>\n",
       "      <td>at_home</td>\n",
       "      <td>teacher</td>\n",
       "      <td>course</td>\n",
       "      <td>...</td>\n",
       "      <td>4</td>\n",
       "      <td>3</td>\n",
       "      <td>4</td>\n",
       "      <td>1</td>\n",
       "      <td>1</td>\n",
       "      <td>3</td>\n",
       "      <td>6</td>\n",
       "      <td>5</td>\n",
       "      <td>6</td>\n",
       "      <td>6</td>\n",
       "    </tr>\n",
       "    <tr>\n",
       "      <th>1</th>\n",
       "      <td>F</td>\n",
       "      <td>17</td>\n",
       "      <td>U</td>\n",
       "      <td>GT3</td>\n",
       "      <td>T</td>\n",
       "      <td>1</td>\n",
       "      <td>1</td>\n",
       "      <td>at_home</td>\n",
       "      <td>other</td>\n",
       "      <td>course</td>\n",
       "      <td>...</td>\n",
       "      <td>5</td>\n",
       "      <td>3</td>\n",
       "      <td>3</td>\n",
       "      <td>1</td>\n",
       "      <td>1</td>\n",
       "      <td>3</td>\n",
       "      <td>4</td>\n",
       "      <td>5</td>\n",
       "      <td>5</td>\n",
       "      <td>6</td>\n",
       "    </tr>\n",
       "    <tr>\n",
       "      <th>2</th>\n",
       "      <td>F</td>\n",
       "      <td>15</td>\n",
       "      <td>U</td>\n",
       "      <td>LE3</td>\n",
       "      <td>T</td>\n",
       "      <td>1</td>\n",
       "      <td>1</td>\n",
       "      <td>at_home</td>\n",
       "      <td>other</td>\n",
       "      <td>other</td>\n",
       "      <td>...</td>\n",
       "      <td>4</td>\n",
       "      <td>3</td>\n",
       "      <td>2</td>\n",
       "      <td>2</td>\n",
       "      <td>3</td>\n",
       "      <td>3</td>\n",
       "      <td>10</td>\n",
       "      <td>7</td>\n",
       "      <td>8</td>\n",
       "      <td>10</td>\n",
       "    </tr>\n",
       "    <tr>\n",
       "      <th>3</th>\n",
       "      <td>F</td>\n",
       "      <td>15</td>\n",
       "      <td>U</td>\n",
       "      <td>GT3</td>\n",
       "      <td>T</td>\n",
       "      <td>4</td>\n",
       "      <td>2</td>\n",
       "      <td>health</td>\n",
       "      <td>services</td>\n",
       "      <td>home</td>\n",
       "      <td>...</td>\n",
       "      <td>3</td>\n",
       "      <td>2</td>\n",
       "      <td>2</td>\n",
       "      <td>1</td>\n",
       "      <td>1</td>\n",
       "      <td>5</td>\n",
       "      <td>2</td>\n",
       "      <td>15</td>\n",
       "      <td>14</td>\n",
       "      <td>15</td>\n",
       "    </tr>\n",
       "    <tr>\n",
       "      <th>4</th>\n",
       "      <td>F</td>\n",
       "      <td>16</td>\n",
       "      <td>U</td>\n",
       "      <td>GT3</td>\n",
       "      <td>T</td>\n",
       "      <td>3</td>\n",
       "      <td>3</td>\n",
       "      <td>other</td>\n",
       "      <td>other</td>\n",
       "      <td>home</td>\n",
       "      <td>...</td>\n",
       "      <td>4</td>\n",
       "      <td>3</td>\n",
       "      <td>2</td>\n",
       "      <td>1</td>\n",
       "      <td>2</td>\n",
       "      <td>5</td>\n",
       "      <td>4</td>\n",
       "      <td>6</td>\n",
       "      <td>10</td>\n",
       "      <td>10</td>\n",
       "    </tr>\n",
       "  </tbody>\n",
       "</table>\n",
       "<p>5 rows × 32 columns</p>\n",
       "</div>"
      ],
      "text/plain": [
       "  sex  age address famsize Pstatus  Medu  Fedu     Mjob      Fjob  reason  \\\n",
       "0   F   18       U     GT3       A     4     4  at_home   teacher  course   \n",
       "1   F   17       U     GT3       T     1     1  at_home     other  course   \n",
       "2   F   15       U     LE3       T     1     1  at_home     other   other   \n",
       "3   F   15       U     GT3       T     4     2   health  services    home   \n",
       "4   F   16       U     GT3       T     3     3    other     other    home   \n",
       "\n",
       "   ... famrel  freetime  goout  Dalc Walc health absences  G1  G2  G3  \n",
       "0  ...      4         3      4     1    1      3        6   5   6   6  \n",
       "1  ...      5         3      3     1    1      3        4   5   5   6  \n",
       "2  ...      4         3      2     2    3      3       10   7   8  10  \n",
       "3  ...      3         2      2     1    1      5        2  15  14  15  \n",
       "4  ...      4         3      2     1    2      5        4   6  10  10  \n",
       "\n",
       "[5 rows x 32 columns]"
      ]
     },
     "execution_count": 200,
     "metadata": {},
     "output_type": "execute_result"
    }
   ],
   "source": [
    "df.head()"
   ]
  },
  {
   "cell_type": "code",
   "execution_count": null,
   "id": "applied-national",
   "metadata": {},
   "outputs": [],
   "source": []
  },
  {
   "cell_type": "code",
   "execution_count": 201,
   "id": "impressed-tennessee",
   "metadata": {},
   "outputs": [
    {
     "data": {
      "text/plain": [
       "array(['GT3', 'LE3'], dtype=object)"
      ]
     },
     "execution_count": 201,
     "metadata": {},
     "output_type": "execute_result"
    }
   ],
   "source": [
    "famsize = df[\"famsize\"].unique()\n",
    "famsize"
   ]
  },
  {
   "cell_type": "code",
   "execution_count": 202,
   "id": "revolutionary-nursing",
   "metadata": {},
   "outputs": [
    {
     "data": {
      "text/plain": [
       "{'GT3': 277, 'LE3': 113}"
      ]
     },
     "execution_count": 202,
     "metadata": {},
     "output_type": "execute_result"
    }
   ],
   "source": [
    "fam_size = {label: len(df[df[\"famsize\"] == label]) for label in famsize}\n",
    "fam_size"
   ]
  },
  {
   "cell_type": "markdown",
   "id": "focused-snowboard",
   "metadata": {},
   "source": [
    "Il semble que nous ayons 281 familles > 3. Contre 114 familles <= 3."
   ]
  },
  {
   "cell_type": "markdown",
   "id": "hollow-dominant",
   "metadata": {},
   "source": [
    "Est-ce que le nombre de personne dans une famille influence t-il la note finale ?"
   ]
  },
  {
   "cell_type": "code",
   "execution_count": null,
   "id": "convenient-offense",
   "metadata": {},
   "outputs": [],
   "source": []
  },
  {
   "cell_type": "code",
   "execution_count": 203,
   "id": "cleared-month",
   "metadata": {},
   "outputs": [
    {
     "data": {
      "text/plain": [
       "{'GT3': 10.151624548736462, 'LE3': 11.017699115044248}"
      ]
     },
     "execution_count": 203,
     "metadata": {},
     "output_type": "execute_result"
    }
   ],
   "source": [
    "dico = {label: recuperate_labels_from_one_label(df, \"famsize\", label) for label in fam_size}\n",
    "dico"
   ]
  },
  {
   "cell_type": "code",
   "execution_count": 204,
   "id": "bronze-extraction",
   "metadata": {},
   "outputs": [
    {
     "data": {
      "text/plain": [
       "{'GT3': 10.4632972322503, 'LE3': 11.176991150442477}"
      ]
     },
     "execution_count": 204,
     "metadata": {},
     "output_type": "execute_result"
    }
   ],
   "source": [
    "dico = {label: recuperate_labels_from_multipl_label(df, \"famsize\", label) for label in fam_size}\n",
    "dico"
   ]
  },
  {
   "cell_type": "code",
   "execution_count": null,
   "id": "unlimited-improvement",
   "metadata": {},
   "outputs": [],
   "source": []
  },
  {
   "cell_type": "markdown",
   "id": "purple-array",
   "metadata": {},
   "source": [
    "Il semble qu'il n'y ai pas de correlation entre le nombre de personne dans une famille et la note finale.\n",
    "\n",
    "Il semble qu'il n'y ai pas de correlation entre le nombre de personne dans une famille et la moyenne des notes."
   ]
  },
  {
   "cell_type": "code",
   "execution_count": null,
   "id": "decreased-newman",
   "metadata": {},
   "outputs": [],
   "source": []
  },
  {
   "cell_type": "code",
   "execution_count": null,
   "id": "structural-saturn",
   "metadata": {},
   "outputs": [],
   "source": []
  },
  {
   "cell_type": "markdown",
   "id": "exotic-visitor",
   "metadata": {},
   "source": [
    "### Pstatus et la note final"
   ]
  },
  {
   "cell_type": "code",
   "execution_count": 215,
   "id": "tracked-livestock",
   "metadata": {},
   "outputs": [
    {
     "data": {
      "text/plain": [
       "array(['A', 'T'], dtype=object)"
      ]
     },
     "execution_count": 215,
     "metadata": {},
     "output_type": "execute_result"
    }
   ],
   "source": [
    "Pstatus = df[\"Pstatus\"].unique()\n",
    "Pstatus"
   ]
  },
  {
   "cell_type": "code",
   "execution_count": null,
   "id": "happy-religion",
   "metadata": {},
   "outputs": [],
   "source": []
  },
  {
   "cell_type": "code",
   "execution_count": 216,
   "id": "compact-moore",
   "metadata": {},
   "outputs": [
    {
     "data": {
      "text/plain": [
       "array(['A', 'T'], dtype=object)"
      ]
     },
     "execution_count": 216,
     "metadata": {},
     "output_type": "execute_result"
    }
   ],
   "source": [
    "Pstatus_dico = {label: len(df[df[\"Pstatus\"] == label]) for label in Pstatus}\n",
    "Pstatus"
   ]
  },
  {
   "cell_type": "markdown",
   "id": "stock-consequence",
   "metadata": {},
   "source": [
    "Il semble que nous avons une asymétrie entre nos deux variables."
   ]
  },
  {
   "cell_type": "code",
   "execution_count": null,
   "id": "opened-bridal",
   "metadata": {},
   "outputs": [],
   "source": []
  },
  {
   "cell_type": "code",
   "execution_count": 217,
   "id": "presidential-february",
   "metadata": {},
   "outputs": [
    {
     "name": "stdout",
     "output_type": "stream",
     "text": [
      "{'A': 11.076923076923077, 'T': 10.327635327635328}\n"
     ]
    }
   ],
   "source": [
    "dico = {label: recuperate_labels_from_one_label(df, \"Pstatus\", label) for label in Pstatus}\n",
    "print(dico)"
   ]
  },
  {
   "cell_type": "code",
   "execution_count": 218,
   "id": "acoustic-temperature",
   "metadata": {},
   "outputs": [
    {
     "data": {
      "text/plain": [
       "{'A': 11.034188034188034, 'T': 10.629629629629628}"
      ]
     },
     "execution_count": 218,
     "metadata": {},
     "output_type": "execute_result"
    }
   ],
   "source": [
    "dico = {label: recuperate_labels_from_multipl_label(df, \"Pstatus\", label) for label in Pstatus}\n",
    "dico"
   ]
  },
  {
   "cell_type": "code",
   "execution_count": null,
   "id": "behind-occupation",
   "metadata": {},
   "outputs": [],
   "source": []
  },
  {
   "cell_type": "markdown",
   "id": "bacterial-technique",
   "metadata": {},
   "source": [
    "Il semble qu'il n'y est pas de corrélation entre la situation famillialle et la note finale."
   ]
  },
  {
   "cell_type": "code",
   "execution_count": null,
   "id": "fresh-gathering",
   "metadata": {},
   "outputs": [],
   "source": []
  },
  {
   "cell_type": "code",
   "execution_count": null,
   "id": "electoral-gallery",
   "metadata": {},
   "outputs": [],
   "source": []
  },
  {
   "cell_type": "code",
   "execution_count": 211,
   "id": "earlier-format",
   "metadata": {},
   "outputs": [
    {
     "data": {
      "text/html": [
       "<div>\n",
       "<style scoped>\n",
       "    .dataframe tbody tr th:only-of-type {\n",
       "        vertical-align: middle;\n",
       "    }\n",
       "\n",
       "    .dataframe tbody tr th {\n",
       "        vertical-align: top;\n",
       "    }\n",
       "\n",
       "    .dataframe thead th {\n",
       "        text-align: right;\n",
       "    }\n",
       "</style>\n",
       "<table border=\"1\" class=\"dataframe\">\n",
       "  <thead>\n",
       "    <tr style=\"text-align: right;\">\n",
       "      <th></th>\n",
       "      <th>sex</th>\n",
       "      <th>age</th>\n",
       "      <th>address</th>\n",
       "      <th>famsize</th>\n",
       "      <th>Pstatus</th>\n",
       "      <th>Medu</th>\n",
       "      <th>Fedu</th>\n",
       "      <th>Mjob</th>\n",
       "      <th>Fjob</th>\n",
       "      <th>reason</th>\n",
       "      <th>...</th>\n",
       "      <th>famrel</th>\n",
       "      <th>freetime</th>\n",
       "      <th>goout</th>\n",
       "      <th>Dalc</th>\n",
       "      <th>Walc</th>\n",
       "      <th>health</th>\n",
       "      <th>absences</th>\n",
       "      <th>G1</th>\n",
       "      <th>G2</th>\n",
       "      <th>G3</th>\n",
       "    </tr>\n",
       "  </thead>\n",
       "  <tbody>\n",
       "    <tr>\n",
       "      <th>0</th>\n",
       "      <td>F</td>\n",
       "      <td>18</td>\n",
       "      <td>U</td>\n",
       "      <td>GT3</td>\n",
       "      <td>A</td>\n",
       "      <td>4</td>\n",
       "      <td>4</td>\n",
       "      <td>at_home</td>\n",
       "      <td>teacher</td>\n",
       "      <td>course</td>\n",
       "      <td>...</td>\n",
       "      <td>4</td>\n",
       "      <td>3</td>\n",
       "      <td>4</td>\n",
       "      <td>1</td>\n",
       "      <td>1</td>\n",
       "      <td>3</td>\n",
       "      <td>6</td>\n",
       "      <td>5</td>\n",
       "      <td>6</td>\n",
       "      <td>6</td>\n",
       "    </tr>\n",
       "    <tr>\n",
       "      <th>1</th>\n",
       "      <td>F</td>\n",
       "      <td>17</td>\n",
       "      <td>U</td>\n",
       "      <td>GT3</td>\n",
       "      <td>T</td>\n",
       "      <td>1</td>\n",
       "      <td>1</td>\n",
       "      <td>at_home</td>\n",
       "      <td>other</td>\n",
       "      <td>course</td>\n",
       "      <td>...</td>\n",
       "      <td>5</td>\n",
       "      <td>3</td>\n",
       "      <td>3</td>\n",
       "      <td>1</td>\n",
       "      <td>1</td>\n",
       "      <td>3</td>\n",
       "      <td>4</td>\n",
       "      <td>5</td>\n",
       "      <td>5</td>\n",
       "      <td>6</td>\n",
       "    </tr>\n",
       "    <tr>\n",
       "      <th>2</th>\n",
       "      <td>F</td>\n",
       "      <td>15</td>\n",
       "      <td>U</td>\n",
       "      <td>LE3</td>\n",
       "      <td>T</td>\n",
       "      <td>1</td>\n",
       "      <td>1</td>\n",
       "      <td>at_home</td>\n",
       "      <td>other</td>\n",
       "      <td>other</td>\n",
       "      <td>...</td>\n",
       "      <td>4</td>\n",
       "      <td>3</td>\n",
       "      <td>2</td>\n",
       "      <td>2</td>\n",
       "      <td>3</td>\n",
       "      <td>3</td>\n",
       "      <td>10</td>\n",
       "      <td>7</td>\n",
       "      <td>8</td>\n",
       "      <td>10</td>\n",
       "    </tr>\n",
       "    <tr>\n",
       "      <th>3</th>\n",
       "      <td>F</td>\n",
       "      <td>15</td>\n",
       "      <td>U</td>\n",
       "      <td>GT3</td>\n",
       "      <td>T</td>\n",
       "      <td>4</td>\n",
       "      <td>2</td>\n",
       "      <td>health</td>\n",
       "      <td>services</td>\n",
       "      <td>home</td>\n",
       "      <td>...</td>\n",
       "      <td>3</td>\n",
       "      <td>2</td>\n",
       "      <td>2</td>\n",
       "      <td>1</td>\n",
       "      <td>1</td>\n",
       "      <td>5</td>\n",
       "      <td>2</td>\n",
       "      <td>15</td>\n",
       "      <td>14</td>\n",
       "      <td>15</td>\n",
       "    </tr>\n",
       "    <tr>\n",
       "      <th>4</th>\n",
       "      <td>F</td>\n",
       "      <td>16</td>\n",
       "      <td>U</td>\n",
       "      <td>GT3</td>\n",
       "      <td>T</td>\n",
       "      <td>3</td>\n",
       "      <td>3</td>\n",
       "      <td>other</td>\n",
       "      <td>other</td>\n",
       "      <td>home</td>\n",
       "      <td>...</td>\n",
       "      <td>4</td>\n",
       "      <td>3</td>\n",
       "      <td>2</td>\n",
       "      <td>1</td>\n",
       "      <td>2</td>\n",
       "      <td>5</td>\n",
       "      <td>4</td>\n",
       "      <td>6</td>\n",
       "      <td>10</td>\n",
       "      <td>10</td>\n",
       "    </tr>\n",
       "  </tbody>\n",
       "</table>\n",
       "<p>5 rows × 32 columns</p>\n",
       "</div>"
      ],
      "text/plain": [
       "  sex  age address famsize Pstatus  Medu  Fedu     Mjob      Fjob  reason  \\\n",
       "0   F   18       U     GT3       A     4     4  at_home   teacher  course   \n",
       "1   F   17       U     GT3       T     1     1  at_home     other  course   \n",
       "2   F   15       U     LE3       T     1     1  at_home     other   other   \n",
       "3   F   15       U     GT3       T     4     2   health  services    home   \n",
       "4   F   16       U     GT3       T     3     3    other     other    home   \n",
       "\n",
       "   ... famrel  freetime  goout  Dalc Walc health absences  G1  G2  G3  \n",
       "0  ...      4         3      4     1    1      3        6   5   6   6  \n",
       "1  ...      5         3      3     1    1      3        4   5   5   6  \n",
       "2  ...      4         3      2     2    3      3       10   7   8  10  \n",
       "3  ...      3         2      2     1    1      5        2  15  14  15  \n",
       "4  ...      4         3      2     1    2      5        4   6  10  10  \n",
       "\n",
       "[5 rows x 32 columns]"
      ]
     },
     "execution_count": 211,
     "metadata": {},
     "output_type": "execute_result"
    }
   ],
   "source": [
    "df.head()"
   ]
  },
  {
   "cell_type": "code",
   "execution_count": null,
   "id": "alternate-feedback",
   "metadata": {},
   "outputs": [],
   "source": []
  },
  {
   "cell_type": "code",
   "execution_count": null,
   "id": "previous-transsexual",
   "metadata": {},
   "outputs": [],
   "source": []
  },
  {
   "cell_type": "code",
   "execution_count": null,
   "id": "physical-treasurer",
   "metadata": {},
   "outputs": [],
   "source": []
  },
  {
   "cell_type": "code",
   "execution_count": null,
   "id": "animated-independence",
   "metadata": {},
   "outputs": [],
   "source": []
  },
  {
   "cell_type": "code",
   "execution_count": null,
   "id": "stable-richardson",
   "metadata": {},
   "outputs": [],
   "source": []
  },
  {
   "cell_type": "code",
   "execution_count": 230,
   "id": "organic-settlement",
   "metadata": {},
   "outputs": [
    {
     "name": "stdout",
     "output_type": "stream",
     "text": [
      "Medu\n",
      "les variables\n",
      "[4 1 3 2 0]\n",
      "\n",
      "Nombre de variable\n",
      "{4: 130, 1: 58, 3: 97, 2: 102, 0: 3}\n",
      "\n",
      "{1: 8.706896551724139, 2: 9.735294117647058, 3: 10.24742268041237, 4: 11.738461538461538, 0: 13.0}\n",
      "-------------------------------------------------------------------------------------------------\n",
      "\n",
      "Fedu\n",
      "les variables\n",
      "[4 1 2 3 0]\n",
      "\n",
      "Nombre de variable\n",
      "{4: 96, 1: 80, 2: 112, 3: 100, 0: 2}\n",
      "\n",
      "{1: 9.2, 2: 10.160714285714286, 3: 10.66, 4: 11.364583333333334, 0: 13.0}\n",
      "-------------------------------------------------------------------------------------------------\n",
      "\n",
      "Mjob\n",
      "les variables\n",
      "['at_home' 'health' 'other' 'services' 'teacher']\n",
      "\n",
      "Nombre de variable\n",
      "{'at_home': 59, 'health': 33, 'other': 140, 'services': 100, 'teacher': 58}\n",
      "\n",
      "{'at_home': 9.152542372881356, 'other': 9.842857142857143, 'services': 11.0, 'teacher': 11.051724137931034, 'health': 12.06060606060606}\n",
      "-------------------------------------------------------------------------------------------------\n",
      "\n",
      "Fjob\n",
      "les variables\n",
      "['teacher' 'other' 'services' 'health' 'at_home']\n",
      "\n",
      "Nombre de variable\n",
      "{'teacher': 29, 'other': 214, 'services': 109, 'health': 18, 'at_home': 20}\n",
      "\n",
      "{'other': 10.149532710280374, 'at_home': 10.15, 'services': 10.330275229357799, 'health': 11.61111111111111, 'teacher': 11.96551724137931}\n",
      "-------------------------------------------------------------------------------------------------\n",
      "\n",
      "reason\n",
      "les variables\n",
      "['course' 'other' 'home' 'reputation']\n",
      "\n",
      "Nombre de variable\n",
      "{'course': 141, 'other': 35, 'home': 109, 'reputation': 105}\n",
      "\n",
      "{'course': 9.75177304964539, 'home': 10.256880733944953, 'reputation': 11.142857142857142, 'other': 11.257142857142858}\n",
      "-------------------------------------------------------------------------------------------------\n",
      "\n",
      "guardian\n",
      "les variables\n",
      "['mother' 'father' 'other']\n",
      "\n",
      "Nombre de variable\n",
      "{'mother': 272, 'father': 90, 'other': 28}\n",
      "\n",
      "{'other': 8.607142857142858, 'mother': 10.492647058823529, 'father': 10.688888888888888}\n",
      "-------------------------------------------------------------------------------------------------\n",
      "\n",
      "traveltime\n",
      "les variables\n",
      "[2 1 3 4]\n",
      "\n",
      "Nombre de variable\n",
      "{2: 106, 1: 253, 3: 23, 4: 8}\n",
      "\n",
      "{4: 8.75, 3: 9.26086956521739, 2: 9.858490566037736, 1: 10.786561264822135}\n",
      "-------------------------------------------------------------------------------------------------\n",
      "\n",
      "studytime\n",
      "les variables\n",
      "[2 3 1 4]\n",
      "\n",
      "Nombre de variable\n",
      "{2: 197, 3: 64, 1: 102, 4: 27}\n",
      "\n",
      "{1: 10.019607843137255, 2: 10.17766497461929, 4: 11.25925925925926, 3: 11.34375}\n",
      "-------------------------------------------------------------------------------------------------\n",
      "\n",
      "failures\n",
      "les variables\n",
      "[0 3 2 1]\n",
      "\n",
      "Nombre de variable\n",
      "{0: 311, 3: 14, 2: 15, 1: 50}\n",
      "\n",
      "{3: 5.428571428571429, 2: 5.466666666666667, 1: 8.12, 0: 11.231511254019292}\n",
      "-------------------------------------------------------------------------------------------------\n",
      "\n",
      "schoolsup\n",
      "les variables\n",
      "['yes' 'no']\n",
      "\n",
      "Nombre de variable\n",
      "{'yes': 51, 'no': 339}\n",
      "\n",
      "{'yes': 9.431372549019608, 'no': 10.548672566371682}\n",
      "-------------------------------------------------------------------------------------------------\n",
      "\n",
      "famsup\n",
      "les variables\n",
      "['no' 'yes']\n",
      "\n",
      "Nombre de variable\n",
      "{'no': 150, 'yes': 240}\n",
      "\n",
      "{'yes': 10.258333333333333, 'no': 10.633333333333333}\n",
      "-------------------------------------------------------------------------------------------------\n",
      "\n",
      "paid\n",
      "les variables\n",
      "['no' 'yes']\n",
      "\n",
      "Nombre de variable\n",
      "{'no': 211, 'yes': 179}\n",
      "\n",
      "{'no': 9.971563981042655, 'yes': 10.910614525139664}\n",
      "-------------------------------------------------------------------------------------------------\n",
      "\n",
      "activities\n",
      "les variables\n",
      "['no' 'yes']\n",
      "\n",
      "Nombre de variable\n",
      "{'no': 190, 'yes': 200}\n",
      "\n",
      "{'no': 10.352631578947369, 'yes': 10.45}\n",
      "-------------------------------------------------------------------------------------------------\n",
      "\n",
      "nursery\n",
      "les variables\n",
      "['yes' 'no']\n",
      "\n",
      "Nombre de variable\n",
      "{'yes': 312, 'no': 78}\n",
      "\n",
      "{'no': 9.948717948717949, 'yes': 10.51602564102564}\n",
      "-------------------------------------------------------------------------------------------------\n",
      "\n",
      "higher\n",
      "les variables\n",
      "['yes' 'no']\n",
      "\n",
      "Nombre de variable\n",
      "{'yes': 371, 'no': 19}\n",
      "\n",
      "{'no': 6.7368421052631575, 'yes': 10.590296495956874}\n",
      "-------------------------------------------------------------------------------------------------\n",
      "\n",
      "internet\n",
      "les variables\n",
      "['no' 'yes']\n",
      "\n",
      "Nombre de variable\n",
      "{'no': 63, 'yes': 327}\n",
      "\n",
      "{'no': 9.317460317460318, 'yes': 10.611620795107033}\n",
      "-------------------------------------------------------------------------------------------------\n",
      "\n",
      "romantic\n",
      "les variables\n",
      "['no' 'yes']\n",
      "\n",
      "Nombre de variable\n",
      "{'no': 260, 'yes': 130}\n",
      "\n",
      "{'yes': 9.546153846153846, 'no': 10.830769230769231}\n",
      "-------------------------------------------------------------------------------------------------\n",
      "\n",
      "famrel\n",
      "les variables\n",
      "[4 5 3 1 2]\n",
      "\n",
      "Nombre de variable\n",
      "{4: 195, 5: 101, 3: 68, 1: 8, 2: 18}\n",
      "\n",
      "{2: 9.88888888888889, 3: 10.044117647058824, 4: 10.35897435897436, 1: 10.625, 5: 10.801980198019802}\n",
      "-------------------------------------------------------------------------------------------------\n",
      "\n",
      "freetime\n",
      "les variables\n",
      "[3 2 4 1 5]\n",
      "\n",
      "Nombre de variable\n",
      "{3: 157, 2: 64, 4: 113, 1: 19, 5: 37}\n",
      "\n",
      "{3: 9.78343949044586, 1: 9.842105263157896, 4: 10.4070796460177, 5: 11.297297297297296, 2: 11.5625}\n",
      "-------------------------------------------------------------------------------------------------\n",
      "\n",
      "goout\n",
      "les variables\n",
      "[4 3 2 1 5]\n",
      "\n",
      "Nombre de variable\n",
      "{4: 85, 3: 127, 2: 103, 1: 23, 5: 52}\n",
      "\n",
      "{5: 9.057692307692308, 4: 9.658823529411764, 1: 9.869565217391305, 3: 10.905511811023622, 2: 11.194174757281553}\n",
      "-------------------------------------------------------------------------------------------------\n",
      "\n",
      "Dalc\n",
      "les variables\n",
      "[1 2 5 3 4]\n",
      "\n",
      "Nombre de variable\n",
      "{1: 274, 2: 75, 5: 8, 3: 25, 4: 8}\n",
      "\n",
      "{2: 9.253333333333334, 4: 10.0, 3: 10.64, 1: 10.68978102189781, 5: 11.0}\n",
      "-------------------------------------------------------------------------------------------------\n",
      "\n",
      "Walc\n",
      "les variables\n",
      "[1 3 2 4 5]\n",
      "\n",
      "Nombre de variable\n",
      "{1: 149, 3: 79, 2: 85, 4: 51, 5: 26}\n",
      "\n",
      "{4: 9.686274509803921, 2: 10.08235294117647, 5: 10.26923076923077, 1: 10.657718120805368, 3: 10.772151898734178}\n",
      "-------------------------------------------------------------------------------------------------\n",
      "\n",
      "health\n",
      "les variables\n",
      "[3 5 1 2 4]\n",
      "\n",
      "Nombre de variable\n",
      "{3: 89, 5: 145, 1: 46, 2: 45, 4: 65}\n",
      "\n",
      "{3: 9.98876404494382, 4: 10.123076923076923, 2: 10.222222222222221, 5: 10.344827586206897, 1: 11.956521739130435}\n",
      "-------------------------------------------------------------------------------------------------\n",
      "\n",
      "absences\n",
      "les variables\n",
      "[ 6  4 10  2  0 16 14  7  8 25 12 54 18 26 20 56 24 28  5 13 15 22  3 21\n",
      "  1 75 30 19  9 11 38 40 23 17]\n",
      "\n",
      "Nombre de variable\n",
      "{6: 31, 4: 52, 10: 17, 2: 65, 0: 114, 16: 6, 14: 12, 7: 7, 8: 22, 25: 1, 12: 12, 54: 1, 18: 5, 26: 1, 20: 4, 56: 1, 24: 1, 28: 1, 5: 5, 13: 3, 15: 3, 22: 3, 3: 7, 21: 1, 1: 3, 75: 1, 30: 1, 19: 1, 9: 3, 11: 2, 38: 1, 40: 1, 23: 1, 17: 1}\n",
      "\n",
      "{26: 6.0, 56: 8.0, 22: 8.0, 30: 8.0, 38: 8.0, 15: 8.333333333333334, 0: 8.359649122807017, 18: 8.4, 28: 9.0, 75: 9.0, 14: 9.333333333333334, 19: 10.0, 17: 10.0, 16: 10.166666666666666, 8: 10.590909090909092, 12: 10.75, 25: 11.0, 54: 11.0, 40: 11.0, 4: 11.211538461538462, 10: 11.235294117647058, 20: 11.5, 5: 11.6, 6: 11.774193548387096, 7: 11.857142857142858, 2: 11.907692307692308, 3: 12.142857142857142, 13: 12.666666666666666, 1: 13.0, 11: 13.0, 23: 13.0, 9: 13.333333333333334, 24: 18.0, 21: 18.0}\n",
      "-------------------------------------------------------------------------------------------------\n",
      "\n",
      "G1\n",
      "les variables\n",
      "[ 5  7 15  6 12 16 14 10 13  8 11  9 17 19 18  4  3]\n",
      "\n",
      "Nombre de variable\n",
      "{5: 7, 7: 37, 15: 23, 6: 23, 12: 35, 16: 22, 14: 30, 10: 50, 13: 33, 8: 41, 11: 39, 9: 30, 17: 7, 19: 3, 18: 8, 4: 1, 3: 1}\n",
      "\n",
      "{4: 0.0, 6: 4.043478260869565, 5: 4.428571428571429, 3: 5.0, 7: 5.594594594594595, 9: 8.033333333333333, 8: 8.121951219512194, 10: 9.3, 11: 10.743589743589743, 12: 11.971428571428572, 13: 12.757575757575758, 14: 13.8, 15: 14.652173913043478, 16: 16.045454545454547, 17: 16.714285714285715, 18: 18.125, 19: 19.0}\n",
      "-------------------------------------------------------------------------------------------------\n",
      "\n",
      "G2\n",
      "les variables\n",
      "[ 6  5  8 14 10 15 12 18 16 13  9 11  7 19 17  4  0]\n",
      "\n",
      "Nombre de variable\n",
      "{6: 14, 5: 15, 8: 30, 14: 22, 10: 46, 15: 34, 12: 41, 18: 11, 16: 13, 13: 37, 9: 49, 11: 35, 7: 21, 19: 3, 17: 5, 4: 1, 0: 13}\n",
      "\n",
      "{4: 0.0, 0: 0.0, 5: 3.2666666666666666, 6: 4.785714285714286, 7: 5.904761904761905, 8: 7.433333333333334, 9: 8.204081632653061, 10: 9.782608695652174, 11: 10.942857142857143, 12: 11.926829268292684, 13: 13.108108108108109, 14: 14.090909090909092, 15: 15.294117647058824, 16: 16.076923076923077, 17: 17.4, 18: 18.272727272727273, 19: 19.333333333333332}\n",
      "-------------------------------------------------------------------------------------------------\n",
      "\n",
      "G3\n",
      "les variables\n",
      "[ 6 10 15 11 19  9 12 14 16  5  8 17 18 13 20  7  0  4]\n",
      "\n",
      "Nombre de variable\n",
      "{6: 15, 10: 56, 15: 32, 11: 47, 19: 5, 9: 27, 12: 31, 14: 27, 16: 16, 5: 7, 8: 31, 17: 6, 18: 11, 13: 31, 20: 1, 7: 8, 0: 38, 4: 1}\n",
      "\n",
      "{0: 0.0, 4: 4.0, 5: 5.0, 6: 6.0, 7: 7.0, 8: 8.0, 9: 9.0, 10: 10.0, 11: 11.0, 12: 12.0, 13: 13.0, 14: 14.0, 15: 15.0, 16: 16.0, 17: 17.0, 18: 18.0, 19: 19.0, 20: 20.0}\n",
      "-------------------------------------------------------------------------------------------------\n",
      "\n"
     ]
    }
   ],
   "source": [
    "labels = ['Medu', 'Fedu', 'Mjob', 'Fjob', 'reason', 'guardian', 'traveltime', 'studytime',\n",
    "          'failures', 'schoolsup', 'famsup', 'paid', 'activities', 'nursery', 'higher', \n",
    "          'internet', 'romantic', 'famrel', 'freetime', 'goout', 'Dalc', 'Walc',\n",
    "          'health', 'absences', 'G1', 'G2', 'G3']\n",
    "\n",
    "for LABEL in labels:\n",
    "\n",
    "    print(LABEL)\n",
    "\n",
    "    label_container = df[LABEL].unique()\n",
    "    \n",
    "    print(\"les variables\")\n",
    "    print(label_container)\n",
    "    print(\"\")\n",
    "    \n",
    "    dico = {label: len(df[df[LABEL] == label]) for label in label_container}\n",
    "    \n",
    "    print(\"Nombre de variable\")\n",
    "    print(dico)\n",
    "    print(\"\")\n",
    "\n",
    "    final_note = {label: recuperate_labels_from_one_label(df, LABEL, label) for label in label_container}\n",
    "    final_note = dict(sorted(final_note.items(), key=lambda item: item[1]))\n",
    "\n",
    "    print(final_note)\n",
    "\n",
    "    print(\"-------------------------------------------------------------------------------------------------\")\n",
    "    print(\"\")\n"
   ]
  },
  {
   "cell_type": "code",
   "execution_count": 242,
   "id": "guilty-gross",
   "metadata": {},
   "outputs": [],
   "source": [
    "# Supprimer les données non représentative"
   ]
  },
  {
   "cell_type": "code",
   "execution_count": null,
   "id": "detailed-behavior",
   "metadata": {},
   "outputs": [],
   "source": [
    "# S'assurer avec un test d'Anova."
   ]
  },
  {
   "cell_type": "code",
   "execution_count": null,
   "id": "designing-software",
   "metadata": {},
   "outputs": [],
   "source": [
    "# supprimer des données en fonction des moyennes."
   ]
  },
  {
   "cell_type": "code",
   "execution_count": null,
   "id": "arabic-store",
   "metadata": {},
   "outputs": [],
   "source": [
    "# mettre des graphes."
   ]
  },
  {
   "cell_type": "code",
   "execution_count": null,
   "id": "known-bottom",
   "metadata": {},
   "outputs": [],
   "source": []
  },
  {
   "cell_type": "code",
   "execution_count": null,
   "id": "green-occasions",
   "metadata": {},
   "outputs": [],
   "source": []
  },
  {
   "cell_type": "code",
   "execution_count": 239,
   "id": "interstate-saturn",
   "metadata": {},
   "outputs": [],
   "source": [
    "df = pd.get_dummies(df, drop_first=False)"
   ]
  },
  {
   "cell_type": "code",
   "execution_count": null,
   "id": "realistic-constitutional",
   "metadata": {},
   "outputs": [],
   "source": []
  },
  {
   "cell_type": "code",
   "execution_count": null,
   "id": "nervous-namibia",
   "metadata": {},
   "outputs": [],
   "source": []
  },
  {
   "cell_type": "code",
   "execution_count": null,
   "id": "colonial-gender",
   "metadata": {},
   "outputs": [],
   "source": []
  },
  {
   "cell_type": "code",
   "execution_count": null,
   "id": "ranging-stream",
   "metadata": {},
   "outputs": [],
   "source": []
  },
  {
   "cell_type": "code",
   "execution_count": 237,
   "id": "annoying-momentum",
   "metadata": {},
   "outputs": [],
   "source": [
    "# Normaliser les data avec:\n",
    "    # soit: normalized_df=(df-df.mean())/df.std()\n",
    "    # soit: normalized_df=(df-df.min())/(df.max()-df.min())"
   ]
  },
  {
   "cell_type": "code",
   "execution_count": null,
   "id": "stupid-humanity",
   "metadata": {},
   "outputs": [],
   "source": []
  },
  {
   "cell_type": "code",
   "execution_count": null,
   "id": "incorporate-gauge",
   "metadata": {},
   "outputs": [],
   "source": [
    "# Essayer un grid search \n",
    "    # knn = [ k: {1, 3, 5, 7} ]\n",
    "    #random forest = [ deepth: {5, 10, 15, 20, 25, 30, 100}]"
   ]
  },
  {
   "cell_type": "code",
   "execution_count": null,
   "id": "favorite-highland",
   "metadata": {},
   "outputs": [],
   "source": [
    "# Cross validation k-fold -> évite le suraprentissage"
   ]
  },
  {
   "cell_type": "code",
   "execution_count": null,
   "id": "ambient-shelf",
   "metadata": {},
   "outputs": [],
   "source": []
  },
  {
   "cell_type": "code",
   "execution_count": 232,
   "id": "danish-loading",
   "metadata": {},
   "outputs": [],
   "source": [
    "# regression linéaire\n",
    "    # ridge -> évite le suraprentissage\n",
    "    # lasso -> évite le suraprentissage\n",
    "    # elastic net -> combo de ridge + lasso"
   ]
  },
  {
   "cell_type": "code",
   "execution_count": 233,
   "id": "proved-comparison",
   "metadata": {},
   "outputs": [],
   "source": [
    "# Knn -> parfait pour les petites données à cause de la sauvegarde des data en mémoire, sensible au over data"
   ]
  },
  {
   "cell_type": "code",
   "execution_count": 234,
   "id": "decent-environment",
   "metadata": {},
   "outputs": [],
   "source": [
    "# Svr -> généralise bien avec peu de donnée / baisse de perf avec beaucoup de perf (one vs all très long)"
   ]
  },
  {
   "cell_type": "code",
   "execution_count": 235,
   "id": "terminal-violence",
   "metadata": {},
   "outputs": [],
   "source": [
    "#random forest\n",
    "    # bagging -> plusieurs entité d'un meme model (model faible) qui forme un gros model ou p >= 51%\n",
    "        # bootstraping: entrainement sur jeu aléatoire de donnée puis replacement...\n",
    "    # boosting -> sequentielle, les modèles apprenent de l'ancien\n",
    "        # adaboost -> plusieurs arbre de decision qui forme une foret\n",
    "    # stacking -> un dernier modele qui dit qui a tord qui a faux.\n",
    "    # xgboost -> avec arbre. Merci framework."
   ]
  },
  {
   "cell_type": "code",
   "execution_count": null,
   "id": "sharp-telescope",
   "metadata": {},
   "outputs": [],
   "source": []
  },
  {
   "cell_type": "code",
   "execution_count": null,
   "id": "welsh-savannah",
   "metadata": {},
   "outputs": [],
   "source": []
  },
  {
   "cell_type": "code",
   "execution_count": null,
   "id": "complicated-return",
   "metadata": {},
   "outputs": [],
   "source": []
  },
  {
   "cell_type": "code",
   "execution_count": null,
   "id": "subject-clark",
   "metadata": {},
   "outputs": [],
   "source": []
  },
  {
   "cell_type": "code",
   "execution_count": null,
   "id": "meaning-north",
   "metadata": {},
   "outputs": [],
   "source": []
  },
  {
   "cell_type": "code",
   "execution_count": null,
   "id": "integral-insert",
   "metadata": {},
   "outputs": [],
   "source": []
  },
  {
   "cell_type": "code",
   "execution_count": null,
   "id": "virgin-involvement",
   "metadata": {},
   "outputs": [],
   "source": []
  },
  {
   "cell_type": "code",
   "execution_count": 23,
   "id": "strange-gregory",
   "metadata": {},
   "outputs": [],
   "source": []
  },
  {
   "cell_type": "code",
   "execution_count": null,
   "id": "lesbian-boulder",
   "metadata": {},
   "outputs": [],
   "source": []
  },
  {
   "cell_type": "code",
   "execution_count": null,
   "id": "funded-church",
   "metadata": {},
   "outputs": [],
   "source": []
  },
  {
   "cell_type": "code",
   "execution_count": null,
   "id": "surprising-virgin",
   "metadata": {},
   "outputs": [],
   "source": []
  },
  {
   "cell_type": "code",
   "execution_count": null,
   "id": "progressive-circle",
   "metadata": {},
   "outputs": [],
   "source": []
  },
  {
   "cell_type": "code",
   "execution_count": null,
   "id": "refined-sweden",
   "metadata": {},
   "outputs": [],
   "source": []
  },
  {
   "cell_type": "code",
   "execution_count": null,
   "id": "coordinate-spring",
   "metadata": {},
   "outputs": [],
   "source": []
  },
  {
   "cell_type": "code",
   "execution_count": null,
   "id": "radical-individual",
   "metadata": {},
   "outputs": [],
   "source": []
  },
  {
   "cell_type": "code",
   "execution_count": null,
   "id": "funny-southwest",
   "metadata": {},
   "outputs": [],
   "source": []
  },
  {
   "cell_type": "code",
   "execution_count": null,
   "id": "soviet-sharp",
   "metadata": {},
   "outputs": [],
   "source": []
  },
  {
   "cell_type": "code",
   "execution_count": null,
   "id": "unlimited-valve",
   "metadata": {},
   "outputs": [],
   "source": []
  },
  {
   "cell_type": "code",
   "execution_count": null,
   "id": "south-custom",
   "metadata": {},
   "outputs": [],
   "source": []
  },
  {
   "cell_type": "code",
   "execution_count": null,
   "id": "married-darwin",
   "metadata": {},
   "outputs": [],
   "source": []
  },
  {
   "cell_type": "code",
   "execution_count": null,
   "id": "cardiac-massage",
   "metadata": {},
   "outputs": [],
   "source": []
  },
  {
   "cell_type": "code",
   "execution_count": null,
   "id": "lesbian-latitude",
   "metadata": {},
   "outputs": [],
   "source": []
  },
  {
   "cell_type": "code",
   "execution_count": null,
   "id": "christian-judges",
   "metadata": {},
   "outputs": [],
   "source": []
  },
  {
   "cell_type": "code",
   "execution_count": null,
   "id": "innovative-amplifier",
   "metadata": {},
   "outputs": [],
   "source": []
  },
  {
   "cell_type": "code",
   "execution_count": null,
   "id": "buried-adobe",
   "metadata": {},
   "outputs": [],
   "source": []
  },
  {
   "cell_type": "code",
   "execution_count": null,
   "id": "filled-enclosure",
   "metadata": {},
   "outputs": [],
   "source": []
  },
  {
   "cell_type": "code",
   "execution_count": null,
   "id": "limiting-insured",
   "metadata": {},
   "outputs": [],
   "source": []
  },
  {
   "cell_type": "code",
   "execution_count": null,
   "id": "potential-establishment",
   "metadata": {},
   "outputs": [],
   "source": []
  },
  {
   "cell_type": "code",
   "execution_count": null,
   "id": "promising-furniture",
   "metadata": {},
   "outputs": [],
   "source": []
  }
 ],
 "metadata": {
  "kernelspec": {
   "display_name": "Python 3",
   "language": "python",
   "name": "python3"
  },
  "language_info": {
   "codemirror_mode": {
    "name": "ipython",
    "version": 3
   },
   "file_extension": ".py",
   "mimetype": "text/x-python",
   "name": "python",
   "nbconvert_exporter": "python",
   "pygments_lexer": "ipython3",
   "version": "3.7.6"
  }
 },
 "nbformat": 4,
 "nbformat_minor": 5
}
