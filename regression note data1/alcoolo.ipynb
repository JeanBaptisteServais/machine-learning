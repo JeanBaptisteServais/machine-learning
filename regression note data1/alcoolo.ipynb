{
 "cells": [
  {
   "cell_type": "code",
   "execution_count": 1,
   "id": "direct-advance",
   "metadata": {},
   "outputs": [],
   "source": [
    "import warnings # Avoid warnings.\n",
    "warnings.simplefilter(\"ignore\")\n",
    "\n",
    "\n",
    "import pandas as pd # Structure & manipulation of data.\n",
    "import numpy as np # Numeric calcul.\n",
    "import matplotlib.pyplot as plt # Graphics."
   ]
  },
  {
   "cell_type": "code",
   "execution_count": 2,
   "id": "certain-joining",
   "metadata": {},
   "outputs": [],
   "source": [
    "#Reading csv.\n",
    "df = pd.read_csv(\"student-mat.csv\")"
   ]
  },
  {
   "cell_type": "code",
   "execution_count": 3,
   "id": "civilian-durham",
   "metadata": {},
   "outputs": [
    {
     "data": {
      "text/html": [
       "<div>\n",
       "<style scoped>\n",
       "    .dataframe tbody tr th:only-of-type {\n",
       "        vertical-align: middle;\n",
       "    }\n",
       "\n",
       "    .dataframe tbody tr th {\n",
       "        vertical-align: top;\n",
       "    }\n",
       "\n",
       "    .dataframe thead th {\n",
       "        text-align: right;\n",
       "    }\n",
       "</style>\n",
       "<table border=\"1\" class=\"dataframe\">\n",
       "  <thead>\n",
       "    <tr style=\"text-align: right;\">\n",
       "      <th></th>\n",
       "      <th>school</th>\n",
       "      <th>sex</th>\n",
       "      <th>age</th>\n",
       "      <th>address</th>\n",
       "      <th>famsize</th>\n",
       "      <th>Pstatus</th>\n",
       "      <th>Medu</th>\n",
       "      <th>Fedu</th>\n",
       "      <th>Mjob</th>\n",
       "      <th>Fjob</th>\n",
       "      <th>...</th>\n",
       "      <th>famrel</th>\n",
       "      <th>freetime</th>\n",
       "      <th>goout</th>\n",
       "      <th>Dalc</th>\n",
       "      <th>Walc</th>\n",
       "      <th>health</th>\n",
       "      <th>absences</th>\n",
       "      <th>G1</th>\n",
       "      <th>G2</th>\n",
       "      <th>G3</th>\n",
       "    </tr>\n",
       "  </thead>\n",
       "  <tbody>\n",
       "    <tr>\n",
       "      <th>0</th>\n",
       "      <td>GP</td>\n",
       "      <td>F</td>\n",
       "      <td>18</td>\n",
       "      <td>U</td>\n",
       "      <td>GT3</td>\n",
       "      <td>A</td>\n",
       "      <td>4</td>\n",
       "      <td>4</td>\n",
       "      <td>at_home</td>\n",
       "      <td>teacher</td>\n",
       "      <td>...</td>\n",
       "      <td>4</td>\n",
       "      <td>3</td>\n",
       "      <td>4</td>\n",
       "      <td>1</td>\n",
       "      <td>1</td>\n",
       "      <td>3</td>\n",
       "      <td>6</td>\n",
       "      <td>5</td>\n",
       "      <td>6</td>\n",
       "      <td>6</td>\n",
       "    </tr>\n",
       "    <tr>\n",
       "      <th>1</th>\n",
       "      <td>GP</td>\n",
       "      <td>F</td>\n",
       "      <td>17</td>\n",
       "      <td>U</td>\n",
       "      <td>GT3</td>\n",
       "      <td>T</td>\n",
       "      <td>1</td>\n",
       "      <td>1</td>\n",
       "      <td>at_home</td>\n",
       "      <td>other</td>\n",
       "      <td>...</td>\n",
       "      <td>5</td>\n",
       "      <td>3</td>\n",
       "      <td>3</td>\n",
       "      <td>1</td>\n",
       "      <td>1</td>\n",
       "      <td>3</td>\n",
       "      <td>4</td>\n",
       "      <td>5</td>\n",
       "      <td>5</td>\n",
       "      <td>6</td>\n",
       "    </tr>\n",
       "    <tr>\n",
       "      <th>2</th>\n",
       "      <td>GP</td>\n",
       "      <td>F</td>\n",
       "      <td>15</td>\n",
       "      <td>U</td>\n",
       "      <td>LE3</td>\n",
       "      <td>T</td>\n",
       "      <td>1</td>\n",
       "      <td>1</td>\n",
       "      <td>at_home</td>\n",
       "      <td>other</td>\n",
       "      <td>...</td>\n",
       "      <td>4</td>\n",
       "      <td>3</td>\n",
       "      <td>2</td>\n",
       "      <td>2</td>\n",
       "      <td>3</td>\n",
       "      <td>3</td>\n",
       "      <td>10</td>\n",
       "      <td>7</td>\n",
       "      <td>8</td>\n",
       "      <td>10</td>\n",
       "    </tr>\n",
       "    <tr>\n",
       "      <th>3</th>\n",
       "      <td>GP</td>\n",
       "      <td>F</td>\n",
       "      <td>15</td>\n",
       "      <td>U</td>\n",
       "      <td>GT3</td>\n",
       "      <td>T</td>\n",
       "      <td>4</td>\n",
       "      <td>2</td>\n",
       "      <td>health</td>\n",
       "      <td>services</td>\n",
       "      <td>...</td>\n",
       "      <td>3</td>\n",
       "      <td>2</td>\n",
       "      <td>2</td>\n",
       "      <td>1</td>\n",
       "      <td>1</td>\n",
       "      <td>5</td>\n",
       "      <td>2</td>\n",
       "      <td>15</td>\n",
       "      <td>14</td>\n",
       "      <td>15</td>\n",
       "    </tr>\n",
       "    <tr>\n",
       "      <th>4</th>\n",
       "      <td>GP</td>\n",
       "      <td>F</td>\n",
       "      <td>16</td>\n",
       "      <td>U</td>\n",
       "      <td>GT3</td>\n",
       "      <td>T</td>\n",
       "      <td>3</td>\n",
       "      <td>3</td>\n",
       "      <td>other</td>\n",
       "      <td>other</td>\n",
       "      <td>...</td>\n",
       "      <td>4</td>\n",
       "      <td>3</td>\n",
       "      <td>2</td>\n",
       "      <td>1</td>\n",
       "      <td>2</td>\n",
       "      <td>5</td>\n",
       "      <td>4</td>\n",
       "      <td>6</td>\n",
       "      <td>10</td>\n",
       "      <td>10</td>\n",
       "    </tr>\n",
       "  </tbody>\n",
       "</table>\n",
       "<p>5 rows × 33 columns</p>\n",
       "</div>"
      ],
      "text/plain": [
       "  school sex  age address famsize Pstatus  Medu  Fedu     Mjob      Fjob  ...  \\\n",
       "0     GP   F   18       U     GT3       A     4     4  at_home   teacher  ...   \n",
       "1     GP   F   17       U     GT3       T     1     1  at_home     other  ...   \n",
       "2     GP   F   15       U     LE3       T     1     1  at_home     other  ...   \n",
       "3     GP   F   15       U     GT3       T     4     2   health  services  ...   \n",
       "4     GP   F   16       U     GT3       T     3     3    other     other  ...   \n",
       "\n",
       "  famrel freetime  goout  Dalc  Walc health absences  G1  G2  G3  \n",
       "0      4        3      4     1     1      3        6   5   6   6  \n",
       "1      5        3      3     1     1      3        4   5   5   6  \n",
       "2      4        3      2     2     3      3       10   7   8  10  \n",
       "3      3        2      2     1     1      5        2  15  14  15  \n",
       "4      4        3      2     1     2      5        4   6  10  10  \n",
       "\n",
       "[5 rows x 33 columns]"
      ]
     },
     "execution_count": 3,
     "metadata": {},
     "output_type": "execute_result"
    }
   ],
   "source": [
    "# Five firsts lines.\n",
    "df.head()"
   ]
  },
  {
   "cell_type": "code",
   "execution_count": 4,
   "id": "voluntary-browse",
   "metadata": {},
   "outputs": [
    {
     "data": {
      "text/plain": [
       "(395, 33)"
      ]
     },
     "execution_count": 4,
     "metadata": {},
     "output_type": "execute_result"
    }
   ],
   "source": [
    "# We get a matrice of 395x33.\n",
    "df.shape"
   ]
  },
  {
   "cell_type": "code",
   "execution_count": 5,
   "id": "caroline-mining",
   "metadata": {
    "scrolled": true
   },
   "outputs": [
    {
     "data": {
      "text/plain": [
       "school        0\n",
       "sex           0\n",
       "age           0\n",
       "address       0\n",
       "famsize       0\n",
       "Pstatus       0\n",
       "Medu          0\n",
       "Fedu          0\n",
       "Mjob          0\n",
       "Fjob          0\n",
       "reason        0\n",
       "guardian      0\n",
       "traveltime    0\n",
       "studytime     0\n",
       "failures      0\n",
       "schoolsup     0\n",
       "famsup        0\n",
       "paid          0\n",
       "activities    0\n",
       "nursery       0\n",
       "higher        0\n",
       "internet      0\n",
       "romantic      0\n",
       "famrel        0\n",
       "freetime      0\n",
       "goout         0\n",
       "Dalc          0\n",
       "Walc          0\n",
       "health        0\n",
       "absences      0\n",
       "G1            0\n",
       "G2            0\n",
       "G3            0\n",
       "dtype: int64"
      ]
     },
     "execution_count": 5,
     "metadata": {},
     "output_type": "execute_result"
    }
   ],
   "source": [
    "# Verification of missing data.\n",
    "df.isna().sum()"
   ]
  },
  {
   "cell_type": "code",
   "execution_count": 6,
   "id": "overall-margin",
   "metadata": {},
   "outputs": [
    {
     "data": {
      "text/plain": [
       "school         2\n",
       "sex            2\n",
       "age            8\n",
       "address        2\n",
       "famsize        2\n",
       "Pstatus        2\n",
       "Medu           5\n",
       "Fedu           5\n",
       "Mjob           5\n",
       "Fjob           5\n",
       "reason         4\n",
       "guardian       3\n",
       "traveltime     4\n",
       "studytime      4\n",
       "failures       4\n",
       "schoolsup      2\n",
       "famsup         2\n",
       "paid           2\n",
       "activities     2\n",
       "nursery        2\n",
       "higher         2\n",
       "internet       2\n",
       "romantic       2\n",
       "famrel         5\n",
       "freetime       5\n",
       "goout          5\n",
       "Dalc           5\n",
       "Walc           5\n",
       "health         5\n",
       "absences      34\n",
       "G1            17\n",
       "G2            17\n",
       "G3            18\n",
       "dtype: int64"
      ]
     },
     "execution_count": 6,
     "metadata": {},
     "output_type": "execute_result"
    }
   ],
   "source": [
    "# Number of features on each variables.\n",
    "df.nunique()"
   ]
  },
  {
   "cell_type": "code",
   "execution_count": 7,
   "id": "gentle-literacy",
   "metadata": {},
   "outputs": [
    {
     "name": "stdout",
     "output_type": "stream",
     "text": [
      "<class 'pandas.core.frame.DataFrame'>\n",
      "RangeIndex: 395 entries, 0 to 394\n",
      "Data columns (total 33 columns):\n",
      " #   Column      Non-Null Count  Dtype \n",
      "---  ------      --------------  ----- \n",
      " 0   school      395 non-null    object\n",
      " 1   sex         395 non-null    object\n",
      " 2   age         395 non-null    int64 \n",
      " 3   address     395 non-null    object\n",
      " 4   famsize     395 non-null    object\n",
      " 5   Pstatus     395 non-null    object\n",
      " 6   Medu        395 non-null    int64 \n",
      " 7   Fedu        395 non-null    int64 \n",
      " 8   Mjob        395 non-null    object\n",
      " 9   Fjob        395 non-null    object\n",
      " 10  reason      395 non-null    object\n",
      " 11  guardian    395 non-null    object\n",
      " 12  traveltime  395 non-null    int64 \n",
      " 13  studytime   395 non-null    int64 \n",
      " 14  failures    395 non-null    int64 \n",
      " 15  schoolsup   395 non-null    object\n",
      " 16  famsup      395 non-null    object\n",
      " 17  paid        395 non-null    object\n",
      " 18  activities  395 non-null    object\n",
      " 19  nursery     395 non-null    object\n",
      " 20  higher      395 non-null    object\n",
      " 21  internet    395 non-null    object\n",
      " 22  romantic    395 non-null    object\n",
      " 23  famrel      395 non-null    int64 \n",
      " 24  freetime    395 non-null    int64 \n",
      " 25  goout       395 non-null    int64 \n",
      " 26  Dalc        395 non-null    int64 \n",
      " 27  Walc        395 non-null    int64 \n",
      " 28  health      395 non-null    int64 \n",
      " 29  absences    395 non-null    int64 \n",
      " 30  G1          395 non-null    int64 \n",
      " 31  G2          395 non-null    int64 \n",
      " 32  G3          395 non-null    int64 \n",
      "dtypes: int64(16), object(17)\n",
      "memory usage: 102.0+ KB\n"
     ]
    }
   ],
   "source": [
    "# Data types. (Can see if there are discrete data at the place of a continue data)\n",
    "df.info()"
   ]
  },
  {
   "cell_type": "code",
   "execution_count": 8,
   "id": "administrative-presentation",
   "metadata": {},
   "outputs": [
    {
     "data": {
      "text/html": [
       "<div>\n",
       "<style scoped>\n",
       "    .dataframe tbody tr th:only-of-type {\n",
       "        vertical-align: middle;\n",
       "    }\n",
       "\n",
       "    .dataframe tbody tr th {\n",
       "        vertical-align: top;\n",
       "    }\n",
       "\n",
       "    .dataframe thead th {\n",
       "        text-align: right;\n",
       "    }\n",
       "</style>\n",
       "<table border=\"1\" class=\"dataframe\">\n",
       "  <thead>\n",
       "    <tr style=\"text-align: right;\">\n",
       "      <th></th>\n",
       "      <th>age</th>\n",
       "      <th>Medu</th>\n",
       "      <th>Fedu</th>\n",
       "      <th>traveltime</th>\n",
       "      <th>studytime</th>\n",
       "      <th>failures</th>\n",
       "      <th>famrel</th>\n",
       "      <th>freetime</th>\n",
       "      <th>goout</th>\n",
       "      <th>Dalc</th>\n",
       "      <th>Walc</th>\n",
       "      <th>health</th>\n",
       "      <th>absences</th>\n",
       "      <th>G1</th>\n",
       "      <th>G2</th>\n",
       "      <th>G3</th>\n",
       "    </tr>\n",
       "  </thead>\n",
       "  <tbody>\n",
       "    <tr>\n",
       "      <th>count</th>\n",
       "      <td>395.000000</td>\n",
       "      <td>395.000000</td>\n",
       "      <td>395.000000</td>\n",
       "      <td>395.000000</td>\n",
       "      <td>395.000000</td>\n",
       "      <td>395.000000</td>\n",
       "      <td>395.000000</td>\n",
       "      <td>395.000000</td>\n",
       "      <td>395.000000</td>\n",
       "      <td>395.000000</td>\n",
       "      <td>395.000000</td>\n",
       "      <td>395.000000</td>\n",
       "      <td>395.000000</td>\n",
       "      <td>395.000000</td>\n",
       "      <td>395.000000</td>\n",
       "      <td>395.000000</td>\n",
       "    </tr>\n",
       "    <tr>\n",
       "      <th>mean</th>\n",
       "      <td>16.696203</td>\n",
       "      <td>2.749367</td>\n",
       "      <td>2.521519</td>\n",
       "      <td>1.448101</td>\n",
       "      <td>2.035443</td>\n",
       "      <td>0.334177</td>\n",
       "      <td>3.944304</td>\n",
       "      <td>3.235443</td>\n",
       "      <td>3.108861</td>\n",
       "      <td>1.481013</td>\n",
       "      <td>2.291139</td>\n",
       "      <td>3.554430</td>\n",
       "      <td>5.708861</td>\n",
       "      <td>10.908861</td>\n",
       "      <td>10.713924</td>\n",
       "      <td>10.415190</td>\n",
       "    </tr>\n",
       "    <tr>\n",
       "      <th>std</th>\n",
       "      <td>1.276043</td>\n",
       "      <td>1.094735</td>\n",
       "      <td>1.088201</td>\n",
       "      <td>0.697505</td>\n",
       "      <td>0.839240</td>\n",
       "      <td>0.743651</td>\n",
       "      <td>0.896659</td>\n",
       "      <td>0.998862</td>\n",
       "      <td>1.113278</td>\n",
       "      <td>0.890741</td>\n",
       "      <td>1.287897</td>\n",
       "      <td>1.390303</td>\n",
       "      <td>8.003096</td>\n",
       "      <td>3.319195</td>\n",
       "      <td>3.761505</td>\n",
       "      <td>4.581443</td>\n",
       "    </tr>\n",
       "    <tr>\n",
       "      <th>min</th>\n",
       "      <td>15.000000</td>\n",
       "      <td>0.000000</td>\n",
       "      <td>0.000000</td>\n",
       "      <td>1.000000</td>\n",
       "      <td>1.000000</td>\n",
       "      <td>0.000000</td>\n",
       "      <td>1.000000</td>\n",
       "      <td>1.000000</td>\n",
       "      <td>1.000000</td>\n",
       "      <td>1.000000</td>\n",
       "      <td>1.000000</td>\n",
       "      <td>1.000000</td>\n",
       "      <td>0.000000</td>\n",
       "      <td>3.000000</td>\n",
       "      <td>0.000000</td>\n",
       "      <td>0.000000</td>\n",
       "    </tr>\n",
       "    <tr>\n",
       "      <th>25%</th>\n",
       "      <td>16.000000</td>\n",
       "      <td>2.000000</td>\n",
       "      <td>2.000000</td>\n",
       "      <td>1.000000</td>\n",
       "      <td>1.000000</td>\n",
       "      <td>0.000000</td>\n",
       "      <td>4.000000</td>\n",
       "      <td>3.000000</td>\n",
       "      <td>2.000000</td>\n",
       "      <td>1.000000</td>\n",
       "      <td>1.000000</td>\n",
       "      <td>3.000000</td>\n",
       "      <td>0.000000</td>\n",
       "      <td>8.000000</td>\n",
       "      <td>9.000000</td>\n",
       "      <td>8.000000</td>\n",
       "    </tr>\n",
       "    <tr>\n",
       "      <th>50%</th>\n",
       "      <td>17.000000</td>\n",
       "      <td>3.000000</td>\n",
       "      <td>2.000000</td>\n",
       "      <td>1.000000</td>\n",
       "      <td>2.000000</td>\n",
       "      <td>0.000000</td>\n",
       "      <td>4.000000</td>\n",
       "      <td>3.000000</td>\n",
       "      <td>3.000000</td>\n",
       "      <td>1.000000</td>\n",
       "      <td>2.000000</td>\n",
       "      <td>4.000000</td>\n",
       "      <td>4.000000</td>\n",
       "      <td>11.000000</td>\n",
       "      <td>11.000000</td>\n",
       "      <td>11.000000</td>\n",
       "    </tr>\n",
       "    <tr>\n",
       "      <th>75%</th>\n",
       "      <td>18.000000</td>\n",
       "      <td>4.000000</td>\n",
       "      <td>3.000000</td>\n",
       "      <td>2.000000</td>\n",
       "      <td>2.000000</td>\n",
       "      <td>0.000000</td>\n",
       "      <td>5.000000</td>\n",
       "      <td>4.000000</td>\n",
       "      <td>4.000000</td>\n",
       "      <td>2.000000</td>\n",
       "      <td>3.000000</td>\n",
       "      <td>5.000000</td>\n",
       "      <td>8.000000</td>\n",
       "      <td>13.000000</td>\n",
       "      <td>13.000000</td>\n",
       "      <td>14.000000</td>\n",
       "    </tr>\n",
       "    <tr>\n",
       "      <th>max</th>\n",
       "      <td>22.000000</td>\n",
       "      <td>4.000000</td>\n",
       "      <td>4.000000</td>\n",
       "      <td>4.000000</td>\n",
       "      <td>4.000000</td>\n",
       "      <td>3.000000</td>\n",
       "      <td>5.000000</td>\n",
       "      <td>5.000000</td>\n",
       "      <td>5.000000</td>\n",
       "      <td>5.000000</td>\n",
       "      <td>5.000000</td>\n",
       "      <td>5.000000</td>\n",
       "      <td>75.000000</td>\n",
       "      <td>19.000000</td>\n",
       "      <td>19.000000</td>\n",
       "      <td>20.000000</td>\n",
       "    </tr>\n",
       "  </tbody>\n",
       "</table>\n",
       "</div>"
      ],
      "text/plain": [
       "              age        Medu        Fedu  traveltime   studytime    failures  \\\n",
       "count  395.000000  395.000000  395.000000  395.000000  395.000000  395.000000   \n",
       "mean    16.696203    2.749367    2.521519    1.448101    2.035443    0.334177   \n",
       "std      1.276043    1.094735    1.088201    0.697505    0.839240    0.743651   \n",
       "min     15.000000    0.000000    0.000000    1.000000    1.000000    0.000000   \n",
       "25%     16.000000    2.000000    2.000000    1.000000    1.000000    0.000000   \n",
       "50%     17.000000    3.000000    2.000000    1.000000    2.000000    0.000000   \n",
       "75%     18.000000    4.000000    3.000000    2.000000    2.000000    0.000000   \n",
       "max     22.000000    4.000000    4.000000    4.000000    4.000000    3.000000   \n",
       "\n",
       "           famrel    freetime       goout        Dalc        Walc      health  \\\n",
       "count  395.000000  395.000000  395.000000  395.000000  395.000000  395.000000   \n",
       "mean     3.944304    3.235443    3.108861    1.481013    2.291139    3.554430   \n",
       "std      0.896659    0.998862    1.113278    0.890741    1.287897    1.390303   \n",
       "min      1.000000    1.000000    1.000000    1.000000    1.000000    1.000000   \n",
       "25%      4.000000    3.000000    2.000000    1.000000    1.000000    3.000000   \n",
       "50%      4.000000    3.000000    3.000000    1.000000    2.000000    4.000000   \n",
       "75%      5.000000    4.000000    4.000000    2.000000    3.000000    5.000000   \n",
       "max      5.000000    5.000000    5.000000    5.000000    5.000000    5.000000   \n",
       "\n",
       "         absences          G1          G2          G3  \n",
       "count  395.000000  395.000000  395.000000  395.000000  \n",
       "mean     5.708861   10.908861   10.713924   10.415190  \n",
       "std      8.003096    3.319195    3.761505    4.581443  \n",
       "min      0.000000    3.000000    0.000000    0.000000  \n",
       "25%      0.000000    8.000000    9.000000    8.000000  \n",
       "50%      4.000000   11.000000   11.000000   11.000000  \n",
       "75%      8.000000   13.000000   13.000000   14.000000  \n",
       "max     75.000000   19.000000   19.000000   20.000000  "
      ]
     },
     "execution_count": 8,
     "metadata": {},
     "output_type": "execute_result"
    }
   ],
   "source": [
    "df.describe()"
   ]
  },
  {
   "cell_type": "code",
   "execution_count": 9,
   "id": "discrete-wednesday",
   "metadata": {},
   "outputs": [],
   "source": [
    "def recuperate_labels_from_one_label(data, label, sublabel):\n",
    "    \"\"\"Recuperate the label interest & the average of the G3.\"\"\"\n",
    "    return data[data[label] == sublabel][\"G3\"].mean()"
   ]
  },
  {
   "cell_type": "code",
   "execution_count": 10,
   "id": "twenty-elements",
   "metadata": {},
   "outputs": [],
   "source": [
    "def ploting(dico, titre):\n",
    "    \"\"\"Plot variables in function of the mean of the last test.\"\"\"\n",
    "    plt.title(titre)\n",
    "    width = 1\n",
    "    [plt.bar(label, mean, width) for label, mean in dico.items()]\n",
    "    plt.show()"
   ]
  },
  {
   "cell_type": "code",
   "execution_count": 11,
   "id": "sudden-spread",
   "metadata": {},
   "outputs": [],
   "source": [
    "def ploting_camembert(dico, titre):\n",
    " \n",
    "    plt.title(titre)\n",
    "\n",
    "    recuperate_ = lambda data: [i for i in data]\n",
    "    label = recuperate_(dico.keys())\n",
    "    value = recuperate_(dico.values())\n",
    "\n",
    "    plt.pie(value, labels = label)\n",
    "\n",
    "    plt.show()"
   ]
  },
  {
   "cell_type": "markdown",
   "id": "quiet-hearts",
   "metadata": {},
   "source": [
    "# Analyse univarié"
   ]
  },
  {
   "cell_type": "markdown",
   "id": "seventh-honolulu",
   "metadata": {},
   "source": [
    "# école et note final"
   ]
  },
  {
   "cell_type": "markdown",
   "id": "dressed-telling",
   "metadata": {},
   "source": [
    "Est-ce que l'école influe sur la note finale ?"
   ]
  },
  {
   "cell_type": "code",
   "execution_count": 12,
   "id": "occasional-hawaiian",
   "metadata": {},
   "outputs": [],
   "source": [
    "# Recuperate school labels.\n",
    "school_labels = df[\"school\"].unique()"
   ]
  },
  {
   "cell_type": "code",
   "execution_count": 13,
   "id": "angry-salad",
   "metadata": {},
   "outputs": [
    {
     "data": {
      "text/plain": [
       "{'GP': 349, 'MS': 46}"
      ]
     },
     "execution_count": 13,
     "metadata": {},
     "output_type": "execute_result"
    }
   ],
   "source": [
    "dico_nb_person_from_school = {school: len(df[df[\"school\"] == school]) for school in school_labels}\n",
    "dico_nb_person_from_school"
   ]
  },
  {
   "cell_type": "code",
   "execution_count": 14,
   "id": "sacred-polymer",
   "metadata": {},
   "outputs": [
    {
     "data": {
      "image/png": "[encoded data removed]",
      "text/plain": [
       "<Figure size 432x288 with 1 Axes>"
      ]
     },
     "metadata": {
      "needs_background": "light"
     },
     "output_type": "display_data"
    }
   ],
   "source": [
    "ploting(dico_nb_person_from_school, \"Répartition des écoles dans notre population\")"
   ]
  },
  {
   "cell_type": "markdown",
   "id": "deluxe-tunnel",
   "metadata": {},
   "source": [
    "Nous remarquons une asymétrie du nombre de donnée entre chaque école.\n",
    "\n",
    "1) Calcul de la moyenne de la note final en fonction de l'école."
   ]
  },
  {
   "cell_type": "code",
   "execution_count": 15,
   "id": "hispanic-marking",
   "metadata": {},
   "outputs": [
    {
     "data": {
      "text/plain": [
       "{'GP': 10.489971346704872, 'MS': 9.847826086956522}"
      ]
     },
     "execution_count": 15,
     "metadata": {},
     "output_type": "execute_result"
    }
   ],
   "source": [
    "schools = {school: recuperate_labels_from_one_label(df, \"school\", school) for school in df[\"school\"].unique()}\n",
    "schools"
   ]
  },
  {
   "cell_type": "code",
   "execution_count": 16,
   "id": "preceding-freeware",
   "metadata": {},
   "outputs": [
    {
     "data": {
      "image/png": "[encoded data removed]",
      "text/plain": [
       "<Figure size 432x288 with 1 Axes>"
      ]
     },
     "metadata": {
      "needs_background": "light"
     },
     "output_type": "display_data"
    }
   ],
   "source": [
    "ploting(schools, \"Moyenne de la note finale en fonction de l'école\")"
   ]
  },
  {
   "cell_type": "markdown",
   "id": "gentle-terrain",
   "metadata": {},
   "source": [
    "Il semble qu'il n'y ai pas de grande différence entre l'école 1 et 2 pour la note finale.\n",
    "\n",
    "### L'école à t-elle donc un lien avec notre étude ?\n",
    "\n",
    "Il semble qu'il n'y ai aucunes différences entre l'école 1 et 2 sur la note finale.\n",
    "\n",
    "\n",
    "Par le nombre de donnée de l'écoles MS, et par la moyenne de la note finale. \n",
    "\n",
    "Nous ne conservons pas la variable \"school\"."
   ]
  },
  {
   "cell_type": "code",
   "execution_count": 17,
   "id": "unexpected-investigator",
   "metadata": {},
   "outputs": [],
   "source": [
    "del df[\"school\"]"
   ]
  },
  {
   "cell_type": "code",
   "execution_count": null,
   "id": "environmental-lightning",
   "metadata": {},
   "outputs": [],
   "source": []
  },
  {
   "cell_type": "markdown",
   "id": "decimal-reggae",
   "metadata": {},
   "source": [
    "# Sexe et note final"
   ]
  },
  {
   "cell_type": "code",
   "execution_count": 18,
   "id": "capital-annex",
   "metadata": {},
   "outputs": [],
   "source": [
    "sexe_label = [\"M\", \"F\"]"
   ]
  },
  {
   "cell_type": "code",
   "execution_count": 19,
   "id": "wanted-stevens",
   "metadata": {},
   "outputs": [
    {
     "data": {
      "text/plain": [
       "{'M': 187, 'F': 208}"
      ]
     },
     "execution_count": 19,
     "metadata": {},
     "output_type": "execute_result"
    }
   ],
   "source": [
    "dico = {label: len(df[df[\"sex\"] == label]) for label in sexe_label}\n",
    "dico"
   ]
  },
  {
   "cell_type": "code",
   "execution_count": 20,
   "id": "valued-danish",
   "metadata": {},
   "outputs": [
    {
     "data": {
      "image/png": "[encoded data removed]",
      "text/plain": [
       "<Figure size 432x288 with 1 Axes>"
      ]
     },
     "metadata": {
      "needs_background": "light"
     },
     "output_type": "display_data"
    }
   ],
   "source": [
    "ploting(dico, \"Répartition homme femme\")"
   ]
  },
  {
   "cell_type": "markdown",
   "id": "defensive-christmas",
   "metadata": {},
   "source": [
    "Nous pouvons voir que la répartition de notre échantillon est uniformément réparti."
   ]
  },
  {
   "cell_type": "code",
   "execution_count": 21,
   "id": "maritime-limit",
   "metadata": {},
   "outputs": [
    {
     "data": {
      "text/plain": [
       "{'M': 10.914438502673796, 'F': 9.966346153846153}"
      ]
     },
     "execution_count": 21,
     "metadata": {},
     "output_type": "execute_result"
    }
   ],
   "source": [
    "dico = {label: recuperate_labels_from_one_label(df, \"sex\", label) for label in sexe_label}\n",
    "dico"
   ]
  },
  {
   "cell_type": "code",
   "execution_count": 22,
   "id": "graphic-boost",
   "metadata": {},
   "outputs": [
    {
     "data": {
      "image/png": "[encoded data removed]",
      "text/plain": [
       "<Figure size 432x288 with 1 Axes>"
      ]
     },
     "metadata": {
      "needs_background": "light"
     },
     "output_type": "display_data"
    }
   ],
   "source": [
    "ploting(dico, \"Moyenne note final inter genre\")"
   ]
  },
  {
   "cell_type": "markdown",
   "id": "younger-ultimate",
   "metadata": {},
   "source": [
    "Il semble qu'il n'y ai pas de différence significative sur la note final en fonction du sexe.\n",
    "\n",
    "Hypothèse: nous pouvons supprimer la variable catégorielle sexe."
   ]
  },
  {
   "cell_type": "code",
   "execution_count": 23,
   "id": "vertical-pottery",
   "metadata": {},
   "outputs": [],
   "source": [
    "del df[\"sex\"]"
   ]
  },
  {
   "cell_type": "code",
   "execution_count": null,
   "id": "cutting-train",
   "metadata": {},
   "outputs": [],
   "source": []
  },
  {
   "cell_type": "code",
   "execution_count": null,
   "id": "younger-emerald",
   "metadata": {},
   "outputs": [],
   "source": []
  },
  {
   "cell_type": "code",
   "execution_count": null,
   "id": "august-collector",
   "metadata": {},
   "outputs": [],
   "source": []
  },
  {
   "cell_type": "code",
   "execution_count": null,
   "id": "recreational-hello",
   "metadata": {},
   "outputs": [],
   "source": []
  },
  {
   "cell_type": "markdown",
   "id": "alone-district",
   "metadata": {},
   "source": [
    "## Age et note finale"
   ]
  },
  {
   "cell_type": "code",
   "execution_count": 24,
   "id": "suburban-jacket",
   "metadata": {},
   "outputs": [
    {
     "data": {
      "text/html": [
       "<div>\n",
       "<style scoped>\n",
       "    .dataframe tbody tr th:only-of-type {\n",
       "        vertical-align: middle;\n",
       "    }\n",
       "\n",
       "    .dataframe tbody tr th {\n",
       "        vertical-align: top;\n",
       "    }\n",
       "\n",
       "    .dataframe thead th {\n",
       "        text-align: right;\n",
       "    }\n",
       "</style>\n",
       "<table border=\"1\" class=\"dataframe\">\n",
       "  <thead>\n",
       "    <tr style=\"text-align: right;\">\n",
       "      <th></th>\n",
       "      <th>age</th>\n",
       "      <th>address</th>\n",
       "      <th>famsize</th>\n",
       "      <th>Pstatus</th>\n",
       "      <th>Medu</th>\n",
       "      <th>Fedu</th>\n",
       "      <th>Mjob</th>\n",
       "      <th>Fjob</th>\n",
       "      <th>reason</th>\n",
       "      <th>guardian</th>\n",
       "      <th>...</th>\n",
       "      <th>famrel</th>\n",
       "      <th>freetime</th>\n",
       "      <th>goout</th>\n",
       "      <th>Dalc</th>\n",
       "      <th>Walc</th>\n",
       "      <th>health</th>\n",
       "      <th>absences</th>\n",
       "      <th>G1</th>\n",
       "      <th>G2</th>\n",
       "      <th>G3</th>\n",
       "    </tr>\n",
       "  </thead>\n",
       "  <tbody>\n",
       "    <tr>\n",
       "      <th>0</th>\n",
       "      <td>18</td>\n",
       "      <td>U</td>\n",
       "      <td>GT3</td>\n",
       "      <td>A</td>\n",
       "      <td>4</td>\n",
       "      <td>4</td>\n",
       "      <td>at_home</td>\n",
       "      <td>teacher</td>\n",
       "      <td>course</td>\n",
       "      <td>mother</td>\n",
       "      <td>...</td>\n",
       "      <td>4</td>\n",
       "      <td>3</td>\n",
       "      <td>4</td>\n",
       "      <td>1</td>\n",
       "      <td>1</td>\n",
       "      <td>3</td>\n",
       "      <td>6</td>\n",
       "      <td>5</td>\n",
       "      <td>6</td>\n",
       "      <td>6</td>\n",
       "    </tr>\n",
       "    <tr>\n",
       "      <th>1</th>\n",
       "      <td>17</td>\n",
       "      <td>U</td>\n",
       "      <td>GT3</td>\n",
       "      <td>T</td>\n",
       "      <td>1</td>\n",
       "      <td>1</td>\n",
       "      <td>at_home</td>\n",
       "      <td>other</td>\n",
       "      <td>course</td>\n",
       "      <td>father</td>\n",
       "      <td>...</td>\n",
       "      <td>5</td>\n",
       "      <td>3</td>\n",
       "      <td>3</td>\n",
       "      <td>1</td>\n",
       "      <td>1</td>\n",
       "      <td>3</td>\n",
       "      <td>4</td>\n",
       "      <td>5</td>\n",
       "      <td>5</td>\n",
       "      <td>6</td>\n",
       "    </tr>\n",
       "    <tr>\n",
       "      <th>2</th>\n",
       "      <td>15</td>\n",
       "      <td>U</td>\n",
       "      <td>LE3</td>\n",
       "      <td>T</td>\n",
       "      <td>1</td>\n",
       "      <td>1</td>\n",
       "      <td>at_home</td>\n",
       "      <td>other</td>\n",
       "      <td>other</td>\n",
       "      <td>mother</td>\n",
       "      <td>...</td>\n",
       "      <td>4</td>\n",
       "      <td>3</td>\n",
       "      <td>2</td>\n",
       "      <td>2</td>\n",
       "      <td>3</td>\n",
       "      <td>3</td>\n",
       "      <td>10</td>\n",
       "      <td>7</td>\n",
       "      <td>8</td>\n",
       "      <td>10</td>\n",
       "    </tr>\n",
       "    <tr>\n",
       "      <th>3</th>\n",
       "      <td>15</td>\n",
       "      <td>U</td>\n",
       "      <td>GT3</td>\n",
       "      <td>T</td>\n",
       "      <td>4</td>\n",
       "      <td>2</td>\n",
       "      <td>health</td>\n",
       "      <td>services</td>\n",
       "      <td>home</td>\n",
       "      <td>mother</td>\n",
       "      <td>...</td>\n",
       "      <td>3</td>\n",
       "      <td>2</td>\n",
       "      <td>2</td>\n",
       "      <td>1</td>\n",
       "      <td>1</td>\n",
       "      <td>5</td>\n",
       "      <td>2</td>\n",
       "      <td>15</td>\n",
       "      <td>14</td>\n",
       "      <td>15</td>\n",
       "    </tr>\n",
       "    <tr>\n",
       "      <th>4</th>\n",
       "      <td>16</td>\n",
       "      <td>U</td>\n",
       "      <td>GT3</td>\n",
       "      <td>T</td>\n",
       "      <td>3</td>\n",
       "      <td>3</td>\n",
       "      <td>other</td>\n",
       "      <td>other</td>\n",
       "      <td>home</td>\n",
       "      <td>father</td>\n",
       "      <td>...</td>\n",
       "      <td>4</td>\n",
       "      <td>3</td>\n",
       "      <td>2</td>\n",
       "      <td>1</td>\n",
       "      <td>2</td>\n",
       "      <td>5</td>\n",
       "      <td>4</td>\n",
       "      <td>6</td>\n",
       "      <td>10</td>\n",
       "      <td>10</td>\n",
       "    </tr>\n",
       "  </tbody>\n",
       "</table>\n",
       "<p>5 rows × 31 columns</p>\n",
       "</div>"
      ],
      "text/plain": [
       "   age address famsize Pstatus  Medu  Fedu     Mjob      Fjob  reason  \\\n",
       "0   18       U     GT3       A     4     4  at_home   teacher  course   \n",
       "1   17       U     GT3       T     1     1  at_home     other  course   \n",
       "2   15       U     LE3       T     1     1  at_home     other   other   \n",
       "3   15       U     GT3       T     4     2   health  services    home   \n",
       "4   16       U     GT3       T     3     3    other     other    home   \n",
       "\n",
       "  guardian  ...  famrel  freetime  goout Dalc Walc health absences  G1  G2  G3  \n",
       "0   mother  ...       4         3      4    1    1      3        6   5   6   6  \n",
       "1   father  ...       5         3      3    1    1      3        4   5   5   6  \n",
       "2   mother  ...       4         3      2    2    3      3       10   7   8  10  \n",
       "3   mother  ...       3         2      2    1    1      5        2  15  14  15  \n",
       "4   father  ...       4         3      2    1    2      5        4   6  10  10  \n",
       "\n",
       "[5 rows x 31 columns]"
      ]
     },
     "execution_count": 24,
     "metadata": {},
     "output_type": "execute_result"
    }
   ],
   "source": [
    "df.head()"
   ]
  },
  {
   "cell_type": "code",
   "execution_count": 25,
   "id": "broadband-highlight",
   "metadata": {},
   "outputs": [
    {
     "data": {
      "text/plain": [
       "[15, 16, 17, 18, 19, 20, 21, 22]"
      ]
     },
     "execution_count": 25,
     "metadata": {},
     "output_type": "execute_result"
    }
   ],
   "source": [
    "age_label = sorted(df[\"age\"].unique())\n",
    "age_label"
   ]
  },
  {
   "cell_type": "markdown",
   "id": "alien-significance",
   "metadata": {},
   "source": [
    "Nous pouvons voir que l'étendue est de: 8 et que la moyenne d'age est de 18.5. Notre échantillon est dans l'interval fermé [15; 22]"
   ]
  },
  {
   "cell_type": "code",
   "execution_count": 26,
   "id": "according-swedish",
   "metadata": {},
   "outputs": [
    {
     "data": {
      "text/plain": [
       "{15: 82, 16: 104, 17: 98, 18: 82, 19: 24, 20: 3, 21: 1, 22: 1}"
      ]
     },
     "execution_count": 26,
     "metadata": {},
     "output_type": "execute_result"
    }
   ],
   "source": [
    "nombre_age = {age: len(df[df[\"age\"] == age]) for age in age_label}\n",
    "nombre_age"
   ]
  },
  {
   "cell_type": "code",
   "execution_count": 27,
   "id": "willing-ghana",
   "metadata": {},
   "outputs": [
    {
     "data": {
      "image/png": "[encoded data removed]",
      "text/plain": [
       "<Figure size 432x288 with 1 Axes>"
      ]
     },
     "metadata": {},
     "output_type": "display_data"
    }
   ],
   "source": [
    "ploting_camembert(nombre_age, \"Répartition de l'age dans notre population\")"
   ]
  },
  {
   "cell_type": "code",
   "execution_count": 28,
   "id": "suitable-print",
   "metadata": {},
   "outputs": [],
   "source": [
    "# Diagramme à moustage"
   ]
  },
  {
   "cell_type": "code",
   "execution_count": 29,
   "id": "previous-heart",
   "metadata": {},
   "outputs": [
    {
     "data": {
      "text/plain": [
       "49.375"
      ]
     },
     "execution_count": 29,
     "metadata": {},
     "output_type": "execute_result"
    }
   ],
   "source": [
    "mean_person_age = sum(v for k, v in nombre_age.items()) / len(nombre_age)\n",
    "mean_person_age"
   ]
  },
  {
   "cell_type": "markdown",
   "id": "reliable-prime",
   "metadata": {},
   "source": [
    "Il semble que nous avons des données continues peu représentatives dans notre échantillon.\n",
    "\n",
    "Les ages: 19, 20 21 et 22 ne sont pas etre pris en compte car ils ne sont représentatifs"
   ]
  },
  {
   "cell_type": "markdown",
   "id": "honest-aaron",
   "metadata": {},
   "source": [
    "Hypothèse 0: a note finale, ou l'ensemble des 3 notes sont influencées par l'age."
   ]
  },
  {
   "cell_type": "code",
   "execution_count": 30,
   "id": "analyzed-sacramento",
   "metadata": {
    "scrolled": true
   },
   "outputs": [
    {
     "name": "stdout",
     "output_type": "stream",
     "text": [
      "age : 21  ->  7.0   nombre échantillon: 1\n",
      "age : 22  ->  8.0   nombre échantillon: 1\n",
      "age : 19  ->  8.21   nombre échantillon: 24\n",
      "age : 18  ->  9.55   nombre échantillon: 82\n",
      "age : 17  ->  10.28   nombre échantillon: 98\n",
      "age : 16  ->  11.03   nombre échantillon: 104\n",
      "age : 15  ->  11.26   nombre échantillon: 82\n",
      "age : 20  ->  14.0   nombre échantillon: 3\n"
     ]
    },
    {
     "data": {
      "text/plain": [
       "[None, None, None, None, None, None, None, None]"
      ]
     },
     "execution_count": 30,
     "metadata": {},
     "output_type": "execute_result"
    }
   ],
   "source": [
    "age_note = {label: recuperate_labels_from_one_label(df, \"age\", label) for label in age_label}\n",
    "age_note = dict(sorted(age_note.items(), key=lambda item: item[1]))\n",
    "[print(\"age :\", k, \" -> \", round(v, 2), \"  nombre échantillon:\", nombre_age[k]) for k, v in age_note.items()]"
   ]
  },
  {
   "cell_type": "markdown",
   "id": "prerequisite-campbell",
   "metadata": {},
   "source": [
    "Dans nos échantillons de la tranche d'age: [15;18] l'age n'influence pas la note finale."
   ]
  },
  {
   "cell_type": "code",
   "execution_count": 31,
   "id": "spare-policy",
   "metadata": {},
   "outputs": [
    {
     "data": {
      "image/png": "[encoded data removed]",
      "text/plain": [
       "<Figure size 432x288 with 1 Axes>"
      ]
     },
     "metadata": {
      "needs_background": "light"
     },
     "output_type": "display_data"
    }
   ],
   "source": [
    "ploting(age_note, \"Moyenne note note final et age\")"
   ]
  },
  {
   "cell_type": "markdown",
   "id": "played-trance",
   "metadata": {},
   "source": [
    "Nous décidons de supprimer les échantillons des ages de: [20, 21, 22]"
   ]
  },
  {
   "cell_type": "code",
   "execution_count": 32,
   "id": "olympic-glance",
   "metadata": {},
   "outputs": [
    {
     "data": {
      "text/plain": [
       "[None, None, None]"
      ]
     },
     "execution_count": 32,
     "metadata": {},
     "output_type": "execute_result"
    }
   ],
   "source": [
    "[df.drop(df.loc[df['age'] == i].index, inplace=True) for i in [20, 21, 22]]"
   ]
  },
  {
   "cell_type": "markdown",
   "id": "empty-domain",
   "metadata": {},
   "source": [
    "## Après suppression"
   ]
  },
  {
   "cell_type": "code",
   "execution_count": 33,
   "id": "generic-stability",
   "metadata": {},
   "outputs": [],
   "source": [
    "age_note = {label: recuperate_labels_from_one_label(df, \"age\", label) for label in age_label}\n",
    "age_note = dict(sorted(age_note.items(), key=lambda item: item[1]))"
   ]
  },
  {
   "cell_type": "code",
   "execution_count": 34,
   "id": "legitimate-developer",
   "metadata": {},
   "outputs": [
    {
     "data": {
      "image/png": "[encoded data removed]",
      "text/plain": [
       "<Figure size 432x288 with 1 Axes>"
      ]
     },
     "metadata": {
      "needs_background": "light"
     },
     "output_type": "display_data"
    }
   ],
   "source": [
    "ploting(age_note, \"Moyenne note note final et age\")"
   ]
  },
  {
   "cell_type": "markdown",
   "id": "accomplished-disorder",
   "metadata": {},
   "source": [
    "h0 L'age serait-il corrélé à la moyenne de la note ? oui"
   ]
  },
  {
   "cell_type": "code",
   "execution_count": 35,
   "id": "wrong-disposal",
   "metadata": {},
   "outputs": [],
   "source": [
    "#del df[\"traveltime\"]"
   ]
  },
  {
   "cell_type": "code",
   "execution_count": null,
   "id": "fiscal-recorder",
   "metadata": {},
   "outputs": [],
   "source": []
  },
  {
   "cell_type": "markdown",
   "id": "derived-representative",
   "metadata": {},
   "source": [
    "# Adresse et note finale"
   ]
  },
  {
   "cell_type": "code",
   "execution_count": 36,
   "id": "wooden-dinner",
   "metadata": {},
   "outputs": [
    {
     "data": {
      "text/html": [
       "<div>\n",
       "<style scoped>\n",
       "    .dataframe tbody tr th:only-of-type {\n",
       "        vertical-align: middle;\n",
       "    }\n",
       "\n",
       "    .dataframe tbody tr th {\n",
       "        vertical-align: top;\n",
       "    }\n",
       "\n",
       "    .dataframe thead th {\n",
       "        text-align: right;\n",
       "    }\n",
       "</style>\n",
       "<table border=\"1\" class=\"dataframe\">\n",
       "  <thead>\n",
       "    <tr style=\"text-align: right;\">\n",
       "      <th></th>\n",
       "      <th>age</th>\n",
       "      <th>address</th>\n",
       "      <th>famsize</th>\n",
       "      <th>Pstatus</th>\n",
       "      <th>Medu</th>\n",
       "      <th>Fedu</th>\n",
       "      <th>Mjob</th>\n",
       "      <th>Fjob</th>\n",
       "      <th>reason</th>\n",
       "      <th>guardian</th>\n",
       "      <th>...</th>\n",
       "      <th>famrel</th>\n",
       "      <th>freetime</th>\n",
       "      <th>goout</th>\n",
       "      <th>Dalc</th>\n",
       "      <th>Walc</th>\n",
       "      <th>health</th>\n",
       "      <th>absences</th>\n",
       "      <th>G1</th>\n",
       "      <th>G2</th>\n",
       "      <th>G3</th>\n",
       "    </tr>\n",
       "  </thead>\n",
       "  <tbody>\n",
       "    <tr>\n",
       "      <th>0</th>\n",
       "      <td>18</td>\n",
       "      <td>U</td>\n",
       "      <td>GT3</td>\n",
       "      <td>A</td>\n",
       "      <td>4</td>\n",
       "      <td>4</td>\n",
       "      <td>at_home</td>\n",
       "      <td>teacher</td>\n",
       "      <td>course</td>\n",
       "      <td>mother</td>\n",
       "      <td>...</td>\n",
       "      <td>4</td>\n",
       "      <td>3</td>\n",
       "      <td>4</td>\n",
       "      <td>1</td>\n",
       "      <td>1</td>\n",
       "      <td>3</td>\n",
       "      <td>6</td>\n",
       "      <td>5</td>\n",
       "      <td>6</td>\n",
       "      <td>6</td>\n",
       "    </tr>\n",
       "    <tr>\n",
       "      <th>1</th>\n",
       "      <td>17</td>\n",
       "      <td>U</td>\n",
       "      <td>GT3</td>\n",
       "      <td>T</td>\n",
       "      <td>1</td>\n",
       "      <td>1</td>\n",
       "      <td>at_home</td>\n",
       "      <td>other</td>\n",
       "      <td>course</td>\n",
       "      <td>father</td>\n",
       "      <td>...</td>\n",
       "      <td>5</td>\n",
       "      <td>3</td>\n",
       "      <td>3</td>\n",
       "      <td>1</td>\n",
       "      <td>1</td>\n",
       "      <td>3</td>\n",
       "      <td>4</td>\n",
       "      <td>5</td>\n",
       "      <td>5</td>\n",
       "      <td>6</td>\n",
       "    </tr>\n",
       "    <tr>\n",
       "      <th>2</th>\n",
       "      <td>15</td>\n",
       "      <td>U</td>\n",
       "      <td>LE3</td>\n",
       "      <td>T</td>\n",
       "      <td>1</td>\n",
       "      <td>1</td>\n",
       "      <td>at_home</td>\n",
       "      <td>other</td>\n",
       "      <td>other</td>\n",
       "      <td>mother</td>\n",
       "      <td>...</td>\n",
       "      <td>4</td>\n",
       "      <td>3</td>\n",
       "      <td>2</td>\n",
       "      <td>2</td>\n",
       "      <td>3</td>\n",
       "      <td>3</td>\n",
       "      <td>10</td>\n",
       "      <td>7</td>\n",
       "      <td>8</td>\n",
       "      <td>10</td>\n",
       "    </tr>\n",
       "    <tr>\n",
       "      <th>3</th>\n",
       "      <td>15</td>\n",
       "      <td>U</td>\n",
       "      <td>GT3</td>\n",
       "      <td>T</td>\n",
       "      <td>4</td>\n",
       "      <td>2</td>\n",
       "      <td>health</td>\n",
       "      <td>services</td>\n",
       "      <td>home</td>\n",
       "      <td>mother</td>\n",
       "      <td>...</td>\n",
       "      <td>3</td>\n",
       "      <td>2</td>\n",
       "      <td>2</td>\n",
       "      <td>1</td>\n",
       "      <td>1</td>\n",
       "      <td>5</td>\n",
       "      <td>2</td>\n",
       "      <td>15</td>\n",
       "      <td>14</td>\n",
       "      <td>15</td>\n",
       "    </tr>\n",
       "    <tr>\n",
       "      <th>4</th>\n",
       "      <td>16</td>\n",
       "      <td>U</td>\n",
       "      <td>GT3</td>\n",
       "      <td>T</td>\n",
       "      <td>3</td>\n",
       "      <td>3</td>\n",
       "      <td>other</td>\n",
       "      <td>other</td>\n",
       "      <td>home</td>\n",
       "      <td>father</td>\n",
       "      <td>...</td>\n",
       "      <td>4</td>\n",
       "      <td>3</td>\n",
       "      <td>2</td>\n",
       "      <td>1</td>\n",
       "      <td>2</td>\n",
       "      <td>5</td>\n",
       "      <td>4</td>\n",
       "      <td>6</td>\n",
       "      <td>10</td>\n",
       "      <td>10</td>\n",
       "    </tr>\n",
       "  </tbody>\n",
       "</table>\n",
       "<p>5 rows × 31 columns</p>\n",
       "</div>"
      ],
      "text/plain": [
       "   age address famsize Pstatus  Medu  Fedu     Mjob      Fjob  reason  \\\n",
       "0   18       U     GT3       A     4     4  at_home   teacher  course   \n",
       "1   17       U     GT3       T     1     1  at_home     other  course   \n",
       "2   15       U     LE3       T     1     1  at_home     other   other   \n",
       "3   15       U     GT3       T     4     2   health  services    home   \n",
       "4   16       U     GT3       T     3     3    other     other    home   \n",
       "\n",
       "  guardian  ...  famrel  freetime  goout Dalc Walc health absences  G1  G2  G3  \n",
       "0   mother  ...       4         3      4    1    1      3        6   5   6   6  \n",
       "1   father  ...       5         3      3    1    1      3        4   5   5   6  \n",
       "2   mother  ...       4         3      2    2    3      3       10   7   8  10  \n",
       "3   mother  ...       3         2      2    1    1      5        2  15  14  15  \n",
       "4   father  ...       4         3      2    1    2      5        4   6  10  10  \n",
       "\n",
       "[5 rows x 31 columns]"
      ]
     },
     "execution_count": 36,
     "metadata": {},
     "output_type": "execute_result"
    }
   ],
   "source": [
    "df.head()"
   ]
  },
  {
   "cell_type": "code",
   "execution_count": 37,
   "id": "cross-arrangement",
   "metadata": {},
   "outputs": [
    {
     "data": {
      "text/plain": [
       "array(['U', 'R'], dtype=object)"
      ]
     },
     "execution_count": 37,
     "metadata": {},
     "output_type": "execute_result"
    }
   ],
   "source": [
    "label_adresse = df[\"address\"].unique()\n",
    "label_adresse"
   ]
  },
  {
   "cell_type": "markdown",
   "id": "illegal-elevation",
   "metadata": {},
   "source": [
    "Il semble que nous ayons 2 type d'adresses dans notre dataset."
   ]
  },
  {
   "cell_type": "markdown",
   "id": "dependent-south",
   "metadata": {},
   "source": [
    "Hypothèse 0: L'adresse influence t-elle la note finale ?"
   ]
  },
  {
   "cell_type": "code",
   "execution_count": 38,
   "id": "olympic-acrylic",
   "metadata": {},
   "outputs": [
    {
     "data": {
      "text/plain": [
       "{'U': 303, 'R': 87}"
      ]
     },
     "execution_count": 38,
     "metadata": {},
     "output_type": "execute_result"
    }
   ],
   "source": [
    "dico = {address: len(df[df[\"address\"] == address]) for address in label_adresse}\n",
    "dico"
   ]
  },
  {
   "cell_type": "code",
   "execution_count": 39,
   "id": "sticky-porter",
   "metadata": {},
   "outputs": [
    {
     "data": {
      "image/png": "[encoded data removed]",
      "text/plain": [
       "<Figure size 432x288 with 1 Axes>"
      ]
     },
     "metadata": {
      "needs_background": "light"
     },
     "output_type": "display_data"
    }
   ],
   "source": [
    "ploting(dico, \"Répartition des milieu de vie\")"
   ]
  },
  {
   "cell_type": "code",
   "execution_count": 40,
   "id": "equipped-trinity",
   "metadata": {},
   "outputs": [
    {
     "name": "stdout",
     "output_type": "stream",
     "text": [
      "Il semble que nous ayons une majorité de personne vivant en urbain de ratio: 3.4827586206896552 entre les deux données\n"
     ]
    }
   ],
   "source": [
    "print(\"Il semble que nous ayons une majorité de personne vivant en urbain de ratio:\", dico[\"U\"] / dico[\"R\"], \"entre les deux données\")"
   ]
  },
  {
   "cell_type": "code",
   "execution_count": 41,
   "id": "defined-offer",
   "metadata": {},
   "outputs": [
    {
     "data": {
      "text/plain": [
       "{'U': 10.650165016501651, 'R': 9.540229885057471}"
      ]
     },
     "execution_count": 41,
     "metadata": {},
     "output_type": "execute_result"
    }
   ],
   "source": [
    "milieu_de_vie_et_note = {label: recuperate_labels_from_one_label(df, \"address\", label) for label in label_adresse}\n",
    "milieu_de_vie_et_note"
   ]
  },
  {
   "cell_type": "code",
   "execution_count": 42,
   "id": "consistent-characterization",
   "metadata": {},
   "outputs": [
    {
     "data": {
      "image/png": "[encoded data removed]",
      "text/plain": [
       "<Figure size 432x288 with 1 Axes>"
      ]
     },
     "metadata": {
      "needs_background": "light"
     },
     "output_type": "display_data"
    }
   ],
   "source": [
    "ploting(milieu_de_vie_et_note, \"milieu de vie et moyenne de note finale\")"
   ]
  },
  {
   "cell_type": "markdown",
   "id": "dramatic-richmond",
   "metadata": {},
   "source": [
    "Avec une confiance < 80 % et une marge d'erreur > 5 % nous décidons de supprimer la variable catégorielle \"adresse\" par son manque de représentativité dans la population."
   ]
  },
  {
   "cell_type": "code",
   "execution_count": 43,
   "id": "unique-equation",
   "metadata": {},
   "outputs": [],
   "source": [
    "del df[\"address\"]"
   ]
  },
  {
   "cell_type": "code",
   "execution_count": null,
   "id": "stuck-portuguese",
   "metadata": {},
   "outputs": [],
   "source": []
  },
  {
   "cell_type": "code",
   "execution_count": null,
   "id": "close-vancouver",
   "metadata": {},
   "outputs": [],
   "source": []
  },
  {
   "cell_type": "markdown",
   "id": "disabled-columbia",
   "metadata": {},
   "source": [
    "### Family size and final note"
   ]
  },
  {
   "cell_type": "code",
   "execution_count": 44,
   "id": "jewish-clothing",
   "metadata": {},
   "outputs": [
    {
     "data": {
      "text/html": [
       "<div>\n",
       "<style scoped>\n",
       "    .dataframe tbody tr th:only-of-type {\n",
       "        vertical-align: middle;\n",
       "    }\n",
       "\n",
       "    .dataframe tbody tr th {\n",
       "        vertical-align: top;\n",
       "    }\n",
       "\n",
       "    .dataframe thead th {\n",
       "        text-align: right;\n",
       "    }\n",
       "</style>\n",
       "<table border=\"1\" class=\"dataframe\">\n",
       "  <thead>\n",
       "    <tr style=\"text-align: right;\">\n",
       "      <th></th>\n",
       "      <th>age</th>\n",
       "      <th>famsize</th>\n",
       "      <th>Pstatus</th>\n",
       "      <th>Medu</th>\n",
       "      <th>Fedu</th>\n",
       "      <th>Mjob</th>\n",
       "      <th>Fjob</th>\n",
       "      <th>reason</th>\n",
       "      <th>guardian</th>\n",
       "      <th>traveltime</th>\n",
       "      <th>...</th>\n",
       "      <th>famrel</th>\n",
       "      <th>freetime</th>\n",
       "      <th>goout</th>\n",
       "      <th>Dalc</th>\n",
       "      <th>Walc</th>\n",
       "      <th>health</th>\n",
       "      <th>absences</th>\n",
       "      <th>G1</th>\n",
       "      <th>G2</th>\n",
       "      <th>G3</th>\n",
       "    </tr>\n",
       "  </thead>\n",
       "  <tbody>\n",
       "    <tr>\n",
       "      <th>0</th>\n",
       "      <td>18</td>\n",
       "      <td>GT3</td>\n",
       "      <td>A</td>\n",
       "      <td>4</td>\n",
       "      <td>4</td>\n",
       "      <td>at_home</td>\n",
       "      <td>teacher</td>\n",
       "      <td>course</td>\n",
       "      <td>mother</td>\n",
       "      <td>2</td>\n",
       "      <td>...</td>\n",
       "      <td>4</td>\n",
       "      <td>3</td>\n",
       "      <td>4</td>\n",
       "      <td>1</td>\n",
       "      <td>1</td>\n",
       "      <td>3</td>\n",
       "      <td>6</td>\n",
       "      <td>5</td>\n",
       "      <td>6</td>\n",
       "      <td>6</td>\n",
       "    </tr>\n",
       "    <tr>\n",
       "      <th>1</th>\n",
       "      <td>17</td>\n",
       "      <td>GT3</td>\n",
       "      <td>T</td>\n",
       "      <td>1</td>\n",
       "      <td>1</td>\n",
       "      <td>at_home</td>\n",
       "      <td>other</td>\n",
       "      <td>course</td>\n",
       "      <td>father</td>\n",
       "      <td>1</td>\n",
       "      <td>...</td>\n",
       "      <td>5</td>\n",
       "      <td>3</td>\n",
       "      <td>3</td>\n",
       "      <td>1</td>\n",
       "      <td>1</td>\n",
       "      <td>3</td>\n",
       "      <td>4</td>\n",
       "      <td>5</td>\n",
       "      <td>5</td>\n",
       "      <td>6</td>\n",
       "    </tr>\n",
       "    <tr>\n",
       "      <th>2</th>\n",
       "      <td>15</td>\n",
       "      <td>LE3</td>\n",
       "      <td>T</td>\n",
       "      <td>1</td>\n",
       "      <td>1</td>\n",
       "      <td>at_home</td>\n",
       "      <td>other</td>\n",
       "      <td>other</td>\n",
       "      <td>mother</td>\n",
       "      <td>1</td>\n",
       "      <td>...</td>\n",
       "      <td>4</td>\n",
       "      <td>3</td>\n",
       "      <td>2</td>\n",
       "      <td>2</td>\n",
       "      <td>3</td>\n",
       "      <td>3</td>\n",
       "      <td>10</td>\n",
       "      <td>7</td>\n",
       "      <td>8</td>\n",
       "      <td>10</td>\n",
       "    </tr>\n",
       "    <tr>\n",
       "      <th>3</th>\n",
       "      <td>15</td>\n",
       "      <td>GT3</td>\n",
       "      <td>T</td>\n",
       "      <td>4</td>\n",
       "      <td>2</td>\n",
       "      <td>health</td>\n",
       "      <td>services</td>\n",
       "      <td>home</td>\n",
       "      <td>mother</td>\n",
       "      <td>1</td>\n",
       "      <td>...</td>\n",
       "      <td>3</td>\n",
       "      <td>2</td>\n",
       "      <td>2</td>\n",
       "      <td>1</td>\n",
       "      <td>1</td>\n",
       "      <td>5</td>\n",
       "      <td>2</td>\n",
       "      <td>15</td>\n",
       "      <td>14</td>\n",
       "      <td>15</td>\n",
       "    </tr>\n",
       "    <tr>\n",
       "      <th>4</th>\n",
       "      <td>16</td>\n",
       "      <td>GT3</td>\n",
       "      <td>T</td>\n",
       "      <td>3</td>\n",
       "      <td>3</td>\n",
       "      <td>other</td>\n",
       "      <td>other</td>\n",
       "      <td>home</td>\n",
       "      <td>father</td>\n",
       "      <td>1</td>\n",
       "      <td>...</td>\n",
       "      <td>4</td>\n",
       "      <td>3</td>\n",
       "      <td>2</td>\n",
       "      <td>1</td>\n",
       "      <td>2</td>\n",
       "      <td>5</td>\n",
       "      <td>4</td>\n",
       "      <td>6</td>\n",
       "      <td>10</td>\n",
       "      <td>10</td>\n",
       "    </tr>\n",
       "  </tbody>\n",
       "</table>\n",
       "<p>5 rows × 30 columns</p>\n",
       "</div>"
      ],
      "text/plain": [
       "   age famsize Pstatus  Medu  Fedu     Mjob      Fjob  reason guardian  \\\n",
       "0   18     GT3       A     4     4  at_home   teacher  course   mother   \n",
       "1   17     GT3       T     1     1  at_home     other  course   father   \n",
       "2   15     LE3       T     1     1  at_home     other   other   mother   \n",
       "3   15     GT3       T     4     2   health  services    home   mother   \n",
       "4   16     GT3       T     3     3    other     other    home   father   \n",
       "\n",
       "   traveltime  ...  famrel  freetime goout Dalc Walc health absences  G1  G2  \\\n",
       "0           2  ...       4         3     4    1    1      3        6   5   6   \n",
       "1           1  ...       5         3     3    1    1      3        4   5   5   \n",
       "2           1  ...       4         3     2    2    3      3       10   7   8   \n",
       "3           1  ...       3         2     2    1    1      5        2  15  14   \n",
       "4           1  ...       4         3     2    1    2      5        4   6  10   \n",
       "\n",
       "   G3  \n",
       "0   6  \n",
       "1   6  \n",
       "2  10  \n",
       "3  15  \n",
       "4  10  \n",
       "\n",
       "[5 rows x 30 columns]"
      ]
     },
     "execution_count": 44,
     "metadata": {},
     "output_type": "execute_result"
    }
   ],
   "source": [
    "df.head()"
   ]
  },
  {
   "cell_type": "code",
   "execution_count": null,
   "id": "applied-national",
   "metadata": {},
   "outputs": [],
   "source": []
  },
  {
   "cell_type": "code",
   "execution_count": 45,
   "id": "impressed-tennessee",
   "metadata": {},
   "outputs": [
    {
     "data": {
      "text/plain": [
       "array(['GT3', 'LE3'], dtype=object)"
      ]
     },
     "execution_count": 45,
     "metadata": {},
     "output_type": "execute_result"
    }
   ],
   "source": [
    "famsize = df[\"famsize\"].unique()\n",
    "famsize"
   ]
  },
  {
   "cell_type": "code",
   "execution_count": 46,
   "id": "revolutionary-nursing",
   "metadata": {},
   "outputs": [
    {
     "data": {
      "text/plain": [
       "{'GT3': 277, 'LE3': 113}"
      ]
     },
     "execution_count": 46,
     "metadata": {},
     "output_type": "execute_result"
    }
   ],
   "source": [
    "fam_size = {label: len(df[df[\"famsize\"] == label]) for label in famsize}\n",
    "fam_size"
   ]
  },
  {
   "cell_type": "code",
   "execution_count": 47,
   "id": "going-astrology",
   "metadata": {},
   "outputs": [
    {
     "data": {
      "image/png": "[encoded data removed]",
      "text/plain": [
       "<Figure size 432x288 with 1 Axes>"
      ]
     },
     "metadata": {
      "needs_background": "light"
     },
     "output_type": "display_data"
    }
   ],
   "source": [
    "ploting(fam_size, \"\")"
   ]
  },
  {
   "cell_type": "markdown",
   "id": "focused-snowboard",
   "metadata": {},
   "source": [
    "Il semble que nous ayons 281 familles > 3. Contre 114 familles <= 3."
   ]
  },
  {
   "cell_type": "markdown",
   "id": "hollow-dominant",
   "metadata": {},
   "source": [
    "Est-ce que le nombre de personne dans une famille influence t-il la note finale ?"
   ]
  },
  {
   "cell_type": "code",
   "execution_count": null,
   "id": "convenient-offense",
   "metadata": {},
   "outputs": [],
   "source": []
  },
  {
   "cell_type": "code",
   "execution_count": 48,
   "id": "cleared-month",
   "metadata": {},
   "outputs": [
    {
     "data": {
      "text/plain": [
       "{'GT3': 10.151624548736462, 'LE3': 11.017699115044248}"
      ]
     },
     "execution_count": 48,
     "metadata": {},
     "output_type": "execute_result"
    }
   ],
   "source": [
    "famsiz_note = {label: recuperate_labels_from_one_label(df, \"famsize\", label) for label in fam_size}\n",
    "famsiz_note"
   ]
  },
  {
   "cell_type": "code",
   "execution_count": 49,
   "id": "liberal-philip",
   "metadata": {},
   "outputs": [
    {
     "data": {
      "image/png": "[encoded data removed]",
      "text/plain": [
       "<Figure size 432x288 with 1 Axes>"
      ]
     },
     "metadata": {
      "needs_background": "light"
     },
     "output_type": "display_data"
    }
   ],
   "source": [
    "ploting(famsiz_note, \"\")"
   ]
  },
  {
   "cell_type": "markdown",
   "id": "purple-array",
   "metadata": {},
   "source": [
    "Il semble qu'il n'y ai pas de correlation entre le nombre de personne dans une famille et la note finale. De plus, la taille de l'échantillon n'est de \"LE3\" n'est pas représentative car il est en dessous d'un niveau de confience de 80 % avec une marge d'erreur de > 5 %"
   ]
  },
  {
   "cell_type": "code",
   "execution_count": 50,
   "id": "decreased-newman",
   "metadata": {},
   "outputs": [],
   "source": [
    "del df[\"famsize\"]"
   ]
  },
  {
   "cell_type": "code",
   "execution_count": null,
   "id": "israeli-magazine",
   "metadata": {},
   "outputs": [],
   "source": []
  },
  {
   "cell_type": "code",
   "execution_count": null,
   "id": "cardiovascular-decision",
   "metadata": {},
   "outputs": [],
   "source": []
  },
  {
   "cell_type": "code",
   "execution_count": null,
   "id": "signal-healthcare",
   "metadata": {},
   "outputs": [],
   "source": []
  },
  {
   "cell_type": "code",
   "execution_count": null,
   "id": "structural-saturn",
   "metadata": {},
   "outputs": [],
   "source": []
  },
  {
   "cell_type": "markdown",
   "id": "exotic-visitor",
   "metadata": {},
   "source": [
    "### Pstatus et la note final"
   ]
  },
  {
   "cell_type": "code",
   "execution_count": 51,
   "id": "tracked-livestock",
   "metadata": {},
   "outputs": [
    {
     "data": {
      "text/plain": [
       "array(['A', 'T'], dtype=object)"
      ]
     },
     "execution_count": 51,
     "metadata": {},
     "output_type": "execute_result"
    }
   ],
   "source": [
    "Pstatus = df[\"Pstatus\"].unique()\n",
    "Pstatus"
   ]
  },
  {
   "cell_type": "code",
   "execution_count": 52,
   "id": "compact-moore",
   "metadata": {},
   "outputs": [
    {
     "data": {
      "text/plain": [
       "{'A': 39, 'T': 351}"
      ]
     },
     "execution_count": 52,
     "metadata": {},
     "output_type": "execute_result"
    }
   ],
   "source": [
    "Pstatus_dico = {label: len(df[df[\"Pstatus\"] == label]) for label in Pstatus}\n",
    "Pstatus_dico"
   ]
  },
  {
   "cell_type": "markdown",
   "id": "stock-consequence",
   "metadata": {},
   "source": [
    "Il semble que nous avons une asymétrie entre nos deux variables."
   ]
  },
  {
   "cell_type": "code",
   "execution_count": 53,
   "id": "opened-bridal",
   "metadata": {},
   "outputs": [
    {
     "data": {
      "image/png": "[encoded data removed]",
      "text/plain": [
       "<Figure size 432x288 with 1 Axes>"
      ]
     },
     "metadata": {
      "needs_background": "light"
     },
     "output_type": "display_data"
    }
   ],
   "source": [
    "ploting(Pstatus_dico, \"\")"
   ]
  },
  {
   "cell_type": "code",
   "execution_count": 54,
   "id": "presidential-february",
   "metadata": {},
   "outputs": [
    {
     "name": "stdout",
     "output_type": "stream",
     "text": [
      "{'A': 11.076923076923077, 'T': 10.327635327635328}\n"
     ]
    }
   ],
   "source": [
    "famsize_note = {label: recuperate_labels_from_one_label(df, \"Pstatus\", label) for label in Pstatus}\n",
    "print(famsize_note)"
   ]
  },
  {
   "cell_type": "code",
   "execution_count": 55,
   "id": "competent-portland",
   "metadata": {},
   "outputs": [
    {
     "data": {
      "image/png": "[encoded data removed]",
      "text/plain": [
       "<Figure size 432x288 with 1 Axes>"
      ]
     },
     "metadata": {
      "needs_background": "light"
     },
     "output_type": "display_data"
    }
   ],
   "source": [
    "ploting(famsize_note, \"\")"
   ]
  },
  {
   "cell_type": "markdown",
   "id": "scheduled-warren",
   "metadata": {},
   "source": [
    "Il semble qu'il n'y ai pas de correlation entre le nombre de personne dans une famille et la note finale. De plus, la taille de l'échantillon n'est de \"LE3\" n'est pas représentative car il est en dessous d'un niveau de confience de 80 % avec une marge d'erreur de >= 9 %"
   ]
  },
  {
   "cell_type": "code",
   "execution_count": 56,
   "id": "fresh-gathering",
   "metadata": {},
   "outputs": [],
   "source": [
    "del df[\"Pstatus\"]"
   ]
  },
  {
   "cell_type": "code",
   "execution_count": null,
   "id": "laden-breach",
   "metadata": {},
   "outputs": [],
   "source": []
  },
  {
   "cell_type": "code",
   "execution_count": null,
   "id": "ideal-error",
   "metadata": {},
   "outputs": [],
   "source": []
  },
  {
   "cell_type": "code",
   "execution_count": null,
   "id": "improving-label",
   "metadata": {},
   "outputs": [],
   "source": []
  },
  {
   "cell_type": "code",
   "execution_count": null,
   "id": "superb-python",
   "metadata": {},
   "outputs": [],
   "source": []
  },
  {
   "cell_type": "code",
   "execution_count": 57,
   "id": "rural-blank",
   "metadata": {},
   "outputs": [
    {
     "name": "stdout",
     "output_type": "stream",
     "text": [
      "[4 1 3 2 0]\n"
     ]
    }
   ],
   "source": [
    "label_container = df['Medu'].unique()\n",
    "print(label_container)"
   ]
  },
  {
   "cell_type": "code",
   "execution_count": 58,
   "id": "egyptian-partner",
   "metadata": {},
   "outputs": [
    {
     "name": "stdout",
     "output_type": "stream",
     "text": [
      "{4: 130, 1: 58, 3: 97, 2: 102, 0: 3}\n"
     ]
    }
   ],
   "source": [
    "nb_var = {label: len(df[df['Medu'] == label]) for label in label_container}\n",
    "print(nb_var)"
   ]
  },
  {
   "cell_type": "code",
   "execution_count": 59,
   "id": "going-tunnel",
   "metadata": {},
   "outputs": [
    {
     "data": {
      "image/png": "[encoded data removed]",
      "text/plain": [
       "<Figure size 432x288 with 1 Axes>"
      ]
     },
     "metadata": {
      "needs_background": "light"
     },
     "output_type": "display_data"
    },
    {
     "data": {
      "image/png": "[encoded data removed]",
      "text/plain": [
       "<Figure size 432x288 with 1 Axes>"
      ]
     },
     "metadata": {},
     "output_type": "display_data"
    }
   ],
   "source": [
    "ploting(nb_var, \"\")\n",
    "ploting_camembert(nb_var, \"Répartition de l'age dans notre population\")"
   ]
  },
  {
   "cell_type": "code",
   "execution_count": 60,
   "id": "connected-pilot",
   "metadata": {},
   "outputs": [
    {
     "data": {
      "text/plain": [
       "array([4, 1, 3, 2, 0], dtype=int64)"
      ]
     },
     "execution_count": 60,
     "metadata": {},
     "output_type": "execute_result"
    }
   ],
   "source": [
    "df[\"Medu\"].unique()"
   ]
  },
  {
   "cell_type": "code",
   "execution_count": 61,
   "id": "photographic-wheat",
   "metadata": {},
   "outputs": [
    {
     "data": {
      "text/plain": [
       "array([4, 1, 3, 2], dtype=int64)"
      ]
     },
     "execution_count": 61,
     "metadata": {},
     "output_type": "execute_result"
    }
   ],
   "source": [
    "df = df.drop(df[(df.Medu == 0)].index)\n",
    "df[\"Medu\"].unique()"
   ]
  },
  {
   "cell_type": "code",
   "execution_count": 62,
   "id": "color-certificate",
   "metadata": {},
   "outputs": [
    {
     "name": "stdout",
     "output_type": "stream",
     "text": [
      "{4: 130, 1: 58, 3: 97, 2: 102}\n"
     ]
    }
   ],
   "source": [
    "label_container = df['Medu'].unique()\n",
    "nb_var = {label: len(df[df['Medu'] == label]) for label in label_container}\n",
    "print(nb_var)"
   ]
  },
  {
   "cell_type": "code",
   "execution_count": 63,
   "id": "handmade-means",
   "metadata": {},
   "outputs": [
    {
     "name": "stdout",
     "output_type": "stream",
     "text": [
      "{1: 8.706896551724139, 2: 9.735294117647058, 3: 10.24742268041237, 4: 11.738461538461538}\n"
     ]
    },
    {
     "data": {
      "image/png": "[encoded data removed]",
      "text/plain": [
       "<Figure size 432x288 with 1 Axes>"
      ]
     },
     "metadata": {
      "needs_background": "light"
     },
     "output_type": "display_data"
    }
   ],
   "source": [
    "final_note = {label: recuperate_labels_from_one_label(df, 'Medu', label) for label in label_container}\n",
    "final_note = dict(sorted(final_note.items(), key=lambda item: item[1]))\n",
    "\n",
    "print(final_note)\n",
    "ploting(final_note, \"\")"
   ]
  },
  {
   "cell_type": "code",
   "execution_count": null,
   "id": "senior-equality",
   "metadata": {},
   "outputs": [],
   "source": []
  },
  {
   "cell_type": "code",
   "execution_count": null,
   "id": "dominican-handling",
   "metadata": {},
   "outputs": [],
   "source": []
  },
  {
   "cell_type": "code",
   "execution_count": null,
   "id": "flush-remove",
   "metadata": {},
   "outputs": [],
   "source": []
  },
  {
   "cell_type": "code",
   "execution_count": 64,
   "id": "recorded-boston",
   "metadata": {},
   "outputs": [
    {
     "name": "stdout",
     "output_type": "stream",
     "text": [
      "[4 1 2 3 0]\n",
      "{4: 96, 1: 79, 2: 110, 3: 100, 0: 2}\n"
     ]
    },
    {
     "data": {
      "image/png": "[encoded data removed]",
      "text/plain": [
       "<Figure size 432x288 with 1 Axes>"
      ]
     },
     "metadata": {
      "needs_background": "light"
     },
     "output_type": "display_data"
    },
    {
     "name": "stdout",
     "output_type": "stream",
     "text": [
      "Suppression de Fedu.\n",
      "{4: 96, 1: 79, 2: 110, 3: 100}\n"
     ]
    },
    {
     "data": {
      "image/png": "[encoded data removed]",
      "text/plain": [
       "<Figure size 432x288 with 1 Axes>"
      ]
     },
     "metadata": {
      "needs_background": "light"
     },
     "output_type": "display_data"
    },
    {
     "name": "stdout",
     "output_type": "stream",
     "text": [
      "{1: 9.20253164556962, 2: 10.072727272727272, 3: 10.66, 4: 11.364583333333334}\n"
     ]
    },
    {
     "data": {
      "image/png": "[encoded data removed]",
      "text/plain": [
       "<Figure size 432x288 with 1 Axes>"
      ]
     },
     "metadata": {
      "needs_background": "light"
     },
     "output_type": "display_data"
    }
   ],
   "source": [
    "label_container = df['Fedu'].unique()\n",
    "print(label_container)\n",
    "\n",
    "\n",
    "nb_var = {label: len(df[df['Fedu'] == label]) for label in label_container}\n",
    "print(nb_var)\n",
    "ploting(nb_var, \"\")\n",
    "\n",
    "\n",
    "df = df.drop(df[(df.Fedu == 0)].index)\n",
    "label_container = df['Fedu'].unique()\n",
    "print(\"Suppression de Fedu.\")\n",
    "\n",
    "nb_var = {label: len(df[df['Fedu'] == label]) for label in label_container}\n",
    "print(nb_var)\n",
    "ploting(nb_var, \"\")\n",
    "\n",
    "final_note = {label: recuperate_labels_from_one_label(df, 'Fedu', label) for label in label_container}\n",
    "final_note = dict(sorted(final_note.items(), key=lambda item: item[1]))\n",
    "\n",
    "print(final_note)\n",
    "ploting(final_note, \"\")\n"
   ]
  },
  {
   "cell_type": "code",
   "execution_count": null,
   "id": "classified-monthly",
   "metadata": {},
   "outputs": [],
   "source": []
  },
  {
   "cell_type": "code",
   "execution_count": null,
   "id": "excellent-effects",
   "metadata": {},
   "outputs": [],
   "source": []
  },
  {
   "cell_type": "code",
   "execution_count": null,
   "id": "quiet-compiler",
   "metadata": {},
   "outputs": [],
   "source": []
  },
  {
   "cell_type": "code",
   "execution_count": null,
   "id": "manufactured-montreal",
   "metadata": {},
   "outputs": [],
   "source": []
  },
  {
   "cell_type": "code",
   "execution_count": null,
   "id": "subsequent-permission",
   "metadata": {},
   "outputs": [],
   "source": []
  },
  {
   "cell_type": "code",
   "execution_count": null,
   "id": "indian-thread",
   "metadata": {},
   "outputs": [],
   "source": []
  },
  {
   "cell_type": "code",
   "execution_count": 65,
   "id": "still-resistance",
   "metadata": {},
   "outputs": [
    {
     "name": "stdout",
     "output_type": "stream",
     "text": [
      "les variables\n",
      "['at_home' 'health' 'other' 'services' 'teacher']\n",
      "\n",
      "Nombre de variable\n",
      "{'at_home': 57, 'health': 33, 'other': 138, 'services': 100, 'teacher': 57}\n",
      "\n"
     ]
    },
    {
     "data": {
      "image/png": "[encoded data removed]",
      "text/plain": [
       "<Figure size 432x288 with 1 Axes>"
      ]
     },
     "metadata": {
      "needs_background": "light"
     },
     "output_type": "display_data"
    },
    {
     "name": "stdout",
     "output_type": "stream",
     "text": [
      "{'at_home': 9.052631578947368, 'other': 9.76086956521739, 'services': 11.0, 'teacher': 11.070175438596491, 'health': 12.06060606060606}\n"
     ]
    },
    {
     "data": {
      "image/png": "[encoded data removed]",
      "text/plain": [
       "<Figure size 432x288 with 1 Axes>"
      ]
     },
     "metadata": {
      "needs_background": "light"
     },
     "output_type": "display_data"
    }
   ],
   "source": [
    "label_container = df['Mjob'].unique()\n",
    "\n",
    "print(\"les variables\")\n",
    "print(label_container)\n",
    "print(\"\")\n",
    "    \n",
    "nb_var = {label: len(df[df['Mjob'] == label]) for label in label_container}\n",
    "    \n",
    "\n",
    "print(\"Nombre de variable\")\n",
    "print(nb_var)\n",
    "print(\"\")\n",
    "    \n",
    "ploting(nb_var, \"\")\n",
    "\n",
    "final_note = {label: recuperate_labels_from_one_label(df, 'Mjob', label) for label in label_container}\n",
    "final_note = dict(sorted(final_note.items(), key=lambda item: item[1]))\n",
    "\n",
    "print(final_note)\n",
    "ploting(final_note, \"\")"
   ]
  },
  {
   "cell_type": "code",
   "execution_count": 66,
   "id": "christian-letters",
   "metadata": {},
   "outputs": [],
   "source": [
    "del df[\"Mjob\"]"
   ]
  },
  {
   "cell_type": "code",
   "execution_count": null,
   "id": "suspected-extreme",
   "metadata": {},
   "outputs": [],
   "source": []
  },
  {
   "cell_type": "code",
   "execution_count": null,
   "id": "legislative-tours",
   "metadata": {},
   "outputs": [],
   "source": []
  },
  {
   "cell_type": "code",
   "execution_count": null,
   "id": "painful-token",
   "metadata": {},
   "outputs": [],
   "source": []
  },
  {
   "cell_type": "code",
   "execution_count": null,
   "id": "loaded-blanket",
   "metadata": {},
   "outputs": [],
   "source": []
  },
  {
   "cell_type": "code",
   "execution_count": 67,
   "id": "expected-operations",
   "metadata": {},
   "outputs": [
    {
     "name": "stdout",
     "output_type": "stream",
     "text": [
      "les variables\n",
      "['course' 'other' 'home' 'reputation']\n",
      "\n",
      "Nombre de variable\n",
      "{'course': 139, 'other': 34, 'home': 108, 'reputation': 104}\n",
      "\n"
     ]
    },
    {
     "data": {
      "image/png": "[encoded data removed]",
      "text/plain": [
       "<Figure size 432x288 with 1 Axes>"
      ]
     },
     "metadata": {
      "needs_background": "light"
     },
     "output_type": "display_data"
    },
    {
     "name": "stdout",
     "output_type": "stream",
     "text": [
      "{'course': 9.755395683453237, 'home': 10.212962962962964, 'reputation': 11.096153846153847, 'other': 11.147058823529411}\n"
     ]
    },
    {
     "data": {
      "image/png": "[encoded data removed]",
      "text/plain": [
       "<Figure size 432x288 with 1 Axes>"
      ]
     },
     "metadata": {
      "needs_background": "light"
     },
     "output_type": "display_data"
    }
   ],
   "source": [
    "label_container = df['reason'].unique()\n",
    "\n",
    "print(\"les variables\")\n",
    "print(label_container)\n",
    "print(\"\")\n",
    "    \n",
    "nb_var = {label: len(df[df['reason'] == label]) for label in label_container}\n",
    "    \n",
    "\n",
    "print(\"Nombre de variable\")\n",
    "print(nb_var)\n",
    "print(\"\")\n",
    "    \n",
    "ploting(nb_var, \"\")\n",
    "\n",
    "final_note = {label: recuperate_labels_from_one_label(df, 'reason', label) for label in label_container}\n",
    "final_note = dict(sorted(final_note.items(), key=lambda item: item[1]))\n",
    "\n",
    "print(final_note)\n",
    "ploting(final_note, \"\")"
   ]
  },
  {
   "cell_type": "code",
   "execution_count": 68,
   "id": "worst-turkish",
   "metadata": {},
   "outputs": [],
   "source": [
    "del df[\"reason\"]"
   ]
  },
  {
   "cell_type": "code",
   "execution_count": null,
   "id": "objective-textbook",
   "metadata": {},
   "outputs": [],
   "source": []
  },
  {
   "cell_type": "code",
   "execution_count": null,
   "id": "alike-trinity",
   "metadata": {},
   "outputs": [],
   "source": []
  },
  {
   "cell_type": "code",
   "execution_count": null,
   "id": "starting-lotus",
   "metadata": {},
   "outputs": [],
   "source": []
  },
  {
   "cell_type": "code",
   "execution_count": null,
   "id": "integral-layer",
   "metadata": {},
   "outputs": [],
   "source": []
  },
  {
   "cell_type": "code",
   "execution_count": null,
   "id": "stable-calvin",
   "metadata": {},
   "outputs": [],
   "source": []
  },
  {
   "cell_type": "code",
   "execution_count": 69,
   "id": "funky-scenario",
   "metadata": {},
   "outputs": [
    {
     "name": "stdout",
     "output_type": "stream",
     "text": [
      "les variables\n",
      "['mother' 'father' 'other']\n",
      "\n",
      "Nombre de variable\n",
      "{'mother': 269, 'father': 89, 'other': 27}\n",
      "\n"
     ]
    },
    {
     "data": {
      "image/png": "[encoded data removed]",
      "text/plain": [
       "<Figure size 432x288 with 1 Axes>"
      ]
     },
     "metadata": {
      "needs_background": "light"
     },
     "output_type": "display_data"
    },
    {
     "name": "stdout",
     "output_type": "stream",
     "text": [
      "{'other': 8.592592592592593, 'mother': 10.45724907063197, 'father': 10.640449438202246}\n"
     ]
    },
    {
     "data": {
      "image/png": "[encoded data removed]",
      "text/plain": [
       "<Figure size 432x288 with 1 Axes>"
      ]
     },
     "metadata": {
      "needs_background": "light"
     },
     "output_type": "display_data"
    }
   ],
   "source": [
    "label_container = df['guardian'].unique()\n",
    "\n",
    "print(\"les variables\")\n",
    "print(label_container)\n",
    "print(\"\")\n",
    "    \n",
    "nb_var = {label: len(df[df['guardian'] == label]) for label in label_container}\n",
    "    \n",
    "\n",
    "print(\"Nombre de variable\")\n",
    "print(nb_var)\n",
    "print(\"\")\n",
    "    \n",
    "ploting(nb_var, \"\")\n",
    "\n",
    "final_note = {label: recuperate_labels_from_one_label(df, 'guardian', label) for label in label_container}\n",
    "final_note = dict(sorted(final_note.items(), key=lambda item: item[1]))\n",
    "\n",
    "print(final_note)\n",
    "ploting(final_note, \"\")"
   ]
  },
  {
   "cell_type": "code",
   "execution_count": 70,
   "id": "quick-singer",
   "metadata": {},
   "outputs": [],
   "source": [
    "del df[\"guardian\"]"
   ]
  },
  {
   "cell_type": "code",
   "execution_count": null,
   "id": "impossible-ceramic",
   "metadata": {},
   "outputs": [],
   "source": []
  },
  {
   "cell_type": "code",
   "execution_count": null,
   "id": "occupational-diamond",
   "metadata": {},
   "outputs": [],
   "source": []
  },
  {
   "cell_type": "code",
   "execution_count": null,
   "id": "trained-involvement",
   "metadata": {},
   "outputs": [],
   "source": []
  },
  {
   "cell_type": "code",
   "execution_count": null,
   "id": "wrapped-amateur",
   "metadata": {},
   "outputs": [],
   "source": []
  },
  {
   "cell_type": "code",
   "execution_count": 71,
   "id": "parliamentary-establishment",
   "metadata": {},
   "outputs": [
    {
     "name": "stdout",
     "output_type": "stream",
     "text": [
      "les variables\n",
      "[2 1 3 4]\n",
      "\n",
      "Nombre de variable\n",
      "{'2': 103, '1': 251, '3': 23, '4': 8}\n",
      "\n"
     ]
    },
    {
     "data": {
      "image/png": "[encoded data removed]",
      "text/plain": [
       "<Figure size 432x288 with 1 Axes>"
      ]
     },
     "metadata": {
      "needs_background": "light"
     },
     "output_type": "display_data"
    },
    {
     "name": "stdout",
     "output_type": "stream",
     "text": [
      "{'4': 8.75, '3': 9.26086956521739, '2': 9.74757281553398, '1': 10.776892430278885}\n"
     ]
    },
    {
     "data": {
      "image/png": "[encoded data removed]",
      "text/plain": [
       "<Figure size 432x288 with 1 Axes>"
      ]
     },
     "metadata": {
      "needs_background": "light"
     },
     "output_type": "display_data"
    }
   ],
   "source": [
    "label_container = df['traveltime'].unique()\n",
    "\n",
    "print(\"les variables\")\n",
    "print(label_container)\n",
    "print(\"\")\n",
    "    \n",
    "nb_var = {str(label): len(df[df['traveltime'] == label]) for label in label_container}\n",
    "    \n",
    "\n",
    "print(\"Nombre de variable\")\n",
    "print(nb_var)\n",
    "print(\"\")\n",
    "    \n",
    "ploting(nb_var, \"\")\n",
    "\n",
    "final_note = {str(label): recuperate_labels_from_one_label(df, 'traveltime', label) for label in label_container}\n",
    "final_note = dict(sorted(final_note.items(), key=lambda item: item[1]))\n",
    "\n",
    "print(final_note)\n",
    "ploting(final_note, \"\")"
   ]
  },
  {
   "cell_type": "code",
   "execution_count": 72,
   "id": "pediatric-second",
   "metadata": {},
   "outputs": [],
   "source": [
    "#del df[\"traveltime\"]"
   ]
  },
  {
   "cell_type": "code",
   "execution_count": null,
   "id": "assumed-knock",
   "metadata": {},
   "outputs": [],
   "source": []
  },
  {
   "cell_type": "code",
   "execution_count": null,
   "id": "caroline-things",
   "metadata": {},
   "outputs": [],
   "source": []
  },
  {
   "cell_type": "code",
   "execution_count": 73,
   "id": "environmental-investing",
   "metadata": {},
   "outputs": [
    {
     "name": "stdout",
     "output_type": "stream",
     "text": [
      "les variables\n",
      "[2 3 1 4]\n",
      "\n",
      "Nombre de variable\n",
      "{'2': 195, '3': 63, '1': 101, '4': 26}\n",
      "\n"
     ]
    },
    {
     "data": {
      "image/png": "[encoded data removed]",
      "text/plain": [
       "<Figure size 432x288 with 1 Axes>"
      ]
     },
     "metadata": {
      "needs_background": "light"
     },
     "output_type": "display_data"
    },
    {
     "name": "stdout",
     "output_type": "stream",
     "text": [
      "{'1': 9.970297029702971, '2': 10.153846153846153, '3': 11.285714285714286, '4': 11.307692307692308}\n"
     ]
    },
    {
     "data": {
      "image/png": "[encoded data removed]",
      "text/plain": [
       "<Figure size 432x288 with 1 Axes>"
      ]
     },
     "metadata": {
      "needs_background": "light"
     },
     "output_type": "display_data"
    }
   ],
   "source": [
    "label_container = df['studytime'].unique()\n",
    "\n",
    "print(\"les variables\")\n",
    "print(label_container)\n",
    "print(\"\")\n",
    "    \n",
    "nb_var = {str(label): len(df[df['studytime'] == label]) for label in label_container}\n",
    "    \n",
    "\n",
    "print(\"Nombre de variable\")\n",
    "print(nb_var)\n",
    "print(\"\")\n",
    "    \n",
    "ploting(nb_var, \"\")\n",
    "\n",
    "final_note = {str(label): recuperate_labels_from_one_label(df, 'studytime', label) for label in label_container}\n",
    "final_note = dict(sorted(final_note.items(), key=lambda item: item[1]))\n",
    "\n",
    "print(final_note)\n",
    "ploting(final_note, \"\")"
   ]
  },
  {
   "cell_type": "code",
   "execution_count": 74,
   "id": "imported-correlation",
   "metadata": {},
   "outputs": [],
   "source": [
    "del df[\"studytime\"]"
   ]
  },
  {
   "cell_type": "code",
   "execution_count": null,
   "id": "romance-canal",
   "metadata": {},
   "outputs": [],
   "source": []
  },
  {
   "cell_type": "code",
   "execution_count": null,
   "id": "enabling-evanescence",
   "metadata": {},
   "outputs": [],
   "source": []
  },
  {
   "cell_type": "code",
   "execution_count": 75,
   "id": "numerous-sport",
   "metadata": {},
   "outputs": [
    {
     "name": "stdout",
     "output_type": "stream",
     "text": [
      "les variables\n",
      "[0 3 2 1]\n",
      "\n",
      "Nombre de variable\n",
      "{'0': 307, '3': 13, '2': 15, '1': 50}\n",
      "\n"
     ]
    },
    {
     "data": {
      "image/png": "[encoded data removed]",
      "text/plain": [
       "<Figure size 432x288 with 1 Axes>"
      ]
     },
     "metadata": {
      "needs_background": "light"
     },
     "output_type": "display_data"
    },
    {
     "name": "stdout",
     "output_type": "stream",
     "text": [
      "{'3': 5.153846153846154, '2': 5.466666666666667, '1': 8.12, '0': 11.19543973941368}\n"
     ]
    },
    {
     "data": {
      "image/png": "[encoded data removed]",
      "text/plain": [
       "<Figure size 432x288 with 1 Axes>"
      ]
     },
     "metadata": {
      "needs_background": "light"
     },
     "output_type": "display_data"
    }
   ],
   "source": [
    "label_container = df['failures'].unique()\n",
    "\n",
    "print(\"les variables\")\n",
    "print(label_container)\n",
    "print(\"\")\n",
    "    \n",
    "nb_var = {str(label): len(df[df['failures'] == label]) for label in label_container}\n",
    "    \n",
    "\n",
    "print(\"Nombre de variable\")\n",
    "print(nb_var)\n",
    "print(\"\")\n",
    "    \n",
    "ploting(nb_var, \"\")\n",
    "\n",
    "final_note = {str(label): recuperate_labels_from_one_label(df, 'failures', label) for label in label_container}\n",
    "final_note = dict(sorted(final_note.items(), key=lambda item: item[1]))\n",
    "\n",
    "print(final_note)\n",
    "ploting(final_note, \"\")"
   ]
  },
  {
   "cell_type": "code",
   "execution_count": 76,
   "id": "entire-aside",
   "metadata": {},
   "outputs": [],
   "source": [
    "del df[\"failures\"]"
   ]
  },
  {
   "cell_type": "code",
   "execution_count": null,
   "id": "different-mailing",
   "metadata": {},
   "outputs": [],
   "source": []
  },
  {
   "cell_type": "code",
   "execution_count": null,
   "id": "relative-broadcast",
   "metadata": {},
   "outputs": [],
   "source": []
  },
  {
   "cell_type": "code",
   "execution_count": null,
   "id": "traditional-glossary",
   "metadata": {},
   "outputs": [],
   "source": []
  },
  {
   "cell_type": "code",
   "execution_count": null,
   "id": "coral-aspect",
   "metadata": {},
   "outputs": [],
   "source": []
  },
  {
   "cell_type": "code",
   "execution_count": 77,
   "id": "continued-saturn",
   "metadata": {},
   "outputs": [
    {
     "name": "stdout",
     "output_type": "stream",
     "text": [
      "les variables\n",
      "['yes' 'no']\n",
      "\n",
      "Nombre de variable\n",
      "{'yes': 51, 'no': 334}\n",
      "\n"
     ]
    },
    {
     "data": {
      "image/png": "[encoded data removed]",
      "text/plain": [
       "<Figure size 432x288 with 1 Axes>"
      ]
     },
     "metadata": {
      "needs_background": "light"
     },
     "output_type": "display_data"
    },
    {
     "name": "stdout",
     "output_type": "stream",
     "text": [
      "{'yes': 9.431372549019608, 'no': 10.511976047904191}\n"
     ]
    },
    {
     "data": {
      "image/png": "[encoded data removed]",
      "text/plain": [
       "<Figure size 432x288 with 1 Axes>"
      ]
     },
     "metadata": {
      "needs_background": "light"
     },
     "output_type": "display_data"
    }
   ],
   "source": [
    "label_container = df['schoolsup'].unique()\n",
    "\n",
    "print(\"les variables\")\n",
    "print(label_container)\n",
    "print(\"\")\n",
    "    \n",
    "nb_var = {label: len(df[df['schoolsup'] == label]) for label in label_container}\n",
    "    \n",
    "\n",
    "print(\"Nombre de variable\")\n",
    "print(nb_var)\n",
    "print(\"\")\n",
    "    \n",
    "ploting(nb_var, \"\")\n",
    "\n",
    "final_note = {label: recuperate_labels_from_one_label(df, 'schoolsup', label) for label in label_container}\n",
    "final_note = dict(sorted(final_note.items(), key=lambda item: item[1]))\n",
    "\n",
    "print(final_note)\n",
    "ploting(final_note, \"\")"
   ]
  },
  {
   "cell_type": "code",
   "execution_count": 78,
   "id": "intensive-adobe",
   "metadata": {},
   "outputs": [],
   "source": [
    "del df[\"schoolsup\"]"
   ]
  },
  {
   "cell_type": "code",
   "execution_count": null,
   "id": "great-forwarding",
   "metadata": {},
   "outputs": [],
   "source": []
  },
  {
   "cell_type": "code",
   "execution_count": null,
   "id": "talented-implement",
   "metadata": {},
   "outputs": [],
   "source": []
  },
  {
   "cell_type": "code",
   "execution_count": 79,
   "id": "subject-fisher",
   "metadata": {},
   "outputs": [
    {
     "name": "stdout",
     "output_type": "stream",
     "text": [
      "les variables\n",
      "['no' 'yes']\n",
      "\n",
      "Nombre de variable\n",
      "{'no': 147, 'yes': 238}\n",
      "\n"
     ]
    },
    {
     "data": {
      "image/png": "[encoded data removed]",
      "text/plain": [
       "<Figure size 432x288 with 1 Axes>"
      ]
     },
     "metadata": {
      "needs_background": "light"
     },
     "output_type": "display_data"
    },
    {
     "name": "stdout",
     "output_type": "stream",
     "text": [
      "{'yes': 10.239495798319327, 'no': 10.578231292517007}\n"
     ]
    },
    {
     "data": {
      "image/png": "[encoded data removed]",
      "text/plain": [
       "<Figure size 432x288 with 1 Axes>"
      ]
     },
     "metadata": {
      "needs_background": "light"
     },
     "output_type": "display_data"
    }
   ],
   "source": [
    "label_container = df['famsup'].unique()\n",
    "\n",
    "print(\"les variables\")\n",
    "print(label_container)\n",
    "print(\"\")\n",
    "    \n",
    "nb_var = {label: len(df[df['famsup'] == label]) for label in label_container}\n",
    "    \n",
    "\n",
    "print(\"Nombre de variable\")\n",
    "print(nb_var)\n",
    "print(\"\")\n",
    "    \n",
    "ploting(nb_var, \"\")\n",
    "\n",
    "final_note = {label: recuperate_labels_from_one_label(df, 'famsup', label) for label in label_container}\n",
    "final_note = dict(sorted(final_note.items(), key=lambda item: item[1]))\n",
    "\n",
    "print(final_note)\n",
    "ploting(final_note, \"\")"
   ]
  },
  {
   "cell_type": "code",
   "execution_count": 80,
   "id": "centered-logan",
   "metadata": {},
   "outputs": [],
   "source": [
    "del df[\"famsup\"]"
   ]
  },
  {
   "cell_type": "code",
   "execution_count": null,
   "id": "hundred-boating",
   "metadata": {},
   "outputs": [],
   "source": []
  },
  {
   "cell_type": "code",
   "execution_count": null,
   "id": "extra-capital",
   "metadata": {},
   "outputs": [],
   "source": []
  },
  {
   "cell_type": "code",
   "execution_count": null,
   "id": "checked-cocktail",
   "metadata": {},
   "outputs": [],
   "source": []
  },
  {
   "cell_type": "code",
   "execution_count": null,
   "id": "equipped-indie",
   "metadata": {},
   "outputs": [],
   "source": []
  },
  {
   "cell_type": "code",
   "execution_count": 81,
   "id": "virgin-venice",
   "metadata": {},
   "outputs": [
    {
     "name": "stdout",
     "output_type": "stream",
     "text": [
      "les variables\n",
      "['no' 'yes']\n",
      "\n",
      "Nombre de variable\n",
      "{'no': 208, 'yes': 177}\n",
      "\n"
     ]
    },
    {
     "data": {
      "image/png": "[encoded data removed]",
      "text/plain": [
       "<Figure size 432x288 with 1 Axes>"
      ]
     },
     "metadata": {
      "needs_background": "light"
     },
     "output_type": "display_data"
    },
    {
     "name": "stdout",
     "output_type": "stream",
     "text": [
      "{'no': 9.951923076923077, 'yes': 10.858757062146893}\n"
     ]
    },
    {
     "data": {
      "image/png": "[encoded data removed]",
      "text/plain": [
       "<Figure size 432x288 with 1 Axes>"
      ]
     },
     "metadata": {
      "needs_background": "light"
     },
     "output_type": "display_data"
    }
   ],
   "source": [
    "label_container = df['paid'].unique()\n",
    "\n",
    "print(\"les variables\")\n",
    "print(label_container)\n",
    "print(\"\")\n",
    "    \n",
    "nb_var = {label: len(df[df['paid'] == label]) for label in label_container}\n",
    "    \n",
    "\n",
    "print(\"Nombre de variable\")\n",
    "print(nb_var)\n",
    "print(\"\")\n",
    "    \n",
    "ploting(nb_var, \"\")\n",
    "\n",
    "final_note = {label: recuperate_labels_from_one_label(df, 'paid', label) for label in label_container}\n",
    "final_note = dict(sorted(final_note.items(), key=lambda item: item[1]))\n",
    "\n",
    "print(final_note)\n",
    "ploting(final_note, \"\")"
   ]
  },
  {
   "cell_type": "code",
   "execution_count": null,
   "id": "passing-trustee",
   "metadata": {},
   "outputs": [],
   "source": []
  },
  {
   "cell_type": "code",
   "execution_count": null,
   "id": "filled-digit",
   "metadata": {},
   "outputs": [],
   "source": []
  },
  {
   "cell_type": "code",
   "execution_count": null,
   "id": "orange-fifth",
   "metadata": {},
   "outputs": [],
   "source": []
  },
  {
   "cell_type": "code",
   "execution_count": null,
   "id": "uniform-present",
   "metadata": {},
   "outputs": [],
   "source": []
  },
  {
   "cell_type": "code",
   "execution_count": 82,
   "id": "ruled-score",
   "metadata": {},
   "outputs": [
    {
     "name": "stdout",
     "output_type": "stream",
     "text": [
      "les variables\n",
      "['no' 'yes']\n",
      "\n",
      "Nombre de variable\n",
      "{'no': 187, 'yes': 198}\n",
      "\n"
     ]
    },
    {
     "data": {
      "image/png": "[encoded data removed]",
      "text/plain": [
       "<Figure size 432x288 with 1 Axes>"
      ]
     },
     "metadata": {
      "needs_background": "light"
     },
     "output_type": "display_data"
    },
    {
     "name": "stdout",
     "output_type": "stream",
     "text": [
      "{'no': 10.310160427807487, 'yes': 10.424242424242424}\n"
     ]
    },
    {
     "data": {
      "image/png": "[encoded data removed]",
      "text/plain": [
       "<Figure size 432x288 with 1 Axes>"
      ]
     },
     "metadata": {
      "needs_background": "light"
     },
     "output_type": "display_data"
    }
   ],
   "source": [
    "label_container = df['activities'].unique()\n",
    "\n",
    "print(\"les variables\")\n",
    "print(label_container)\n",
    "print(\"\")\n",
    "    \n",
    "nb_var = {label: len(df[df['activities'] == label]) for label in label_container}\n",
    "    \n",
    "\n",
    "print(\"Nombre de variable\")\n",
    "print(nb_var)\n",
    "print(\"\")\n",
    "    \n",
    "ploting(nb_var, \"\")\n",
    "\n",
    "final_note = {label: recuperate_labels_from_one_label(df, 'activities', label) for label in label_container}\n",
    "final_note = dict(sorted(final_note.items(), key=lambda item: item[1]))\n",
    "\n",
    "print(final_note)\n",
    "ploting(final_note, \"\")"
   ]
  },
  {
   "cell_type": "code",
   "execution_count": 83,
   "id": "generic-portrait",
   "metadata": {},
   "outputs": [],
   "source": [
    "del df[\"activities\"]"
   ]
  },
  {
   "cell_type": "code",
   "execution_count": null,
   "id": "romantic-patch",
   "metadata": {},
   "outputs": [],
   "source": []
  },
  {
   "cell_type": "code",
   "execution_count": null,
   "id": "selected-kennedy",
   "metadata": {},
   "outputs": [],
   "source": []
  },
  {
   "cell_type": "code",
   "execution_count": null,
   "id": "going-olympus",
   "metadata": {},
   "outputs": [],
   "source": []
  },
  {
   "cell_type": "code",
   "execution_count": null,
   "id": "fitted-allocation",
   "metadata": {},
   "outputs": [],
   "source": []
  },
  {
   "cell_type": "code",
   "execution_count": 84,
   "id": "dressed-elimination",
   "metadata": {},
   "outputs": [
    {
     "name": "stdout",
     "output_type": "stream",
     "text": [
      "les variables\n",
      "['yes' 'no']\n",
      "\n",
      "Nombre de variable\n",
      "{'yes': 309, 'no': 76}\n",
      "\n"
     ]
    },
    {
     "data": {
      "image/png": "[encoded data removed]",
      "text/plain": [
       "<Figure size 432x288 with 1 Axes>"
      ]
     },
     "metadata": {
      "needs_background": "light"
     },
     "output_type": "display_data"
    },
    {
     "name": "stdout",
     "output_type": "stream",
     "text": [
      "{'no': 9.894736842105264, 'yes': 10.485436893203884}\n"
     ]
    },
    {
     "data": {
      "image/png": "[encoded data removed]",
      "text/plain": [
       "<Figure size 432x288 with 1 Axes>"
      ]
     },
     "metadata": {
      "needs_background": "light"
     },
     "output_type": "display_data"
    }
   ],
   "source": [
    "label_container = df['nursery'].unique()\n",
    "\n",
    "print(\"les variables\")\n",
    "print(label_container)\n",
    "print(\"\")\n",
    "    \n",
    "nb_var = {label: len(df[df['nursery'] == label]) for label in label_container}\n",
    "    \n",
    "\n",
    "print(\"Nombre de variable\")\n",
    "print(nb_var)\n",
    "print(\"\")\n",
    "    \n",
    "ploting(nb_var, \"\")\n",
    "\n",
    "final_note = {label: recuperate_labels_from_one_label(df, 'nursery', label) for label in label_container}\n",
    "final_note = dict(sorted(final_note.items(), key=lambda item: item[1]))\n",
    "\n",
    "print(final_note)\n",
    "ploting(final_note, \"\")"
   ]
  },
  {
   "cell_type": "code",
   "execution_count": 85,
   "id": "organizational-major",
   "metadata": {},
   "outputs": [],
   "source": [
    "del df[\"nursery\"]"
   ]
  },
  {
   "cell_type": "code",
   "execution_count": null,
   "id": "threatened-bride",
   "metadata": {},
   "outputs": [],
   "source": []
  },
  {
   "cell_type": "code",
   "execution_count": null,
   "id": "emotional-prospect",
   "metadata": {},
   "outputs": [],
   "source": []
  },
  {
   "cell_type": "code",
   "execution_count": null,
   "id": "satisfactory-frontier",
   "metadata": {},
   "outputs": [],
   "source": []
  },
  {
   "cell_type": "code",
   "execution_count": 86,
   "id": "identical-local",
   "metadata": {},
   "outputs": [
    {
     "name": "stdout",
     "output_type": "stream",
     "text": [
      "les variables\n",
      "['yes' 'no']\n",
      "\n",
      "Nombre de variable\n",
      "{'yes': 367, 'no': 18}\n",
      "\n"
     ]
    },
    {
     "data": {
      "image/png": "[encoded data removed]",
      "text/plain": [
       "<Figure size 432x288 with 1 Axes>"
      ]
     },
     "metadata": {
      "needs_background": "light"
     },
     "output_type": "display_data"
    },
    {
     "name": "stdout",
     "output_type": "stream",
     "text": [
      "{'no': 6.611111111111111, 'yes': 10.553133514986376}\n"
     ]
    },
    {
     "data": {
      "image/png": "[encoded data removed]",
      "text/plain": [
       "<Figure size 432x288 with 1 Axes>"
      ]
     },
     "metadata": {
      "needs_background": "light"
     },
     "output_type": "display_data"
    }
   ],
   "source": [
    "label_container = df['higher'].unique()\n",
    "\n",
    "print(\"les variables\")\n",
    "print(label_container)\n",
    "print(\"\")\n",
    "    \n",
    "nb_var = {label: len(df[df['higher'] == label]) for label in label_container}\n",
    "    \n",
    "\n",
    "print(\"Nombre de variable\")\n",
    "print(nb_var)\n",
    "print(\"\")\n",
    "    \n",
    "ploting(nb_var, \"\")\n",
    "\n",
    "final_note = {label: recuperate_labels_from_one_label(df, 'higher', label) for label in label_container}\n",
    "final_note = dict(sorted(final_note.items(), key=lambda item: item[1]))\n",
    "\n",
    "print(final_note)\n",
    "ploting(final_note, \"\")"
   ]
  },
  {
   "cell_type": "code",
   "execution_count": 87,
   "id": "handy-charge",
   "metadata": {},
   "outputs": [],
   "source": [
    "del df[\"higher\"]"
   ]
  },
  {
   "cell_type": "code",
   "execution_count": null,
   "id": "qualified-authority",
   "metadata": {},
   "outputs": [],
   "source": []
  },
  {
   "cell_type": "code",
   "execution_count": null,
   "id": "primary-registrar",
   "metadata": {},
   "outputs": [],
   "source": []
  },
  {
   "cell_type": "code",
   "execution_count": null,
   "id": "representative-start",
   "metadata": {},
   "outputs": [],
   "source": []
  },
  {
   "cell_type": "code",
   "execution_count": null,
   "id": "artistic-falls",
   "metadata": {},
   "outputs": [],
   "source": []
  },
  {
   "cell_type": "code",
   "execution_count": 88,
   "id": "metallic-penalty",
   "metadata": {},
   "outputs": [
    {
     "name": "stdout",
     "output_type": "stream",
     "text": [
      "les variables\n",
      "['no' 'yes']\n",
      "\n",
      "Nombre de variable\n",
      "{'no': 62, 'yes': 323}\n",
      "\n"
     ]
    },
    {
     "data": {
      "image/png": "[encoded data removed]",
      "text/plain": [
       "<Figure size 432x288 with 1 Axes>"
      ]
     },
     "metadata": {
      "needs_background": "light"
     },
     "output_type": "display_data"
    },
    {
     "name": "stdout",
     "output_type": "stream",
     "text": [
      "{'no': 9.32258064516129, 'yes': 10.569659442724458}\n"
     ]
    },
    {
     "data": {
      "image/png": "[encoded data removed]",
      "text/plain": [
       "<Figure size 432x288 with 1 Axes>"
      ]
     },
     "metadata": {
      "needs_background": "light"
     },
     "output_type": "display_data"
    }
   ],
   "source": [
    "label_container = df['internet'].unique()\n",
    "\n",
    "print(\"les variables\")\n",
    "print(label_container)\n",
    "print(\"\")\n",
    "    \n",
    "nb_var = {label: len(df[df['internet'] == label]) for label in label_container}\n",
    "    \n",
    "\n",
    "print(\"Nombre de variable\")\n",
    "print(nb_var)\n",
    "print(\"\")\n",
    "    \n",
    "ploting(nb_var, \"\")\n",
    "\n",
    "final_note = {label: recuperate_labels_from_one_label(df, 'internet', label) for label in label_container}\n",
    "final_note = dict(sorted(final_note.items(), key=lambda item: item[1]))\n",
    "\n",
    "print(final_note)\n",
    "ploting(final_note, \"\")"
   ]
  },
  {
   "cell_type": "code",
   "execution_count": 89,
   "id": "elegant-scroll",
   "metadata": {},
   "outputs": [],
   "source": [
    "del df[\"internet\"]"
   ]
  },
  {
   "cell_type": "code",
   "execution_count": null,
   "id": "bright-armstrong",
   "metadata": {},
   "outputs": [],
   "source": []
  },
  {
   "cell_type": "code",
   "execution_count": null,
   "id": "violent-retirement",
   "metadata": {},
   "outputs": [],
   "source": []
  },
  {
   "cell_type": "code",
   "execution_count": null,
   "id": "massive-relief",
   "metadata": {},
   "outputs": [],
   "source": []
  },
  {
   "cell_type": "code",
   "execution_count": 90,
   "id": "modified-warner",
   "metadata": {},
   "outputs": [
    {
     "name": "stdout",
     "output_type": "stream",
     "text": [
      "les variables\n",
      "['no' 'yes']\n",
      "\n",
      "Nombre de variable\n",
      "{'no': 256, 'yes': 129}\n",
      "\n"
     ]
    },
    {
     "data": {
      "image/png": "[encoded data removed]",
      "text/plain": [
       "<Figure size 432x288 with 1 Axes>"
      ]
     },
     "metadata": {
      "needs_background": "light"
     },
     "output_type": "display_data"
    },
    {
     "name": "stdout",
     "output_type": "stream",
     "text": [
      "{'yes': 9.496124031007753, 'no': 10.80859375}\n"
     ]
    },
    {
     "data": {
      "image/png": "[encoded data removed]",
      "text/plain": [
       "<Figure size 432x288 with 1 Axes>"
      ]
     },
     "metadata": {
      "needs_background": "light"
     },
     "output_type": "display_data"
    }
   ],
   "source": [
    "label_container = df['romantic'].unique()\n",
    "\n",
    "print(\"les variables\")\n",
    "print(label_container)\n",
    "print(\"\")\n",
    "    \n",
    "nb_var = {label: len(df[df['romantic'] == label]) for label in label_container}\n",
    "    \n",
    "\n",
    "print(\"Nombre de variable\")\n",
    "print(nb_var)\n",
    "print(\"\")\n",
    "    \n",
    "ploting(nb_var, \"\")\n",
    "\n",
    "final_note = {label: recuperate_labels_from_one_label(df, 'romantic', label) for label in label_container}\n",
    "final_note = dict(sorted(final_note.items(), key=lambda item: item[1]))\n",
    "\n",
    "print(final_note)\n",
    "ploting(final_note, \"\")"
   ]
  },
  {
   "cell_type": "code",
   "execution_count": null,
   "id": "terminal-invasion",
   "metadata": {},
   "outputs": [],
   "source": []
  },
  {
   "cell_type": "code",
   "execution_count": null,
   "id": "victorian-retirement",
   "metadata": {},
   "outputs": [],
   "source": []
  },
  {
   "cell_type": "code",
   "execution_count": null,
   "id": "juvenile-repeat",
   "metadata": {},
   "outputs": [],
   "source": []
  },
  {
   "cell_type": "code",
   "execution_count": null,
   "id": "catholic-champagne",
   "metadata": {},
   "outputs": [],
   "source": []
  },
  {
   "cell_type": "code",
   "execution_count": 91,
   "id": "temporal-intent",
   "metadata": {},
   "outputs": [
    {
     "name": "stdout",
     "output_type": "stream",
     "text": [
      "les variables\n",
      "[4 5 3 1 2]\n",
      "\n",
      "Nombre de variable\n",
      "{4: 193, 5: 101, 3: 65, 1: 8, 2: 18}\n",
      "\n"
     ]
    },
    {
     "data": {
      "image/png": "[encoded data removed]",
      "text/plain": [
       "<Figure size 432x288 with 1 Axes>"
      ]
     },
     "metadata": {
      "needs_background": "light"
     },
     "output_type": "display_data"
    },
    {
     "name": "stdout",
     "output_type": "stream",
     "text": [
      "{2: 9.88888888888889, 3: 9.984615384615385, 4: 10.305699481865284, 1: 10.625, 5: 10.801980198019802}\n"
     ]
    },
    {
     "data": {
      "image/png": "[encoded data removed]",
      "text/plain": [
       "<Figure size 432x288 with 1 Axes>"
      ]
     },
     "metadata": {
      "needs_background": "light"
     },
     "output_type": "display_data"
    }
   ],
   "source": [
    "label_container = df['famrel'].unique()\n",
    "\n",
    "print(\"les variables\")\n",
    "print(label_container)\n",
    "print(\"\")\n",
    "    \n",
    "nb_var = {label: len(df[df['famrel'] == label]) for label in label_container}\n",
    "    \n",
    "\n",
    "print(\"Nombre de variable\")\n",
    "print(nb_var)\n",
    "print(\"\")\n",
    "    \n",
    "ploting(nb_var, \"\")\n",
    "\n",
    "final_note = {label: recuperate_labels_from_one_label(df, 'famrel', label) for label in label_container}\n",
    "final_note = dict(sorted(final_note.items(), key=lambda item: item[1]))\n",
    "\n",
    "print(final_note)\n",
    "ploting(final_note, \"\")"
   ]
  },
  {
   "cell_type": "code",
   "execution_count": 92,
   "id": "regular-disposal",
   "metadata": {},
   "outputs": [
    {
     "data": {
      "text/html": [
       "<div>\n",
       "<style scoped>\n",
       "    .dataframe tbody tr th:only-of-type {\n",
       "        vertical-align: middle;\n",
       "    }\n",
       "\n",
       "    .dataframe tbody tr th {\n",
       "        vertical-align: top;\n",
       "    }\n",
       "\n",
       "    .dataframe thead th {\n",
       "        text-align: right;\n",
       "    }\n",
       "</style>\n",
       "<table border=\"1\" class=\"dataframe\">\n",
       "  <thead>\n",
       "    <tr style=\"text-align: right;\">\n",
       "      <th></th>\n",
       "      <th>age</th>\n",
       "      <th>Medu</th>\n",
       "      <th>Fedu</th>\n",
       "      <th>Fjob</th>\n",
       "      <th>traveltime</th>\n",
       "      <th>paid</th>\n",
       "      <th>romantic</th>\n",
       "      <th>famrel</th>\n",
       "      <th>freetime</th>\n",
       "      <th>goout</th>\n",
       "      <th>Dalc</th>\n",
       "      <th>Walc</th>\n",
       "      <th>health</th>\n",
       "      <th>absences</th>\n",
       "      <th>G1</th>\n",
       "      <th>G2</th>\n",
       "      <th>G3</th>\n",
       "    </tr>\n",
       "  </thead>\n",
       "  <tbody>\n",
       "    <tr>\n",
       "      <th>0</th>\n",
       "      <td>18</td>\n",
       "      <td>4</td>\n",
       "      <td>4</td>\n",
       "      <td>teacher</td>\n",
       "      <td>2</td>\n",
       "      <td>no</td>\n",
       "      <td>no</td>\n",
       "      <td>4</td>\n",
       "      <td>3</td>\n",
       "      <td>4</td>\n",
       "      <td>1</td>\n",
       "      <td>1</td>\n",
       "      <td>3</td>\n",
       "      <td>6</td>\n",
       "      <td>5</td>\n",
       "      <td>6</td>\n",
       "      <td>6</td>\n",
       "    </tr>\n",
       "    <tr>\n",
       "      <th>1</th>\n",
       "      <td>17</td>\n",
       "      <td>1</td>\n",
       "      <td>1</td>\n",
       "      <td>other</td>\n",
       "      <td>1</td>\n",
       "      <td>no</td>\n",
       "      <td>no</td>\n",
       "      <td>5</td>\n",
       "      <td>3</td>\n",
       "      <td>3</td>\n",
       "      <td>1</td>\n",
       "      <td>1</td>\n",
       "      <td>3</td>\n",
       "      <td>4</td>\n",
       "      <td>5</td>\n",
       "      <td>5</td>\n",
       "      <td>6</td>\n",
       "    </tr>\n",
       "    <tr>\n",
       "      <th>2</th>\n",
       "      <td>15</td>\n",
       "      <td>1</td>\n",
       "      <td>1</td>\n",
       "      <td>other</td>\n",
       "      <td>1</td>\n",
       "      <td>yes</td>\n",
       "      <td>no</td>\n",
       "      <td>4</td>\n",
       "      <td>3</td>\n",
       "      <td>2</td>\n",
       "      <td>2</td>\n",
       "      <td>3</td>\n",
       "      <td>3</td>\n",
       "      <td>10</td>\n",
       "      <td>7</td>\n",
       "      <td>8</td>\n",
       "      <td>10</td>\n",
       "    </tr>\n",
       "    <tr>\n",
       "      <th>3</th>\n",
       "      <td>15</td>\n",
       "      <td>4</td>\n",
       "      <td>2</td>\n",
       "      <td>services</td>\n",
       "      <td>1</td>\n",
       "      <td>yes</td>\n",
       "      <td>yes</td>\n",
       "      <td>3</td>\n",
       "      <td>2</td>\n",
       "      <td>2</td>\n",
       "      <td>1</td>\n",
       "      <td>1</td>\n",
       "      <td>5</td>\n",
       "      <td>2</td>\n",
       "      <td>15</td>\n",
       "      <td>14</td>\n",
       "      <td>15</td>\n",
       "    </tr>\n",
       "    <tr>\n",
       "      <th>4</th>\n",
       "      <td>16</td>\n",
       "      <td>3</td>\n",
       "      <td>3</td>\n",
       "      <td>other</td>\n",
       "      <td>1</td>\n",
       "      <td>yes</td>\n",
       "      <td>no</td>\n",
       "      <td>4</td>\n",
       "      <td>3</td>\n",
       "      <td>2</td>\n",
       "      <td>1</td>\n",
       "      <td>2</td>\n",
       "      <td>5</td>\n",
       "      <td>4</td>\n",
       "      <td>6</td>\n",
       "      <td>10</td>\n",
       "      <td>10</td>\n",
       "    </tr>\n",
       "  </tbody>\n",
       "</table>\n",
       "</div>"
      ],
      "text/plain": [
       "   age  Medu  Fedu      Fjob  traveltime paid romantic  famrel  freetime  \\\n",
       "0   18     4     4   teacher           2   no       no       4         3   \n",
       "1   17     1     1     other           1   no       no       5         3   \n",
       "2   15     1     1     other           1  yes       no       4         3   \n",
       "3   15     4     2  services           1  yes      yes       3         2   \n",
       "4   16     3     3     other           1  yes       no       4         3   \n",
       "\n",
       "   goout  Dalc  Walc  health  absences  G1  G2  G3  \n",
       "0      4     1     1       3         6   5   6   6  \n",
       "1      3     1     1       3         4   5   5   6  \n",
       "2      2     2     3       3        10   7   8  10  \n",
       "3      2     1     1       5         2  15  14  15  \n",
       "4      2     1     2       5         4   6  10  10  "
      ]
     },
     "execution_count": 92,
     "metadata": {},
     "output_type": "execute_result"
    }
   ],
   "source": [
    "df.head()"
   ]
  },
  {
   "cell_type": "code",
   "execution_count": null,
   "id": "floating-traffic",
   "metadata": {},
   "outputs": [],
   "source": []
  },
  {
   "cell_type": "code",
   "execution_count": null,
   "id": "senior-grove",
   "metadata": {},
   "outputs": [],
   "source": []
  },
  {
   "cell_type": "code",
   "execution_count": null,
   "id": "practical-genesis",
   "metadata": {},
   "outputs": [],
   "source": []
  },
  {
   "cell_type": "code",
   "execution_count": null,
   "id": "ancient-symphony",
   "metadata": {},
   "outputs": [],
   "source": []
  },
  {
   "cell_type": "code",
   "execution_count": 93,
   "id": "outside-contest",
   "metadata": {},
   "outputs": [
    {
     "name": "stdout",
     "output_type": "stream",
     "text": [
      "les variables\n",
      "[3 2 4 1 5]\n",
      "\n",
      "Nombre de variable\n",
      "{3: 154, 2: 64, 4: 111, 1: 19, 5: 37}\n",
      "\n"
     ]
    },
    {
     "data": {
      "image/png": "[encoded data removed]",
      "text/plain": [
       "<Figure size 432x288 with 1 Axes>"
      ]
     },
     "metadata": {
      "needs_background": "light"
     },
     "output_type": "display_data"
    },
    {
     "name": "stdout",
     "output_type": "stream",
     "text": [
      "{3: 9.675324675324676, 1: 9.842105263157896, 4: 10.423423423423424, 5: 11.297297297297296, 2: 11.5625}\n"
     ]
    },
    {
     "data": {
      "image/png": "[encoded data removed]",
      "text/plain": [
       "<Figure size 432x288 with 1 Axes>"
      ]
     },
     "metadata": {
      "needs_background": "light"
     },
     "output_type": "display_data"
    }
   ],
   "source": [
    "label_container = df['freetime'].unique()\n",
    "\n",
    "print(\"les variables\")\n",
    "print(label_container)\n",
    "print(\"\")\n",
    "    \n",
    "nb_var = {label: len(df[df['freetime'] == label]) for label in label_container}\n",
    "    \n",
    "\n",
    "print(\"Nombre de variable\")\n",
    "print(nb_var)\n",
    "print(\"\")\n",
    "    \n",
    "ploting(nb_var, \"\")\n",
    "\n",
    "final_note = {label: recuperate_labels_from_one_label(df, 'freetime', label) for label in label_container}\n",
    "final_note = dict(sorted(final_note.items(), key=lambda item: item[1]))\n",
    "\n",
    "print(final_note)\n",
    "ploting(final_note, \"\")"
   ]
  },
  {
   "cell_type": "code",
   "execution_count": 94,
   "id": "fatty-delta",
   "metadata": {},
   "outputs": [],
   "source": [
    "df = df.drop(df[(df.freetime == 1)].index)\n",
    "df = df.drop(df[(df.freetime == 5)].index)"
   ]
  },
  {
   "cell_type": "code",
   "execution_count": null,
   "id": "eastern-lender",
   "metadata": {},
   "outputs": [],
   "source": []
  },
  {
   "cell_type": "code",
   "execution_count": 95,
   "id": "unnecessary-defensive",
   "metadata": {},
   "outputs": [
    {
     "data": {
      "text/html": [
       "<div>\n",
       "<style scoped>\n",
       "    .dataframe tbody tr th:only-of-type {\n",
       "        vertical-align: middle;\n",
       "    }\n",
       "\n",
       "    .dataframe tbody tr th {\n",
       "        vertical-align: top;\n",
       "    }\n",
       "\n",
       "    .dataframe thead th {\n",
       "        text-align: right;\n",
       "    }\n",
       "</style>\n",
       "<table border=\"1\" class=\"dataframe\">\n",
       "  <thead>\n",
       "    <tr style=\"text-align: right;\">\n",
       "      <th></th>\n",
       "      <th>age</th>\n",
       "      <th>Medu</th>\n",
       "      <th>Fedu</th>\n",
       "      <th>Fjob</th>\n",
       "      <th>traveltime</th>\n",
       "      <th>paid</th>\n",
       "      <th>romantic</th>\n",
       "      <th>famrel</th>\n",
       "      <th>freetime</th>\n",
       "      <th>goout</th>\n",
       "      <th>Dalc</th>\n",
       "      <th>Walc</th>\n",
       "      <th>health</th>\n",
       "      <th>absences</th>\n",
       "      <th>G1</th>\n",
       "      <th>G2</th>\n",
       "      <th>G3</th>\n",
       "    </tr>\n",
       "  </thead>\n",
       "  <tbody>\n",
       "    <tr>\n",
       "      <th>0</th>\n",
       "      <td>18</td>\n",
       "      <td>4</td>\n",
       "      <td>4</td>\n",
       "      <td>teacher</td>\n",
       "      <td>2</td>\n",
       "      <td>no</td>\n",
       "      <td>no</td>\n",
       "      <td>4</td>\n",
       "      <td>3</td>\n",
       "      <td>4</td>\n",
       "      <td>1</td>\n",
       "      <td>1</td>\n",
       "      <td>3</td>\n",
       "      <td>6</td>\n",
       "      <td>5</td>\n",
       "      <td>6</td>\n",
       "      <td>6</td>\n",
       "    </tr>\n",
       "    <tr>\n",
       "      <th>1</th>\n",
       "      <td>17</td>\n",
       "      <td>1</td>\n",
       "      <td>1</td>\n",
       "      <td>other</td>\n",
       "      <td>1</td>\n",
       "      <td>no</td>\n",
       "      <td>no</td>\n",
       "      <td>5</td>\n",
       "      <td>3</td>\n",
       "      <td>3</td>\n",
       "      <td>1</td>\n",
       "      <td>1</td>\n",
       "      <td>3</td>\n",
       "      <td>4</td>\n",
       "      <td>5</td>\n",
       "      <td>5</td>\n",
       "      <td>6</td>\n",
       "    </tr>\n",
       "    <tr>\n",
       "      <th>2</th>\n",
       "      <td>15</td>\n",
       "      <td>1</td>\n",
       "      <td>1</td>\n",
       "      <td>other</td>\n",
       "      <td>1</td>\n",
       "      <td>yes</td>\n",
       "      <td>no</td>\n",
       "      <td>4</td>\n",
       "      <td>3</td>\n",
       "      <td>2</td>\n",
       "      <td>2</td>\n",
       "      <td>3</td>\n",
       "      <td>3</td>\n",
       "      <td>10</td>\n",
       "      <td>7</td>\n",
       "      <td>8</td>\n",
       "      <td>10</td>\n",
       "    </tr>\n",
       "    <tr>\n",
       "      <th>3</th>\n",
       "      <td>15</td>\n",
       "      <td>4</td>\n",
       "      <td>2</td>\n",
       "      <td>services</td>\n",
       "      <td>1</td>\n",
       "      <td>yes</td>\n",
       "      <td>yes</td>\n",
       "      <td>3</td>\n",
       "      <td>2</td>\n",
       "      <td>2</td>\n",
       "      <td>1</td>\n",
       "      <td>1</td>\n",
       "      <td>5</td>\n",
       "      <td>2</td>\n",
       "      <td>15</td>\n",
       "      <td>14</td>\n",
       "      <td>15</td>\n",
       "    </tr>\n",
       "    <tr>\n",
       "      <th>4</th>\n",
       "      <td>16</td>\n",
       "      <td>3</td>\n",
       "      <td>3</td>\n",
       "      <td>other</td>\n",
       "      <td>1</td>\n",
       "      <td>yes</td>\n",
       "      <td>no</td>\n",
       "      <td>4</td>\n",
       "      <td>3</td>\n",
       "      <td>2</td>\n",
       "      <td>1</td>\n",
       "      <td>2</td>\n",
       "      <td>5</td>\n",
       "      <td>4</td>\n",
       "      <td>6</td>\n",
       "      <td>10</td>\n",
       "      <td>10</td>\n",
       "    </tr>\n",
       "  </tbody>\n",
       "</table>\n",
       "</div>"
      ],
      "text/plain": [
       "   age  Medu  Fedu      Fjob  traveltime paid romantic  famrel  freetime  \\\n",
       "0   18     4     4   teacher           2   no       no       4         3   \n",
       "1   17     1     1     other           1   no       no       5         3   \n",
       "2   15     1     1     other           1  yes       no       4         3   \n",
       "3   15     4     2  services           1  yes      yes       3         2   \n",
       "4   16     3     3     other           1  yes       no       4         3   \n",
       "\n",
       "   goout  Dalc  Walc  health  absences  G1  G2  G3  \n",
       "0      4     1     1       3         6   5   6   6  \n",
       "1      3     1     1       3         4   5   5   6  \n",
       "2      2     2     3       3        10   7   8  10  \n",
       "3      2     1     1       5         2  15  14  15  \n",
       "4      2     1     2       5         4   6  10  10  "
      ]
     },
     "execution_count": 95,
     "metadata": {},
     "output_type": "execute_result"
    }
   ],
   "source": [
    "df.head()"
   ]
  },
  {
   "cell_type": "code",
   "execution_count": null,
   "id": "promising-harris",
   "metadata": {},
   "outputs": [],
   "source": []
  },
  {
   "cell_type": "code",
   "execution_count": 96,
   "id": "numeric-spirit",
   "metadata": {},
   "outputs": [
    {
     "name": "stdout",
     "output_type": "stream",
     "text": [
      "les variables\n",
      "[4 3 2 1 5]\n",
      "\n",
      "Nombre de variable\n",
      "{4: 78, 3: 118, 2: 83, 1: 15, 5: 35}\n",
      "\n"
     ]
    },
    {
     "data": {
      "image/png": "[encoded data removed]",
      "text/plain": [
       "<Figure size 432x288 with 1 Axes>"
      ]
     },
     "metadata": {
      "needs_background": "light"
     },
     "output_type": "display_data"
    },
    {
     "name": "stdout",
     "output_type": "stream",
     "text": [
      "{5: 8.514285714285714, 4: 9.85897435897436, 1: 10.0, 2: 10.734939759036145, 3: 10.838983050847459}\n"
     ]
    },
    {
     "data": {
      "image/png": "[encoded data removed]",
      "text/plain": [
       "<Figure size 432x288 with 1 Axes>"
      ]
     },
     "metadata": {
      "needs_background": "light"
     },
     "output_type": "display_data"
    }
   ],
   "source": [
    "label_container = df['goout'].unique()\n",
    "\n",
    "print(\"les variables\")\n",
    "print(label_container)\n",
    "print(\"\")\n",
    "    \n",
    "nb_var = {label: len(df[df['goout'] == label]) for label in label_container}\n",
    "    \n",
    "\n",
    "print(\"Nombre de variable\")\n",
    "print(nb_var)\n",
    "print(\"\")\n",
    "    \n",
    "ploting(nb_var, \"\")\n",
    "\n",
    "final_note = {label: recuperate_labels_from_one_label(df, 'goout', label) for label in label_container}\n",
    "final_note = dict(sorted(final_note.items(), key=lambda item: item[1]))\n",
    "\n",
    "print(final_note)\n",
    "ploting(final_note, \"\")"
   ]
  },
  {
   "cell_type": "code",
   "execution_count": 97,
   "id": "nervous-tradition",
   "metadata": {},
   "outputs": [],
   "source": [
    "df = df.drop(df[(df.goout == 1)].index)"
   ]
  },
  {
   "cell_type": "code",
   "execution_count": null,
   "id": "surrounded-seeker",
   "metadata": {},
   "outputs": [],
   "source": []
  },
  {
   "cell_type": "code",
   "execution_count": null,
   "id": "naval-proposal",
   "metadata": {},
   "outputs": [],
   "source": []
  },
  {
   "cell_type": "code",
   "execution_count": null,
   "id": "vertical-canvas",
   "metadata": {},
   "outputs": [],
   "source": []
  },
  {
   "cell_type": "code",
   "execution_count": null,
   "id": "aware-monthly",
   "metadata": {},
   "outputs": [],
   "source": []
  },
  {
   "cell_type": "code",
   "execution_count": null,
   "id": "greek-franklin",
   "metadata": {},
   "outputs": [],
   "source": []
  },
  {
   "cell_type": "code",
   "execution_count": 98,
   "id": "formed-india",
   "metadata": {},
   "outputs": [
    {
     "name": "stdout",
     "output_type": "stream",
     "text": [
      "les variables\n",
      "[1 2 5 3 4]\n",
      "\n",
      "Nombre de variable\n",
      "{1: 220, 2: 62, 5: 5, 3: 20, 4: 7}\n",
      "\n"
     ]
    },
    {
     "data": {
      "image/png": "[encoded data removed]",
      "text/plain": [
       "<Figure size 432x288 with 1 Axes>"
      ]
     },
     "metadata": {
      "needs_background": "light"
     },
     "output_type": "display_data"
    },
    {
     "name": "stdout",
     "output_type": "stream",
     "text": [
      "{2: 8.82258064516129, 4: 9.714285714285714, 1: 10.618181818181819, 3: 11.35, 5: 11.8}\n"
     ]
    },
    {
     "data": {
      "image/png": "[encoded data removed]",
      "text/plain": [
       "<Figure size 432x288 with 1 Axes>"
      ]
     },
     "metadata": {
      "needs_background": "light"
     },
     "output_type": "display_data"
    }
   ],
   "source": [
    "label_container = df['Dalc'].unique()\n",
    "\n",
    "print(\"les variables\")\n",
    "print(label_container)\n",
    "print(\"\")\n",
    "    \n",
    "nb_var = {label: len(df[df['Dalc'] == label]) for label in label_container}\n",
    "    \n",
    "\n",
    "print(\"Nombre de variable\")\n",
    "print(nb_var)\n",
    "print(\"\")\n",
    "    \n",
    "ploting(nb_var, \"\")\n",
    "\n",
    "final_note = {label: recuperate_labels_from_one_label(df, 'Dalc', label) for label in label_container}\n",
    "final_note = dict(sorted(final_note.items(), key=lambda item: item[1]))\n",
    "\n",
    "print(final_note)\n",
    "ploting(final_note, \"\")"
   ]
  },
  {
   "cell_type": "code",
   "execution_count": 99,
   "id": "tribal-partner",
   "metadata": {},
   "outputs": [],
   "source": [
    "del df[\"Dalc\"]"
   ]
  },
  {
   "cell_type": "code",
   "execution_count": null,
   "id": "incorporate-boating",
   "metadata": {},
   "outputs": [],
   "source": []
  },
  {
   "cell_type": "code",
   "execution_count": null,
   "id": "serial-track",
   "metadata": {},
   "outputs": [],
   "source": []
  },
  {
   "cell_type": "code",
   "execution_count": null,
   "id": "adequate-great",
   "metadata": {},
   "outputs": [],
   "source": []
  },
  {
   "cell_type": "code",
   "execution_count": null,
   "id": "secure-tactics",
   "metadata": {},
   "outputs": [],
   "source": []
  },
  {
   "cell_type": "code",
   "execution_count": 100,
   "id": "strong-blogger",
   "metadata": {},
   "outputs": [
    {
     "name": "stdout",
     "output_type": "stream",
     "text": [
      "les variables\n",
      "[1 3 2 4 5]\n",
      "\n",
      "Nombre de variable\n",
      "{1: 114, 3: 66, 2: 74, 4: 42, 5: 18}\n",
      "\n"
     ]
    },
    {
     "data": {
      "image/png": "[encoded data removed]",
      "text/plain": [
       "<Figure size 432x288 with 1 Axes>"
      ]
     },
     "metadata": {
      "needs_background": "light"
     },
     "output_type": "display_data"
    },
    {
     "name": "stdout",
     "output_type": "stream",
     "text": [
      "{4: 9.595238095238095, 2: 10.108108108108109, 3: 10.515151515151516, 1: 10.517543859649123, 5: 10.722222222222221}\n"
     ]
    },
    {
     "data": {
      "image/png": "[encoded data removed]",
      "text/plain": [
       "<Figure size 432x288 with 1 Axes>"
      ]
     },
     "metadata": {
      "needs_background": "light"
     },
     "output_type": "display_data"
    }
   ],
   "source": [
    "label_container = df['Walc'].unique()\n",
    "\n",
    "print(\"les variables\")\n",
    "print(label_container)\n",
    "print(\"\")\n",
    "    \n",
    "nb_var = {label: len(df[df['Walc'] == label]) for label in label_container}\n",
    "    \n",
    "\n",
    "print(\"Nombre de variable\")\n",
    "print(nb_var)\n",
    "print(\"\")\n",
    "    \n",
    "ploting(nb_var, \"\")\n",
    "\n",
    "final_note = {label: recuperate_labels_from_one_label(df, 'Walc', label) for label in label_container}\n",
    "final_note = dict(sorted(final_note.items(), key=lambda item: item[1]))\n",
    "\n",
    "print(final_note)\n",
    "ploting(final_note, \"\")"
   ]
  },
  {
   "cell_type": "code",
   "execution_count": null,
   "id": "rough-walter",
   "metadata": {},
   "outputs": [],
   "source": []
  },
  {
   "cell_type": "code",
   "execution_count": null,
   "id": "altered-lesson",
   "metadata": {},
   "outputs": [],
   "source": []
  },
  {
   "cell_type": "code",
   "execution_count": null,
   "id": "geological-belfast",
   "metadata": {},
   "outputs": [],
   "source": []
  },
  {
   "cell_type": "code",
   "execution_count": null,
   "id": "mysterious-store",
   "metadata": {},
   "outputs": [],
   "source": []
  },
  {
   "cell_type": "code",
   "execution_count": null,
   "id": "unique-titanium",
   "metadata": {},
   "outputs": [],
   "source": []
  },
  {
   "cell_type": "code",
   "execution_count": 101,
   "id": "posted-tucson",
   "metadata": {},
   "outputs": [
    {
     "name": "stdout",
     "output_type": "stream",
     "text": [
      "les variables\n",
      "[3 5 1 2 4]\n",
      "\n",
      "Nombre de variable\n",
      "{3: 74, 5: 117, 1: 33, 2: 34, 4: 56}\n",
      "\n"
     ]
    },
    {
     "data": {
      "image/png": "[encoded data removed]",
      "text/plain": [
       "<Figure size 432x288 with 1 Axes>"
      ]
     },
     "metadata": {
      "needs_background": "light"
     },
     "output_type": "display_data"
    },
    {
     "name": "stdout",
     "output_type": "stream",
     "text": [
      "{3: 9.41891891891892, 2: 10.147058823529411, 5: 10.222222222222221, 4: 10.446428571428571, 1: 12.545454545454545}\n"
     ]
    },
    {
     "data": {
      "image/png": "[encoded data removed]",
      "text/plain": [
       "<Figure size 432x288 with 1 Axes>"
      ]
     },
     "metadata": {
      "needs_background": "light"
     },
     "output_type": "display_data"
    }
   ],
   "source": [
    "label_container = df['health'].unique()\n",
    "\n",
    "print(\"les variables\")\n",
    "print(label_container)\n",
    "print(\"\")\n",
    "    \n",
    "nb_var = {label: len(df[df['health'] == label]) for label in label_container}\n",
    "    \n",
    "\n",
    "print(\"Nombre de variable\")\n",
    "print(nb_var)\n",
    "print(\"\")\n",
    "    \n",
    "ploting(nb_var, \"\")\n",
    "\n",
    "final_note = {label: recuperate_labels_from_one_label(df, 'health', label) for label in label_container}\n",
    "final_note = dict(sorted(final_note.items(), key=lambda item: item[1]))\n",
    "\n",
    "print(final_note)\n",
    "ploting(final_note, \"\")"
   ]
  },
  {
   "cell_type": "code",
   "execution_count": 102,
   "id": "southeast-cleanup",
   "metadata": {},
   "outputs": [],
   "source": [
    "#del df[\"health\"]"
   ]
  },
  {
   "cell_type": "code",
   "execution_count": null,
   "id": "historical-bracket",
   "metadata": {},
   "outputs": [],
   "source": []
  },
  {
   "cell_type": "code",
   "execution_count": null,
   "id": "stable-complex",
   "metadata": {},
   "outputs": [],
   "source": []
  },
  {
   "cell_type": "code",
   "execution_count": 103,
   "id": "literary-peoples",
   "metadata": {},
   "outputs": [
    {
     "name": "stdout",
     "output_type": "stream",
     "text": [
      "les variables\n",
      "[ 6  4 10  2  0 14 16  7 25  8 12 54 26 20 18 56 24 28  5 13 15 22  3  1\n",
      " 19  9 11 38 23]\n",
      "\n",
      "Nombre de variable\n",
      "{6: 24, 4: 45, 10: 15, 2: 54, 0: 89, 14: 7, 16: 3, 7: 7, 25: 1, 8: 17, 12: 10, 54: 1, 26: 1, 20: 2, 18: 4, 56: 1, 24: 1, 28: 1, 5: 5, 13: 3, 15: 3, 22: 3, 3: 6, 1: 3, 19: 1, 9: 3, 11: 2, 38: 1, 23: 1}\n",
      "\n"
     ]
    },
    {
     "data": {
      "image/png": "[encoded data removed]",
      "text/plain": [
       "<Figure size 432x288 with 1 Axes>"
      ]
     },
     "metadata": {
      "needs_background": "light"
     },
     "output_type": "display_data"
    },
    {
     "name": "stdout",
     "output_type": "stream",
     "text": [
      "{26: 6.0, 56: 8.0, 22: 8.0, 38: 8.0, 0: 8.157303370786517, 15: 8.333333333333334, 18: 8.75, 28: 9.0, 14: 9.714285714285714, 19: 10.0, 8: 10.235294117647058, 20: 10.5, 10: 10.6, 12: 10.8, 16: 11.0, 25: 11.0, 54: 11.0, 4: 11.044444444444444, 6: 11.375, 5: 11.6, 7: 11.857142857142858, 2: 11.88888888888889, 3: 12.333333333333334, 13: 12.666666666666666, 1: 13.0, 11: 13.0, 23: 13.0, 9: 13.333333333333334, 24: 18.0}\n"
     ]
    },
    {
     "data": {
      "image/png": "[encoded data removed]",
      "text/plain": [
       "<Figure size 432x288 with 1 Axes>"
      ]
     },
     "metadata": {
      "needs_background": "light"
     },
     "output_type": "display_data"
    }
   ],
   "source": [
    "label_container = df['absences'].unique()\n",
    "\n",
    "print(\"les variables\")\n",
    "print(label_container)\n",
    "print(\"\")\n",
    "    \n",
    "nb_var = {label: len(df[df['absences'] == label]) for label in label_container}\n",
    "    \n",
    "\n",
    "print(\"Nombre de variable\")\n",
    "print(nb_var)\n",
    "print(\"\")\n",
    "    \n",
    "ploting(nb_var, \"\")\n",
    "\n",
    "final_note = {label: recuperate_labels_from_one_label(df, 'absences', label) for label in label_container}\n",
    "final_note = dict(sorted(final_note.items(), key=lambda item: item[1]))\n",
    "\n",
    "print(final_note)\n",
    "ploting(final_note, \"\")"
   ]
  },
  {
   "cell_type": "code",
   "execution_count": 104,
   "id": "wicked-yesterday",
   "metadata": {},
   "outputs": [],
   "source": [
    "#del df[\"absences\"]"
   ]
  },
  {
   "cell_type": "code",
   "execution_count": null,
   "id": "grand-essence",
   "metadata": {},
   "outputs": [],
   "source": []
  },
  {
   "cell_type": "code",
   "execution_count": null,
   "id": "unauthorized-signal",
   "metadata": {},
   "outputs": [],
   "source": []
  },
  {
   "cell_type": "code",
   "execution_count": null,
   "id": "accessible-dayton",
   "metadata": {},
   "outputs": [],
   "source": []
  },
  {
   "cell_type": "code",
   "execution_count": 105,
   "id": "olympic-retrieval",
   "metadata": {},
   "outputs": [
    {
     "name": "stdout",
     "output_type": "stream",
     "text": [
      "les variables\n",
      "[ 5  7 15  6 12 16 10 14 13  8 11  9 19  4 17 18  3]\n",
      "\n",
      "Nombre de variable\n",
      "{5: 6, 7: 30, 15: 17, 6: 18, 12: 32, 16: 18, 10: 43, 14: 26, 13: 23, 8: 31, 11: 30, 9: 27, 19: 3, 4: 1, 17: 4, 18: 4, 3: 1}\n",
      "\n"
     ]
    },
    {
     "data": {
      "image/png": "[encoded data removed]",
      "text/plain": [
       "<Figure size 432x288 with 1 Axes>"
      ]
     },
     "metadata": {
      "needs_background": "light"
     },
     "output_type": "display_data"
    },
    {
     "name": "stdout",
     "output_type": "stream",
     "text": [
      "{4: 0.0, 6: 4.277777777777778, 3: 5.0, 5: 5.166666666666667, 7: 5.5, 8: 7.838709677419355, 9: 8.25925925925926, 10: 9.30232558139535, 11: 10.766666666666667, 12: 12.0, 13: 12.782608695652174, 14: 13.73076923076923, 15: 14.882352941176471, 16: 16.0, 17: 16.5, 18: 17.75, 19: 19.0}\n"
     ]
    },
    {
     "data": {
      "image/png": "[encoded data removed]",
      "text/plain": [
       "<Figure size 432x288 with 1 Axes>"
      ]
     },
     "metadata": {
      "needs_background": "light"
     },
     "output_type": "display_data"
    }
   ],
   "source": [
    "label_container = df['G1'].unique()\n",
    "\n",
    "print(\"les variables\")\n",
    "print(label_container)\n",
    "print(\"\")\n",
    "    \n",
    "nb_var = {label: len(df[df['G1'] == label]) for label in label_container}\n",
    "    \n",
    "\n",
    "print(\"Nombre de variable\")\n",
    "print(nb_var)\n",
    "print(\"\")\n",
    "    \n",
    "ploting(nb_var, \"\")\n",
    "\n",
    "final_note = {label: recuperate_labels_from_one_label(df, 'G1', label) for label in label_container}\n",
    "final_note = dict(sorted(final_note.items(), key=lambda item: item[1]))\n",
    "\n",
    "print(final_note)\n",
    "ploting(final_note, \"\")"
   ]
  },
  {
   "cell_type": "code",
   "execution_count": null,
   "id": "ignored-liverpool",
   "metadata": {},
   "outputs": [],
   "source": []
  },
  {
   "cell_type": "code",
   "execution_count": null,
   "id": "prime-celebrity",
   "metadata": {},
   "outputs": [],
   "source": []
  },
  {
   "cell_type": "code",
   "execution_count": null,
   "id": "coupled-cutting",
   "metadata": {},
   "outputs": [],
   "source": []
  },
  {
   "cell_type": "code",
   "execution_count": null,
   "id": "confident-anatomy",
   "metadata": {},
   "outputs": [],
   "source": []
  },
  {
   "cell_type": "code",
   "execution_count": 106,
   "id": "arabic-aquatic",
   "metadata": {},
   "outputs": [
    {
     "name": "stdout",
     "output_type": "stream",
     "text": [
      "les variables\n",
      "[ 6  5  8 14 10 15 12 18 13  9 16 11 19  7 17  4  0]\n",
      "\n",
      "Nombre de variable\n",
      "{6: 12, 5: 11, 8: 22, 14: 18, 10: 40, 15: 28, 12: 35, 18: 8, 13: 31, 9: 42, 16: 9, 11: 23, 19: 1, 7: 17, 17: 4, 4: 1, 0: 12}\n",
      "\n"
     ]
    },
    {
     "data": {
      "image/png": "[encoded data removed]",
      "text/plain": [
       "<Figure size 432x288 with 1 Axes>"
      ]
     },
     "metadata": {
      "needs_background": "light"
     },
     "output_type": "display_data"
    },
    {
     "name": "stdout",
     "output_type": "stream",
     "text": [
      "{4: 0.0, 0: 0.0, 5: 3.0, 6: 5.0, 7: 6.647058823529412, 8: 7.181818181818182, 9: 8.238095238095237, 10: 9.75, 11: 10.956521739130435, 12: 11.942857142857143, 13: 13.161290322580646, 14: 14.0, 15: 15.285714285714286, 16: 15.88888888888889, 17: 17.25, 18: 18.375, 19: 20.0}\n"
     ]
    },
    {
     "data": {
      "image/png": "[encoded data removed]",
      "text/plain": [
       "<Figure size 432x288 with 1 Axes>"
      ]
     },
     "metadata": {
      "needs_background": "light"
     },
     "output_type": "display_data"
    }
   ],
   "source": [
    "label_container = df['G2'].unique()\n",
    "\n",
    "print(\"les variables\")\n",
    "print(label_container)\n",
    "print(\"\")\n",
    "    \n",
    "nb_var = {label: len(df[df['G2'] == label]) for label in label_container}\n",
    "    \n",
    "\n",
    "print(\"Nombre de variable\")\n",
    "print(nb_var)\n",
    "print(\"\")\n",
    "    \n",
    "ploting(nb_var, \"\")\n",
    "\n",
    "final_note = {label: recuperate_labels_from_one_label(df, 'G2', label) for label in label_container}\n",
    "final_note = dict(sorted(final_note.items(), key=lambda item: item[1]))\n",
    "\n",
    "print(final_note)\n",
    "ploting(final_note, \"\")"
   ]
  },
  {
   "cell_type": "code",
   "execution_count": null,
   "id": "atmospheric-chosen",
   "metadata": {},
   "outputs": [],
   "source": []
  },
  {
   "cell_type": "code",
   "execution_count": 107,
   "id": "brutal-soviet",
   "metadata": {},
   "outputs": [
    {
     "data": {
      "text/html": [
       "<div>\n",
       "<style scoped>\n",
       "    .dataframe tbody tr th:only-of-type {\n",
       "        vertical-align: middle;\n",
       "    }\n",
       "\n",
       "    .dataframe tbody tr th {\n",
       "        vertical-align: top;\n",
       "    }\n",
       "\n",
       "    .dataframe thead th {\n",
       "        text-align: right;\n",
       "    }\n",
       "</style>\n",
       "<table border=\"1\" class=\"dataframe\">\n",
       "  <thead>\n",
       "    <tr style=\"text-align: right;\">\n",
       "      <th></th>\n",
       "      <th>age</th>\n",
       "      <th>Medu</th>\n",
       "      <th>Fedu</th>\n",
       "      <th>Fjob</th>\n",
       "      <th>traveltime</th>\n",
       "      <th>paid</th>\n",
       "      <th>romantic</th>\n",
       "      <th>famrel</th>\n",
       "      <th>freetime</th>\n",
       "      <th>goout</th>\n",
       "      <th>Walc</th>\n",
       "      <th>health</th>\n",
       "      <th>absences</th>\n",
       "      <th>G1</th>\n",
       "      <th>G2</th>\n",
       "      <th>G3</th>\n",
       "    </tr>\n",
       "  </thead>\n",
       "  <tbody>\n",
       "    <tr>\n",
       "      <th>0</th>\n",
       "      <td>18</td>\n",
       "      <td>4</td>\n",
       "      <td>4</td>\n",
       "      <td>teacher</td>\n",
       "      <td>2</td>\n",
       "      <td>no</td>\n",
       "      <td>no</td>\n",
       "      <td>4</td>\n",
       "      <td>3</td>\n",
       "      <td>4</td>\n",
       "      <td>1</td>\n",
       "      <td>3</td>\n",
       "      <td>6</td>\n",
       "      <td>5</td>\n",
       "      <td>6</td>\n",
       "      <td>6</td>\n",
       "    </tr>\n",
       "    <tr>\n",
       "      <th>1</th>\n",
       "      <td>17</td>\n",
       "      <td>1</td>\n",
       "      <td>1</td>\n",
       "      <td>other</td>\n",
       "      <td>1</td>\n",
       "      <td>no</td>\n",
       "      <td>no</td>\n",
       "      <td>5</td>\n",
       "      <td>3</td>\n",
       "      <td>3</td>\n",
       "      <td>1</td>\n",
       "      <td>3</td>\n",
       "      <td>4</td>\n",
       "      <td>5</td>\n",
       "      <td>5</td>\n",
       "      <td>6</td>\n",
       "    </tr>\n",
       "    <tr>\n",
       "      <th>2</th>\n",
       "      <td>15</td>\n",
       "      <td>1</td>\n",
       "      <td>1</td>\n",
       "      <td>other</td>\n",
       "      <td>1</td>\n",
       "      <td>yes</td>\n",
       "      <td>no</td>\n",
       "      <td>4</td>\n",
       "      <td>3</td>\n",
       "      <td>2</td>\n",
       "      <td>3</td>\n",
       "      <td>3</td>\n",
       "      <td>10</td>\n",
       "      <td>7</td>\n",
       "      <td>8</td>\n",
       "      <td>10</td>\n",
       "    </tr>\n",
       "    <tr>\n",
       "      <th>3</th>\n",
       "      <td>15</td>\n",
       "      <td>4</td>\n",
       "      <td>2</td>\n",
       "      <td>services</td>\n",
       "      <td>1</td>\n",
       "      <td>yes</td>\n",
       "      <td>yes</td>\n",
       "      <td>3</td>\n",
       "      <td>2</td>\n",
       "      <td>2</td>\n",
       "      <td>1</td>\n",
       "      <td>5</td>\n",
       "      <td>2</td>\n",
       "      <td>15</td>\n",
       "      <td>14</td>\n",
       "      <td>15</td>\n",
       "    </tr>\n",
       "    <tr>\n",
       "      <th>4</th>\n",
       "      <td>16</td>\n",
       "      <td>3</td>\n",
       "      <td>3</td>\n",
       "      <td>other</td>\n",
       "      <td>1</td>\n",
       "      <td>yes</td>\n",
       "      <td>no</td>\n",
       "      <td>4</td>\n",
       "      <td>3</td>\n",
       "      <td>2</td>\n",
       "      <td>2</td>\n",
       "      <td>5</td>\n",
       "      <td>4</td>\n",
       "      <td>6</td>\n",
       "      <td>10</td>\n",
       "      <td>10</td>\n",
       "    </tr>\n",
       "  </tbody>\n",
       "</table>\n",
       "</div>"
      ],
      "text/plain": [
       "   age  Medu  Fedu      Fjob  traveltime paid romantic  famrel  freetime  \\\n",
       "0   18     4     4   teacher           2   no       no       4         3   \n",
       "1   17     1     1     other           1   no       no       5         3   \n",
       "2   15     1     1     other           1  yes       no       4         3   \n",
       "3   15     4     2  services           1  yes      yes       3         2   \n",
       "4   16     3     3     other           1  yes       no       4         3   \n",
       "\n",
       "   goout  Walc  health  absences  G1  G2  G3  \n",
       "0      4     1       3         6   5   6   6  \n",
       "1      3     1       3         4   5   5   6  \n",
       "2      2     3       3        10   7   8  10  \n",
       "3      2     1       5         2  15  14  15  \n",
       "4      2     2       5         4   6  10  10  "
      ]
     },
     "execution_count": 107,
     "metadata": {},
     "output_type": "execute_result"
    }
   ],
   "source": [
    "df.head()"
   ]
  },
  {
   "cell_type": "code",
   "execution_count": 108,
   "id": "julian-formation",
   "metadata": {},
   "outputs": [
    {
     "data": {
      "text/plain": [
       "(314, 16)"
      ]
     },
     "execution_count": 108,
     "metadata": {},
     "output_type": "execute_result"
    }
   ],
   "source": [
    "df.shape"
   ]
  },
  {
   "cell_type": "code",
   "execution_count": null,
   "id": "virgin-healing",
   "metadata": {},
   "outputs": [],
   "source": []
  },
  {
   "cell_type": "code",
   "execution_count": null,
   "id": "boxed-telescope",
   "metadata": {},
   "outputs": [],
   "source": []
  },
  {
   "cell_type": "code",
   "execution_count": null,
   "id": "social-waterproof",
   "metadata": {},
   "outputs": [],
   "source": []
  },
  {
   "cell_type": "code",
   "execution_count": 109,
   "id": "engaging-small",
   "metadata": {},
   "outputs": [
    {
     "data": {
      "text/plain": [
       "<matplotlib.axes._subplots.AxesSubplot at 0x1952e964ac8>"
      ]
     },
     "execution_count": 109,
     "metadata": {},
     "output_type": "execute_result"
    },
    {
     "data": {
      "image/png": "[encoded data removed]",
      "text/plain": [
       "<Figure size 2160x1440 with 2 Axes>"
      ]
     },
     "metadata": {
      "needs_background": "light"
     },
     "output_type": "display_data"
    }
   ],
   "source": [
    "import seaborn as sns\n",
    "matrix=df.corr()\n",
    "f, ax = plt.subplots(figsize=(30, 20))\n",
    "sns.heatmap(matrix, vmax=20, square=True, cmap=\"BuPu\", annot=True)"
   ]
  },
  {
   "cell_type": "code",
   "execution_count": null,
   "id": "actual-antigua",
   "metadata": {},
   "outputs": [],
   "source": []
  },
  {
   "cell_type": "code",
   "execution_count": null,
   "id": "traditional-metro",
   "metadata": {},
   "outputs": [],
   "source": []
  },
  {
   "cell_type": "code",
   "execution_count": null,
   "id": "electoral-gallery",
   "metadata": {},
   "outputs": [],
   "source": []
  },
  {
   "cell_type": "markdown",
   "id": "juvenile-great",
   "metadata": {},
   "source": [
    "# Analyse bivariée"
   ]
  },
  {
   "cell_type": "code",
   "execution_count": 110,
   "id": "detailed-behavior",
   "metadata": {},
   "outputs": [
    {
     "data": {
      "text/html": [
       "<div>\n",
       "<style scoped>\n",
       "    .dataframe tbody tr th:only-of-type {\n",
       "        vertical-align: middle;\n",
       "    }\n",
       "\n",
       "    .dataframe tbody tr th {\n",
       "        vertical-align: top;\n",
       "    }\n",
       "\n",
       "    .dataframe thead th {\n",
       "        text-align: right;\n",
       "    }\n",
       "</style>\n",
       "<table border=\"1\" class=\"dataframe\">\n",
       "  <thead>\n",
       "    <tr style=\"text-align: right;\">\n",
       "      <th></th>\n",
       "      <th>age</th>\n",
       "      <th>Medu</th>\n",
       "      <th>Fedu</th>\n",
       "      <th>Fjob</th>\n",
       "      <th>traveltime</th>\n",
       "      <th>paid</th>\n",
       "      <th>romantic</th>\n",
       "      <th>famrel</th>\n",
       "      <th>freetime</th>\n",
       "      <th>goout</th>\n",
       "      <th>Walc</th>\n",
       "      <th>health</th>\n",
       "      <th>absences</th>\n",
       "      <th>G1</th>\n",
       "      <th>G2</th>\n",
       "      <th>G3</th>\n",
       "    </tr>\n",
       "  </thead>\n",
       "  <tbody>\n",
       "    <tr>\n",
       "      <th>0</th>\n",
       "      <td>18</td>\n",
       "      <td>4</td>\n",
       "      <td>4</td>\n",
       "      <td>teacher</td>\n",
       "      <td>2</td>\n",
       "      <td>no</td>\n",
       "      <td>no</td>\n",
       "      <td>4</td>\n",
       "      <td>3</td>\n",
       "      <td>4</td>\n",
       "      <td>1</td>\n",
       "      <td>3</td>\n",
       "      <td>6</td>\n",
       "      <td>5</td>\n",
       "      <td>6</td>\n",
       "      <td>6</td>\n",
       "    </tr>\n",
       "    <tr>\n",
       "      <th>1</th>\n",
       "      <td>17</td>\n",
       "      <td>1</td>\n",
       "      <td>1</td>\n",
       "      <td>other</td>\n",
       "      <td>1</td>\n",
       "      <td>no</td>\n",
       "      <td>no</td>\n",
       "      <td>5</td>\n",
       "      <td>3</td>\n",
       "      <td>3</td>\n",
       "      <td>1</td>\n",
       "      <td>3</td>\n",
       "      <td>4</td>\n",
       "      <td>5</td>\n",
       "      <td>5</td>\n",
       "      <td>6</td>\n",
       "    </tr>\n",
       "    <tr>\n",
       "      <th>2</th>\n",
       "      <td>15</td>\n",
       "      <td>1</td>\n",
       "      <td>1</td>\n",
       "      <td>other</td>\n",
       "      <td>1</td>\n",
       "      <td>yes</td>\n",
       "      <td>no</td>\n",
       "      <td>4</td>\n",
       "      <td>3</td>\n",
       "      <td>2</td>\n",
       "      <td>3</td>\n",
       "      <td>3</td>\n",
       "      <td>10</td>\n",
       "      <td>7</td>\n",
       "      <td>8</td>\n",
       "      <td>10</td>\n",
       "    </tr>\n",
       "    <tr>\n",
       "      <th>3</th>\n",
       "      <td>15</td>\n",
       "      <td>4</td>\n",
       "      <td>2</td>\n",
       "      <td>services</td>\n",
       "      <td>1</td>\n",
       "      <td>yes</td>\n",
       "      <td>yes</td>\n",
       "      <td>3</td>\n",
       "      <td>2</td>\n",
       "      <td>2</td>\n",
       "      <td>1</td>\n",
       "      <td>5</td>\n",
       "      <td>2</td>\n",
       "      <td>15</td>\n",
       "      <td>14</td>\n",
       "      <td>15</td>\n",
       "    </tr>\n",
       "    <tr>\n",
       "      <th>4</th>\n",
       "      <td>16</td>\n",
       "      <td>3</td>\n",
       "      <td>3</td>\n",
       "      <td>other</td>\n",
       "      <td>1</td>\n",
       "      <td>yes</td>\n",
       "      <td>no</td>\n",
       "      <td>4</td>\n",
       "      <td>3</td>\n",
       "      <td>2</td>\n",
       "      <td>2</td>\n",
       "      <td>5</td>\n",
       "      <td>4</td>\n",
       "      <td>6</td>\n",
       "      <td>10</td>\n",
       "      <td>10</td>\n",
       "    </tr>\n",
       "  </tbody>\n",
       "</table>\n",
       "</div>"
      ],
      "text/plain": [
       "   age  Medu  Fedu      Fjob  traveltime paid romantic  famrel  freetime  \\\n",
       "0   18     4     4   teacher           2   no       no       4         3   \n",
       "1   17     1     1     other           1   no       no       5         3   \n",
       "2   15     1     1     other           1  yes       no       4         3   \n",
       "3   15     4     2  services           1  yes      yes       3         2   \n",
       "4   16     3     3     other           1  yes       no       4         3   \n",
       "\n",
       "   goout  Walc  health  absences  G1  G2  G3  \n",
       "0      4     1       3         6   5   6   6  \n",
       "1      3     1       3         4   5   5   6  \n",
       "2      2     3       3        10   7   8  10  \n",
       "3      2     1       5         2  15  14  15  \n",
       "4      2     2       5         4   6  10  10  "
      ]
     },
     "execution_count": 110,
     "metadata": {},
     "output_type": "execute_result"
    }
   ],
   "source": [
    "df.head()"
   ]
  },
  {
   "cell_type": "code",
   "execution_count": 111,
   "id": "actual-defeat",
   "metadata": {},
   "outputs": [],
   "source": [
    "# L'age et sexe a un impact sur la note ?"
   ]
  },
  {
   "cell_type": "code",
   "execution_count": 112,
   "id": "hydraulic-austria",
   "metadata": {},
   "outputs": [],
   "source": [
    "# L'absence et sexe a un impact sur la note ?"
   ]
  },
  {
   "cell_type": "code",
   "execution_count": 113,
   "id": "complex-child",
   "metadata": {},
   "outputs": [],
   "source": [
    "# Le traveltime et health a un impact sur la note ?"
   ]
  },
  {
   "cell_type": "code",
   "execution_count": null,
   "id": "considerable-works",
   "metadata": {},
   "outputs": [],
   "source": []
  },
  {
   "cell_type": "code",
   "execution_count": null,
   "id": "superb-patient",
   "metadata": {},
   "outputs": [],
   "source": []
  },
  {
   "cell_type": "code",
   "execution_count": null,
   "id": "embedded-disposition",
   "metadata": {},
   "outputs": [],
   "source": []
  },
  {
   "cell_type": "code",
   "execution_count": null,
   "id": "adjacent-boost",
   "metadata": {},
   "outputs": [],
   "source": []
  },
  {
   "cell_type": "code",
   "execution_count": 114,
   "id": "designing-software",
   "metadata": {},
   "outputs": [],
   "source": [
    "# One hot encoding car la labélisation par etiquettage peut influencer nos modèles.\n",
    "# En effet, il peut y avoir une notion de hiéarchie la ou il ne faut pas. Cependant cela nous rajoute\n",
    "# des lignes.\n",
    "df=pd.get_dummies(df)"
   ]
  },
  {
   "cell_type": "code",
   "execution_count": null,
   "id": "ranging-stream",
   "metadata": {},
   "outputs": [],
   "source": []
  },
  {
   "cell_type": "code",
   "execution_count": 115,
   "id": "annoying-momentum",
   "metadata": {},
   "outputs": [],
   "source": [
    "# Normaliser les data avec:\n",
    "    # soit: normalized_df=(df-df.mean())/df.std()\n",
    "    # soit: normalized_df=(df-df.min())/(df.max()-df.min())"
   ]
  },
  {
   "cell_type": "code",
   "execution_count": 116,
   "id": "stupid-humanity",
   "metadata": {},
   "outputs": [],
   "source": [
    "normalized_df_1_1 = (df-df.mean())/df.std()"
   ]
  },
  {
   "cell_type": "code",
   "execution_count": 117,
   "id": "careful-registration",
   "metadata": {},
   "outputs": [
    {
     "data": {
      "text/html": [
       "<div>\n",
       "<style scoped>\n",
       "    .dataframe tbody tr th:only-of-type {\n",
       "        vertical-align: middle;\n",
       "    }\n",
       "\n",
       "    .dataframe tbody tr th {\n",
       "        vertical-align: top;\n",
       "    }\n",
       "\n",
       "    .dataframe thead th {\n",
       "        text-align: right;\n",
       "    }\n",
       "</style>\n",
       "<table border=\"1\" class=\"dataframe\">\n",
       "  <thead>\n",
       "    <tr style=\"text-align: right;\">\n",
       "      <th></th>\n",
       "      <th>age</th>\n",
       "      <th>Medu</th>\n",
       "      <th>Fedu</th>\n",
       "      <th>traveltime</th>\n",
       "      <th>famrel</th>\n",
       "      <th>freetime</th>\n",
       "      <th>goout</th>\n",
       "      <th>Walc</th>\n",
       "      <th>health</th>\n",
       "      <th>absences</th>\n",
       "      <th>...</th>\n",
       "      <th>G3</th>\n",
       "      <th>Fjob_at_home</th>\n",
       "      <th>Fjob_health</th>\n",
       "      <th>Fjob_other</th>\n",
       "      <th>Fjob_services</th>\n",
       "      <th>Fjob_teacher</th>\n",
       "      <th>paid_no</th>\n",
       "      <th>paid_yes</th>\n",
       "      <th>romantic_no</th>\n",
       "      <th>romantic_yes</th>\n",
       "    </tr>\n",
       "  </thead>\n",
       "  <tbody>\n",
       "    <tr>\n",
       "      <th>0</th>\n",
       "      <td>1.133028</td>\n",
       "      <td>1.136535</td>\n",
       "      <td>1.307295</td>\n",
       "      <td>0.796290</td>\n",
       "      <td>0.038690</td>\n",
       "      <td>-0.210698</td>\n",
       "      <td>0.827350</td>\n",
       "      <td>-1.034451</td>\n",
       "      <td>-0.446427</td>\n",
       "      <td>0.090285</td>\n",
       "      <td>...</td>\n",
       "      <td>-0.950161</td>\n",
       "      <td>-0.21568</td>\n",
       "      <td>-0.223623</td>\n",
       "      <td>-1.113058</td>\n",
       "      <td>-0.632856</td>\n",
       "      <td>3.729336</td>\n",
       "      <td>0.948765</td>\n",
       "      <td>-0.948765</td>\n",
       "      <td>0.707667</td>\n",
       "      <td>-0.707667</td>\n",
       "    </tr>\n",
       "    <tr>\n",
       "      <th>1</th>\n",
       "      <td>0.285955</td>\n",
       "      <td>-1.651527</td>\n",
       "      <td>-1.441526</td>\n",
       "      <td>-0.640693</td>\n",
       "      <td>1.143102</td>\n",
       "      <td>-0.210698</td>\n",
       "      <td>-0.215975</td>\n",
       "      <td>-1.034451</td>\n",
       "      <td>-0.446427</td>\n",
       "      <td>-0.191799</td>\n",
       "      <td>...</td>\n",
       "      <td>-0.950161</td>\n",
       "      <td>-0.21568</td>\n",
       "      <td>-0.223623</td>\n",
       "      <td>0.895564</td>\n",
       "      <td>-0.632856</td>\n",
       "      <td>-0.267290</td>\n",
       "      <td>0.948765</td>\n",
       "      <td>-0.948765</td>\n",
       "      <td>0.707667</td>\n",
       "      <td>-0.707667</td>\n",
       "    </tr>\n",
       "    <tr>\n",
       "      <th>2</th>\n",
       "      <td>-1.408192</td>\n",
       "      <td>-1.651527</td>\n",
       "      <td>-1.441526</td>\n",
       "      <td>-0.640693</td>\n",
       "      <td>0.038690</td>\n",
       "      <td>-0.210698</td>\n",
       "      <td>-1.259300</td>\n",
       "      <td>0.573557</td>\n",
       "      <td>-0.446427</td>\n",
       "      <td>0.654452</td>\n",
       "      <td>...</td>\n",
       "      <td>-0.068119</td>\n",
       "      <td>-0.21568</td>\n",
       "      <td>-0.223623</td>\n",
       "      <td>0.895564</td>\n",
       "      <td>-0.632856</td>\n",
       "      <td>-0.267290</td>\n",
       "      <td>-1.050645</td>\n",
       "      <td>1.050645</td>\n",
       "      <td>0.707667</td>\n",
       "      <td>-0.707667</td>\n",
       "    </tr>\n",
       "    <tr>\n",
       "      <th>3</th>\n",
       "      <td>-1.408192</td>\n",
       "      <td>1.136535</td>\n",
       "      <td>-0.525253</td>\n",
       "      <td>-0.640693</td>\n",
       "      <td>-1.065723</td>\n",
       "      <td>-1.618338</td>\n",
       "      <td>-1.259300</td>\n",
       "      <td>-1.034451</td>\n",
       "      <td>1.029131</td>\n",
       "      <td>-0.473883</td>\n",
       "      <td>...</td>\n",
       "      <td>1.034433</td>\n",
       "      <td>-0.21568</td>\n",
       "      <td>-0.223623</td>\n",
       "      <td>-1.113058</td>\n",
       "      <td>1.575107</td>\n",
       "      <td>-0.267290</td>\n",
       "      <td>-1.050645</td>\n",
       "      <td>1.050645</td>\n",
       "      <td>-1.408594</td>\n",
       "      <td>1.408594</td>\n",
       "    </tr>\n",
       "    <tr>\n",
       "      <th>4</th>\n",
       "      <td>-0.561119</td>\n",
       "      <td>0.207181</td>\n",
       "      <td>0.391021</td>\n",
       "      <td>-0.640693</td>\n",
       "      <td>0.038690</td>\n",
       "      <td>-0.210698</td>\n",
       "      <td>-1.259300</td>\n",
       "      <td>-0.230447</td>\n",
       "      <td>1.029131</td>\n",
       "      <td>-0.191799</td>\n",
       "      <td>...</td>\n",
       "      <td>-0.068119</td>\n",
       "      <td>-0.21568</td>\n",
       "      <td>-0.223623</td>\n",
       "      <td>0.895564</td>\n",
       "      <td>-0.632856</td>\n",
       "      <td>-0.267290</td>\n",
       "      <td>-1.050645</td>\n",
       "      <td>1.050645</td>\n",
       "      <td>0.707667</td>\n",
       "      <td>-0.707667</td>\n",
       "    </tr>\n",
       "  </tbody>\n",
       "</table>\n",
       "<p>5 rows × 22 columns</p>\n",
       "</div>"
      ],
      "text/plain": [
       "        age      Medu      Fedu  traveltime    famrel  freetime     goout  \\\n",
       "0  1.133028  1.136535  1.307295    0.796290  0.038690 -0.210698  0.827350   \n",
       "1  0.285955 -1.651527 -1.441526   -0.640693  1.143102 -0.210698 -0.215975   \n",
       "2 -1.408192 -1.651527 -1.441526   -0.640693  0.038690 -0.210698 -1.259300   \n",
       "3 -1.408192  1.136535 -0.525253   -0.640693 -1.065723 -1.618338 -1.259300   \n",
       "4 -0.561119  0.207181  0.391021   -0.640693  0.038690 -0.210698 -1.259300   \n",
       "\n",
       "       Walc    health  absences  ...        G3  Fjob_at_home  Fjob_health  \\\n",
       "0 -1.034451 -0.446427  0.090285  ... -0.950161      -0.21568    -0.223623   \n",
       "1 -1.034451 -0.446427 -0.191799  ... -0.950161      -0.21568    -0.223623   \n",
       "2  0.573557 -0.446427  0.654452  ... -0.068119      -0.21568    -0.223623   \n",
       "3 -1.034451  1.029131 -0.473883  ...  1.034433      -0.21568    -0.223623   \n",
       "4 -0.230447  1.029131 -0.191799  ... -0.068119      -0.21568    -0.223623   \n",
       "\n",
       "   Fjob_other  Fjob_services  Fjob_teacher   paid_no  paid_yes  romantic_no  \\\n",
       "0   -1.113058      -0.632856      3.729336  0.948765 -0.948765     0.707667   \n",
       "1    0.895564      -0.632856     -0.267290  0.948765 -0.948765     0.707667   \n",
       "2    0.895564      -0.632856     -0.267290 -1.050645  1.050645     0.707667   \n",
       "3   -1.113058       1.575107     -0.267290 -1.050645  1.050645    -1.408594   \n",
       "4    0.895564      -0.632856     -0.267290 -1.050645  1.050645     0.707667   \n",
       "\n",
       "   romantic_yes  \n",
       "0     -0.707667  \n",
       "1     -0.707667  \n",
       "2     -0.707667  \n",
       "3      1.408594  \n",
       "4     -0.707667  \n",
       "\n",
       "[5 rows x 22 columns]"
      ]
     },
     "execution_count": 117,
     "metadata": {},
     "output_type": "execute_result"
    }
   ],
   "source": [
    "normalized_df_1_1.head()"
   ]
  },
  {
   "cell_type": "code",
   "execution_count": 118,
   "id": "gothic-highland",
   "metadata": {},
   "outputs": [],
   "source": [
    "normalized_df0_1 = (df-df.min())/(df.max()-df.min())"
   ]
  },
  {
   "cell_type": "code",
   "execution_count": 119,
   "id": "existing-overhead",
   "metadata": {},
   "outputs": [
    {
     "data": {
      "text/html": [
       "<div>\n",
       "<style scoped>\n",
       "    .dataframe tbody tr th:only-of-type {\n",
       "        vertical-align: middle;\n",
       "    }\n",
       "\n",
       "    .dataframe tbody tr th {\n",
       "        vertical-align: top;\n",
       "    }\n",
       "\n",
       "    .dataframe thead th {\n",
       "        text-align: right;\n",
       "    }\n",
       "</style>\n",
       "<table border=\"1\" class=\"dataframe\">\n",
       "  <thead>\n",
       "    <tr style=\"text-align: right;\">\n",
       "      <th></th>\n",
       "      <th>age</th>\n",
       "      <th>Medu</th>\n",
       "      <th>Fedu</th>\n",
       "      <th>traveltime</th>\n",
       "      <th>famrel</th>\n",
       "      <th>freetime</th>\n",
       "      <th>goout</th>\n",
       "      <th>Walc</th>\n",
       "      <th>health</th>\n",
       "      <th>absences</th>\n",
       "      <th>...</th>\n",
       "      <th>G3</th>\n",
       "      <th>Fjob_at_home</th>\n",
       "      <th>Fjob_health</th>\n",
       "      <th>Fjob_other</th>\n",
       "      <th>Fjob_services</th>\n",
       "      <th>Fjob_teacher</th>\n",
       "      <th>paid_no</th>\n",
       "      <th>paid_yes</th>\n",
       "      <th>romantic_no</th>\n",
       "      <th>romantic_yes</th>\n",
       "    </tr>\n",
       "  </thead>\n",
       "  <tbody>\n",
       "    <tr>\n",
       "      <th>0</th>\n",
       "      <td>0.75</td>\n",
       "      <td>1.000000</td>\n",
       "      <td>1.000000</td>\n",
       "      <td>0.333333</td>\n",
       "      <td>0.75</td>\n",
       "      <td>0.5</td>\n",
       "      <td>0.666667</td>\n",
       "      <td>0.00</td>\n",
       "      <td>0.5</td>\n",
       "      <td>0.107143</td>\n",
       "      <td>...</td>\n",
       "      <td>0.30</td>\n",
       "      <td>0.0</td>\n",
       "      <td>0.0</td>\n",
       "      <td>0.0</td>\n",
       "      <td>0.0</td>\n",
       "      <td>1.0</td>\n",
       "      <td>1.0</td>\n",
       "      <td>0.0</td>\n",
       "      <td>1.0</td>\n",
       "      <td>0.0</td>\n",
       "    </tr>\n",
       "    <tr>\n",
       "      <th>1</th>\n",
       "      <td>0.50</td>\n",
       "      <td>0.000000</td>\n",
       "      <td>0.000000</td>\n",
       "      <td>0.000000</td>\n",
       "      <td>1.00</td>\n",
       "      <td>0.5</td>\n",
       "      <td>0.333333</td>\n",
       "      <td>0.00</td>\n",
       "      <td>0.5</td>\n",
       "      <td>0.071429</td>\n",
       "      <td>...</td>\n",
       "      <td>0.30</td>\n",
       "      <td>0.0</td>\n",
       "      <td>0.0</td>\n",
       "      <td>1.0</td>\n",
       "      <td>0.0</td>\n",
       "      <td>0.0</td>\n",
       "      <td>1.0</td>\n",
       "      <td>0.0</td>\n",
       "      <td>1.0</td>\n",
       "      <td>0.0</td>\n",
       "    </tr>\n",
       "    <tr>\n",
       "      <th>2</th>\n",
       "      <td>0.00</td>\n",
       "      <td>0.000000</td>\n",
       "      <td>0.000000</td>\n",
       "      <td>0.000000</td>\n",
       "      <td>0.75</td>\n",
       "      <td>0.5</td>\n",
       "      <td>0.000000</td>\n",
       "      <td>0.50</td>\n",
       "      <td>0.5</td>\n",
       "      <td>0.178571</td>\n",
       "      <td>...</td>\n",
       "      <td>0.50</td>\n",
       "      <td>0.0</td>\n",
       "      <td>0.0</td>\n",
       "      <td>1.0</td>\n",
       "      <td>0.0</td>\n",
       "      <td>0.0</td>\n",
       "      <td>0.0</td>\n",
       "      <td>1.0</td>\n",
       "      <td>1.0</td>\n",
       "      <td>0.0</td>\n",
       "    </tr>\n",
       "    <tr>\n",
       "      <th>3</th>\n",
       "      <td>0.00</td>\n",
       "      <td>1.000000</td>\n",
       "      <td>0.333333</td>\n",
       "      <td>0.000000</td>\n",
       "      <td>0.50</td>\n",
       "      <td>0.0</td>\n",
       "      <td>0.000000</td>\n",
       "      <td>0.00</td>\n",
       "      <td>1.0</td>\n",
       "      <td>0.035714</td>\n",
       "      <td>...</td>\n",
       "      <td>0.75</td>\n",
       "      <td>0.0</td>\n",
       "      <td>0.0</td>\n",
       "      <td>0.0</td>\n",
       "      <td>1.0</td>\n",
       "      <td>0.0</td>\n",
       "      <td>0.0</td>\n",
       "      <td>1.0</td>\n",
       "      <td>0.0</td>\n",
       "      <td>1.0</td>\n",
       "    </tr>\n",
       "    <tr>\n",
       "      <th>4</th>\n",
       "      <td>0.25</td>\n",
       "      <td>0.666667</td>\n",
       "      <td>0.666667</td>\n",
       "      <td>0.000000</td>\n",
       "      <td>0.75</td>\n",
       "      <td>0.5</td>\n",
       "      <td>0.000000</td>\n",
       "      <td>0.25</td>\n",
       "      <td>1.0</td>\n",
       "      <td>0.071429</td>\n",
       "      <td>...</td>\n",
       "      <td>0.50</td>\n",
       "      <td>0.0</td>\n",
       "      <td>0.0</td>\n",
       "      <td>1.0</td>\n",
       "      <td>0.0</td>\n",
       "      <td>0.0</td>\n",
       "      <td>0.0</td>\n",
       "      <td>1.0</td>\n",
       "      <td>1.0</td>\n",
       "      <td>0.0</td>\n",
       "    </tr>\n",
       "  </tbody>\n",
       "</table>\n",
       "<p>5 rows × 22 columns</p>\n",
       "</div>"
      ],
      "text/plain": [
       "    age      Medu      Fedu  traveltime  famrel  freetime     goout  Walc  \\\n",
       "0  0.75  1.000000  1.000000    0.333333    0.75       0.5  0.666667  0.00   \n",
       "1  0.50  0.000000  0.000000    0.000000    1.00       0.5  0.333333  0.00   \n",
       "2  0.00  0.000000  0.000000    0.000000    0.75       0.5  0.000000  0.50   \n",
       "3  0.00  1.000000  0.333333    0.000000    0.50       0.0  0.000000  0.00   \n",
       "4  0.25  0.666667  0.666667    0.000000    0.75       0.5  0.000000  0.25   \n",
       "\n",
       "   health  absences  ...    G3  Fjob_at_home  Fjob_health  Fjob_other  \\\n",
       "0     0.5  0.107143  ...  0.30           0.0          0.0         0.0   \n",
       "1     0.5  0.071429  ...  0.30           0.0          0.0         1.0   \n",
       "2     0.5  0.178571  ...  0.50           0.0          0.0         1.0   \n",
       "3     1.0  0.035714  ...  0.75           0.0          0.0         0.0   \n",
       "4     1.0  0.071429  ...  0.50           0.0          0.0         1.0   \n",
       "\n",
       "   Fjob_services  Fjob_teacher  paid_no  paid_yes  romantic_no  romantic_yes  \n",
       "0            0.0           1.0      1.0       0.0          1.0           0.0  \n",
       "1            0.0           0.0      1.0       0.0          1.0           0.0  \n",
       "2            0.0           0.0      0.0       1.0          1.0           0.0  \n",
       "3            1.0           0.0      0.0       1.0          0.0           1.0  \n",
       "4            0.0           0.0      0.0       1.0          1.0           0.0  \n",
       "\n",
       "[5 rows x 22 columns]"
      ]
     },
     "execution_count": 119,
     "metadata": {},
     "output_type": "execute_result"
    }
   ],
   "source": [
    "normalized_df0_1.head()"
   ]
  },
  {
   "cell_type": "code",
   "execution_count": 120,
   "id": "spiritual-kingston",
   "metadata": {},
   "outputs": [],
   "source": [
    "# Baisse de prédiction..."
   ]
  },
  {
   "cell_type": "code",
   "execution_count": null,
   "id": "considered-shareware",
   "metadata": {},
   "outputs": [],
   "source": []
  },
  {
   "cell_type": "code",
   "execution_count": null,
   "id": "hungry-huntington",
   "metadata": {},
   "outputs": [],
   "source": []
  },
  {
   "cell_type": "code",
   "execution_count": null,
   "id": "balanced-protest",
   "metadata": {},
   "outputs": [],
   "source": []
  },
  {
   "cell_type": "code",
   "execution_count": 121,
   "id": "covered-lightning",
   "metadata": {},
   "outputs": [],
   "source": [
    "# Cross validation non croisé.\n",
    "from sklearn.model_selection import train_test_split\n",
    "from sklearn.model_selection import cross_val_score\n",
    "\n",
    "#\n",
    "from sklearn.preprocessing import StandardScaler\n",
    "\n",
    "# Parameters searching.\n",
    "from sklearn.model_selection import GridSearchCV\n",
    "\n",
    "#\n",
    "from sklearn.pipeline import make_pipeline\n",
    "from sklearn.datasets import make_regression\n",
    "\n",
    "\n",
    "# Regression linéaire.\n",
    "from sklearn.linear_model import LinearRegression\n",
    "from sklearn import linear_model\n",
    "from sklearn.linear_model import RidgeCV\n",
    "from sklearn.linear_model import Ridge\n",
    "from sklearn.linear_model import ElasticNet\n",
    "\n",
    "# Knn\n",
    "from sklearn.neighbors import KNeighborsRegressor\n",
    "\n",
    "# Svr\n",
    "from sklearn.svm import LinearSVR\n",
    "from sklearn.svm import SVR\n",
    "\n",
    "# Ensemble learning\n",
    "from sklearn.ensemble import BaggingRegressor\n",
    "from sklearn.ensemble import RandomForestRegressor\n",
    "from sklearn.ensemble import StackingRegressor"
   ]
  },
  {
   "cell_type": "code",
   "execution_count": 122,
   "id": "written-brisbane",
   "metadata": {},
   "outputs": [],
   "source": [
    "# Cross validation k-fold -> évite le suraprentissage"
   ]
  },
  {
   "cell_type": "code",
   "execution_count": 123,
   "id": "strange-valley",
   "metadata": {},
   "outputs": [],
   "source": [
    "# regression linéaire\n",
    "    # ridge -> évite le suraprentissage\n",
    "    # lasso -> évite le suraprentissage\n",
    "    # elastic net -> combo de ridge + lasso\n",
    "\n",
    "# Knn -> parfait pour les petites données à cause de la sauvegarde des data en mémoire, sensible au over data\n",
    "# Svr -> généralise bien avec peu de donnée / baisse de perf avec beaucoup de perf (one vs all très long)"
   ]
  },
  {
   "cell_type": "code",
   "execution_count": 124,
   "id": "useful-miniature",
   "metadata": {},
   "outputs": [],
   "source": [
    "# Essayer un grid search \n",
    "    # knn = [ k: {1, 3, 5, 7} ]\n",
    "    #random forest = [ deepth: {5, 10, 15, 20, 25, 30, 100}]"
   ]
  },
  {
   "cell_type": "code",
   "execution_count": 125,
   "id": "amino-magic",
   "metadata": {},
   "outputs": [],
   "source": [
    "#random forest\n",
    "    # bagging -> plusieurs entité d'un meme model (model faible) qui forme un gros model ou p >= 51%\n",
    "        # bootstraping: entrainement sur jeu aléatoire de donnée puis replacement...\n",
    "    # boosting -> sequentielle, les modèles apprenent de l'ancien\n",
    "        # adaboost -> plusieurs arbre de decision qui forme une foret\n",
    "    # stacking -> un dernier modele qui dit qui a tord qui a faux.\n",
    "    # xgboost -> avec arbre. Merci framework."
   ]
  },
  {
   "cell_type": "code",
   "execution_count": null,
   "id": "latin-hollow",
   "metadata": {},
   "outputs": [],
   "source": []
  },
  {
   "cell_type": "code",
   "execution_count": 126,
   "id": "copyrighted-principal",
   "metadata": {},
   "outputs": [],
   "source": [
    "# Division des données.\n",
    "y = df[\"G3\"]\n",
    "X = df.drop([\"G3\"], axis=1)"
   ]
  },
  {
   "cell_type": "code",
   "execution_count": null,
   "id": "judicial-wilson",
   "metadata": {},
   "outputs": [],
   "source": []
  },
  {
   "cell_type": "code",
   "execution_count": 127,
   "id": "outer-sigma",
   "metadata": {},
   "outputs": [],
   "source": [
    "#Cross validation non croisée.\n",
    "X_train, X_test, y_train, y_test = train_test_split(X, y, test_size=0.2, random_state=42)"
   ]
  },
  {
   "cell_type": "code",
   "execution_count": null,
   "id": "victorian-stylus",
   "metadata": {},
   "outputs": [],
   "source": []
  },
  {
   "cell_type": "markdown",
   "id": "inappropriate-brighton",
   "metadata": {},
   "source": [
    "# Regression linéaire"
   ]
  },
  {
   "cell_type": "code",
   "execution_count": 128,
   "id": "stupid-justice",
   "metadata": {},
   "outputs": [
    {
     "name": "stdout",
     "output_type": "stream",
     "text": [
      "0.8301901648401686\n",
      "0.8792188806997189\n"
     ]
    }
   ],
   "source": [
    "reg = LinearRegression().fit(X_train, y_train)\n",
    "print(reg.score(X_train, y_train))\n",
    "print(reg.score(X_test, y_test))"
   ]
  },
  {
   "cell_type": "code",
   "execution_count": 129,
   "id": "architectural-transaction",
   "metadata": {},
   "outputs": [
    {
     "name": "stdout",
     "output_type": "stream",
     "text": [
      "0.8064481027065484\n",
      "0.8354246530994928\n"
     ]
    }
   ],
   "source": [
    "a = cross_val_score(LinearRegression(), X_train, y_train, cv=5).mean()\n",
    "b = cross_val_score(LinearRegression(), X_test, y_test, cv=5).mean()\n",
    "print(a)\n",
    "print(b)"
   ]
  },
  {
   "cell_type": "markdown",
   "id": "deadly-former",
   "metadata": {},
   "source": [
    "## Regression linéaire avec gridsearch"
   ]
  },
  {
   "cell_type": "code",
   "execution_count": 186,
   "id": "floating-scottish",
   "metadata": {},
   "outputs": [],
   "source": [
    "param_grid = {\"fit_intercept\": [False, True], \"normalize\": [False, True], \"copy_X\": [False, True], \"positive\": [False, True]}"
   ]
  },
  {
   "cell_type": "code",
   "execution_count": 191,
   "id": "atlantic-heater",
   "metadata": {},
   "outputs": [
    {
     "data": {
      "text/plain": [
       "GridSearchCV(cv=20, estimator=LinearRegression(),\n",
       "             param_grid={'copy_X': [False, True],\n",
       "                         'fit_intercept': [False, True],\n",
       "                         'normalize': [False, True],\n",
       "                         'positive': [False, True]})"
      ]
     },
     "execution_count": 191,
     "metadata": {},
     "output_type": "execute_result"
    }
   ],
   "source": [
    "grid = GridSearchCV(LinearRegression(), param_grid, cv=20)\n",
    "grid.fit(X_train, y_train)"
   ]
  },
  {
   "cell_type": "code",
   "execution_count": 192,
   "id": "incomplete-alexandria",
   "metadata": {},
   "outputs": [
    {
     "name": "stdout",
     "output_type": "stream",
     "text": [
      "0.7737044569660874\n",
      "{'copy_X': False, 'fit_intercept': False, 'normalize': False, 'positive': True}\n",
      "0.8791633103650672\n"
     ]
    }
   ],
   "source": [
    "print(grid.best_score_)\n",
    "print(grid.best_params_)\n",
    "grid = grid.best_estimator_\n",
    "print(grid.score(X_test, y_test))"
   ]
  },
  {
   "cell_type": "markdown",
   "id": "concrete-island",
   "metadata": {},
   "source": [
    "## Regression linéaire avec ridge"
   ]
  },
  {
   "cell_type": "code",
   "execution_count": 135,
   "id": "incomplete-knowing",
   "metadata": {},
   "outputs": [],
   "source": [
    "#param_grid = {\"alpha\": np.arange(1, 100), \"fit_intercept\": [False, True], \"normalize\": [False, True],\n",
    "#             \"copy_X\": [False, True], \"tol\": [np.arange(0, 1, 0.1)], \n",
    "#              \"solver\": [\"auto\", \"svd\", \"cholesky\", \"lsqr\", \"sparse_cg\", \"sag\", \"saga\"],\n",
    "#             }"
   ]
  },
  {
   "cell_type": "code",
   "execution_count": 194,
   "id": "remarkable-patent",
   "metadata": {},
   "outputs": [
    {
     "name": "stdout",
     "output_type": "stream",
     "text": [
      "0.830181158609632\n",
      "0.8797748369633825\n"
     ]
    }
   ],
   "source": [
    "grid = Ridge()\n",
    "grid.fit(X_train, y_train)\n",
    "print(grid.score(X_train, y_train))\n",
    "print(grid.score(X_test, y_test))"
   ]
  },
  {
   "cell_type": "markdown",
   "id": "mysterious-passing",
   "metadata": {},
   "source": [
    "## Regression linéaire avec Lasso"
   ]
  },
  {
   "cell_type": "code",
   "execution_count": null,
   "id": "indonesian-principal",
   "metadata": {},
   "outputs": [],
   "source": [
    "clf = linear_model.Lasso(alpha=0.1)\n",
    "clf.fit(X_train, y_train)\n",
    "print(clf.score(X_train, y_train))\n",
    "print(clf.score(X_test, y_test))"
   ]
  },
  {
   "cell_type": "code",
   "execution_count": null,
   "id": "chemical-soccer",
   "metadata": {},
   "outputs": [],
   "source": []
  },
  {
   "cell_type": "code",
   "execution_count": 197,
   "id": "underlying-portable",
   "metadata": {},
   "outputs": [
    {
     "name": "stdout",
     "output_type": "stream",
     "text": [
      "{'alpha': 1}\n",
      "0.8897788792198184\n"
     ]
    }
   ],
   "source": [
    "param_grid = {\"alpha\": np.arange(1, 100)}\n",
    "grid = GridSearchCV(linear_model.Lasso(), param_grid, cv=5)\n",
    "grid.fit(X_train, y_train)\n",
    "print(grid.best_params_)\n",
    "grid = grid.best_estimator_\n",
    "print(grid.score(X_test, y_test))"
   ]
  },
  {
   "cell_type": "markdown",
   "id": "healthy-permission",
   "metadata": {},
   "source": [
    "## Regression linéaire avec ElasticNet"
   ]
  },
  {
   "cell_type": "code",
   "execution_count": 198,
   "id": "surprising-administrator",
   "metadata": {},
   "outputs": [
    {
     "name": "stdout",
     "output_type": "stream",
     "text": [
      "0.8086687271335324\n",
      "0.8822698143549943\n"
     ]
    }
   ],
   "source": [
    "regr = ElasticNet(random_state=0)\n",
    "regr.fit(X_train, y_train)\n",
    "print(regr.score(X_train, y_train))\n",
    "print(regr.score(X_test, y_test))"
   ]
  },
  {
   "cell_type": "markdown",
   "id": "reasonable-shelter",
   "metadata": {},
   "source": [
    "## Regression avec Knn"
   ]
  },
  {
   "cell_type": "code",
   "execution_count": 155,
   "id": "fewer-lightning",
   "metadata": {},
   "outputs": [],
   "source": [
    "param_grid = {\"n_neighbors\": np.arange(1, 20), \"metric\": [\"euclidean\", \"manhattan\"]}\n",
    "grid = GridSearchCV(KNeighborsRegressor(), param_grid, cv=5)\n",
    "grid.fit(X_train, y_train)\n",
    "print(grid.best_score_)\n",
    "print(grid.best_params_)\n",
    "model = grid.best_estimator_\n",
    "print(model.score(X_test, y_test))"
   ]
  },
  {
   "cell_type": "code",
   "execution_count": null,
   "id": "rough-store",
   "metadata": {},
   "outputs": [],
   "source": []
  },
  {
   "cell_type": "code",
   "execution_count": 160,
   "id": "alternate-roman",
   "metadata": {},
   "outputs": [
    {
     "data": {
      "text/plain": [
       "0.8208944705931696"
      ]
     },
     "execution_count": 160,
     "metadata": {},
     "output_type": "execute_result"
    }
   ],
   "source": [
    "from sklearn.model_selection import cross_val_score\n",
    "a = cross_val_score(KNeighborsRegressor(), X_train, y_train, cv=5).mean()\n",
    "print(a)\n",
    "b = cross_val_score(KNeighborsRegressor(), X_test, y_test, cv=5).mean()\n",
    "print(b)"
   ]
  },
  {
   "cell_type": "code",
   "execution_count": null,
   "id": "ahead-promise",
   "metadata": {},
   "outputs": [],
   "source": []
  },
  {
   "cell_type": "code",
   "execution_count": 162,
   "id": "bibliographic-confidentiality",
   "metadata": {},
   "outputs": [
    {
     "data": {
      "text/plain": [
       "0.8234678581220873"
      ]
     },
     "execution_count": 162,
     "metadata": {},
     "output_type": "execute_result"
    }
   ],
   "source": [
    "from sklearn.model_selection import validation_curve\n",
    "grid = cross_val_score(GridSearchCV(KNeighborsRegressor(), param_grid, cv=5), X_train, y_train, cv=5).mean()\n",
    "grid"
   ]
  },
  {
   "cell_type": "code",
   "execution_count": null,
   "id": "tribal-carroll",
   "metadata": {},
   "outputs": [],
   "source": []
  },
  {
   "cell_type": "code",
   "execution_count": 163,
   "id": "diagnostic-contact",
   "metadata": {},
   "outputs": [],
   "source": [
    "neigh = KNeighborsRegressor(n_neighbors=10, metric=\"euclidean\")\n",
    "neigh.fit(X_train, y_train)\n",
    "print(neigh.score(X_train, y_train))\n",
    "print(neigh.score(X_train, y_train))"
   ]
  },
  {
   "cell_type": "code",
   "execution_count": 167,
   "id": "allied-customer",
   "metadata": {},
   "outputs": [
    {
     "data": {
      "text/plain": [
       "0.8237948095812238"
      ]
     },
     "execution_count": 167,
     "metadata": {},
     "output_type": "execute_result"
    }
   ],
   "source": [
    "cross_val_score(KNeighborsRegressor(n_neighbors=10, metric=\"euclidean\"), X_train, y_train, cv=5).mean()"
   ]
  },
  {
   "cell_type": "markdown",
   "id": "respiratory-thumbnail",
   "metadata": {},
   "source": [
    "# SVR"
   ]
  },
  {
   "cell_type": "code",
   "execution_count": 168,
   "id": "correct-newspaper",
   "metadata": {},
   "outputs": [
    {
     "data": {
      "text/plain": [
       "SVR(epsilon=0.2)"
      ]
     },
     "execution_count": 168,
     "metadata": {},
     "output_type": "execute_result"
    }
   ],
   "source": [
    "regr = SVR(C=1.0, epsilon=0.2)\n",
    "regr.fit(X_train, y_train)\n",
    "print(regr.score(X_train, y_train))\n",
    "print(regr.score(X_test, y_test))"
   ]
  },
  {
   "cell_type": "code",
   "execution_count": 171,
   "id": "devoted-signal",
   "metadata": {},
   "outputs": [
    {
     "data": {
      "text/plain": [
       "Pipeline(steps=[('standardscaler', StandardScaler()),\n",
       "                ('svr', SVR(epsilon=0.2))])"
      ]
     },
     "execution_count": 171,
     "metadata": {},
     "output_type": "execute_result"
    }
   ],
   "source": [
    "regr = make_pipeline(StandardScaler(), SVR(C=1.0, epsilon=0.2))\n",
    "regr.fit(X_train, y_train)\n",
    "print(regr.score(X_train, y_train))\n",
    "print(regr.score(X_test, y_test))"
   ]
  },
  {
   "cell_type": "markdown",
   "id": "capable-manner",
   "metadata": {},
   "source": [
    "# Ensemble learning\n",
    "\n",
    "## Random forest"
   ]
  },
  {
   "cell_type": "code",
   "execution_count": 174,
   "id": "welsh-savannah",
   "metadata": {},
   "outputs": [],
   "source": [
    "regr = RandomForestRegressor(max_depth=100, random_state=100)\n",
    "regr.fit(X_train, y_train)\n",
    "print(regr.score(X_train, y_train))\n",
    "print(regr.score(X_test, y_test))"
   ]
  },
  {
   "cell_type": "code",
   "execution_count": null,
   "id": "virgin-involvement",
   "metadata": {},
   "outputs": [],
   "source": []
  },
  {
   "cell_type": "code",
   "execution_count": 178,
   "id": "strange-gregory",
   "metadata": {},
   "outputs": [
    {
     "name": "stdout",
     "output_type": "stream",
     "text": [
      "{'criterion': 'mse', 'max_depth': 1000, 'n_estimators': 14}\n",
      "0.8511890280745023\n",
      "0.905082744831107\n"
     ]
    }
   ],
   "source": [
    "# Avec gridsearch\n",
    "param_grid = {\"n_estimators\": np.arange(1, 20), \"criterion\": [\"mse\"], \"max_depth\": [1, 1000]}\n",
    "grid = GridSearchCV(RandomForestRegressor(), param_grid, cv=10)\n",
    "grid.fit(X_train, y_train)\n",
    "print(grid.best_params_)\n",
    "print(grid.best_score_)\n",
    "grid = grid.best_estimator_\n",
    "print(grid.score(X_test, y_test))"
   ]
  },
  {
   "cell_type": "code",
   "execution_count": null,
   "id": "progressive-circle",
   "metadata": {},
   "outputs": [],
   "source": []
  },
  {
   "cell_type": "code",
   "execution_count": 179,
   "id": "coordinate-spring",
   "metadata": {},
   "outputs": [
    {
     "name": "stdout",
     "output_type": "stream",
     "text": [
      "0.9755756554720872\n",
      "0.9311656243795909\n"
     ]
    }
   ],
   "source": [
    "regr = RandomForestRegressor(max_depth=100, criterion=\"mse\", n_estimators=12, random_state=0)\n",
    "regr.fit(X_train, y_train)\n",
    "print(regr.score(X_train, y_train))\n",
    "print(regr.score(X_test, y_test))"
   ]
  },
  {
   "cell_type": "markdown",
   "id": "fiscal-needle",
   "metadata": {},
   "source": [
    "# Bagging techinic"
   ]
  },
  {
   "cell_type": "code",
   "execution_count": 180,
   "id": "christian-judges",
   "metadata": {},
   "outputs": [
    {
     "name": "stdout",
     "output_type": "stream",
     "text": [
      "0.7789900123509798\n",
      "0.8693596289262525\n"
     ]
    }
   ],
   "source": [
    "regr = BaggingRegressor(base_estimator=SVR(), n_estimators=300, random_state=0).fit(X_train, y_train)\n",
    "print(regr.score(X_train, y_train))\n",
    "print(regr.score(X_test, y_test))"
   ]
  },
  {
   "cell_type": "code",
   "execution_count": 181,
   "id": "western-stanley",
   "metadata": {},
   "outputs": [
    {
     "name": "stdout",
     "output_type": "stream",
     "text": [
      "0.9463382725206742\n",
      "0.9220777673785416\n"
     ]
    }
   ],
   "source": [
    "regr = BaggingRegressor(base_estimator=RandomForestRegressor(\n",
    "    max_depth=300, criterion=\"mse\", n_estimators=14, random_state=0), \n",
    "                        n_estimators=10, random_state=0).fit(X_train, y_train)\n",
    "\n",
    "print(regr.score(X_train, y_train))\n",
    "print(regr.score(X_test, y_test))"
   ]
  },
  {
   "cell_type": "markdown",
   "id": "handmade-christianity",
   "metadata": {},
   "source": [
    "# Boosting technich"
   ]
  },
  {
   "cell_type": "code",
   "execution_count": 182,
   "id": "material-siemens",
   "metadata": {},
   "outputs": [],
   "source": [
    "from sklearn.ensemble import GradientBoostingRegressor"
   ]
  },
  {
   "cell_type": "code",
   "execution_count": 183,
   "id": "dress-series",
   "metadata": {},
   "outputs": [
    {
     "name": "stdout",
     "output_type": "stream",
     "text": [
      "0.9463382725206742\n",
      "0.9220777673785416\n"
     ]
    }
   ],
   "source": [
    "reg = GradientBoostingRegressor(random_state=0).fit(X_train, y_train)\n",
    "print(regr.score(X_train, y_train))\n",
    "print(regr.score(X_test, y_test))"
   ]
  },
  {
   "cell_type": "markdown",
   "id": "knowing-insulation",
   "metadata": {},
   "source": [
    "# Stacking technic"
   ]
  },
  {
   "cell_type": "code",
   "execution_count": 184,
   "id": "delayed-aging",
   "metadata": {},
   "outputs": [
    {
     "name": "stdout",
     "output_type": "stream",
     "text": [
      "0.9463382725206742\n",
      "0.9220777673785416\n"
     ]
    }
   ],
   "source": [
    "estimators = [('lr', RidgeCV()),('svr', LinearSVR(random_state=42))]\n",
    "reg = StackingRegressor(estimators=estimators, final_estimator=RandomForestRegressor(n_estimators=10, random_state=42))\n",
    "reg.fit(X_train, y_train)\n",
    "print(regr.score(X_train, y_train))\n",
    "print(regr.score(X_test, y_test))"
   ]
  },
  {
   "cell_type": "code",
   "execution_count": null,
   "id": "signal-imagination",
   "metadata": {},
   "outputs": [],
   "source": [
    "# Vive les chips"
   ]
  }
 ],
 "metadata": {
  "kernelspec": {
   "display_name": "Python 3",
   "language": "python",
   "name": "python3"
  },
  "language_info": {
   "codemirror_mode": {
    "name": "ipython",
    "version": 3
   },
   "file_extension": ".py",
   "mimetype": "text/x-python",
   "name": "python",
   "nbconvert_exporter": "python",
   "pygments_lexer": "ipython3",
   "version": "3.7.6"
  }
 },
 "nbformat": 4,
 "nbformat_minor": 5
}
