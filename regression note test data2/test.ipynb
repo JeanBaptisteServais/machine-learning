{
 "cells": [
  {
   "cell_type": "code",
   "execution_count": 1024,
   "id": "peaceful-wellington",
   "metadata": {},
   "outputs": [],
   "source": [
    "import pandas as pd\n",
    "import matplotlib.pyplot as plt\n",
    "import numpy as np"
   ]
  },
  {
   "cell_type": "code",
   "execution_count": 1025,
   "id": "third-accessory",
   "metadata": {},
   "outputs": [],
   "source": [
    "df = pd.read_csv(\"test_scores.csv\")"
   ]
  },
  {
   "cell_type": "code",
   "execution_count": 1026,
   "id": "republican-bahamas",
   "metadata": {},
   "outputs": [
    {
     "data": {
      "text/html": [
       "<div>\n",
       "<style scoped>\n",
       "    .dataframe tbody tr th:only-of-type {\n",
       "        vertical-align: middle;\n",
       "    }\n",
       "\n",
       "    .dataframe tbody tr th {\n",
       "        vertical-align: top;\n",
       "    }\n",
       "\n",
       "    .dataframe thead th {\n",
       "        text-align: right;\n",
       "    }\n",
       "</style>\n",
       "<table border=\"1\" class=\"dataframe\">\n",
       "  <thead>\n",
       "    <tr style=\"text-align: right;\">\n",
       "      <th></th>\n",
       "      <th>school</th>\n",
       "      <th>school_setting</th>\n",
       "      <th>school_type</th>\n",
       "      <th>classroom</th>\n",
       "      <th>teaching_method</th>\n",
       "      <th>n_student</th>\n",
       "      <th>student_id</th>\n",
       "      <th>gender</th>\n",
       "      <th>lunch</th>\n",
       "      <th>pretest</th>\n",
       "      <th>posttest</th>\n",
       "    </tr>\n",
       "  </thead>\n",
       "  <tbody>\n",
       "    <tr>\n",
       "      <th>0</th>\n",
       "      <td>ANKYI</td>\n",
       "      <td>Urban</td>\n",
       "      <td>Non-public</td>\n",
       "      <td>6OL</td>\n",
       "      <td>Standard</td>\n",
       "      <td>20.0</td>\n",
       "      <td>2FHT3</td>\n",
       "      <td>Female</td>\n",
       "      <td>Does not qualify</td>\n",
       "      <td>62.0</td>\n",
       "      <td>72.0</td>\n",
       "    </tr>\n",
       "    <tr>\n",
       "      <th>1</th>\n",
       "      <td>ANKYI</td>\n",
       "      <td>Urban</td>\n",
       "      <td>Non-public</td>\n",
       "      <td>6OL</td>\n",
       "      <td>Standard</td>\n",
       "      <td>20.0</td>\n",
       "      <td>3JIVH</td>\n",
       "      <td>Female</td>\n",
       "      <td>Does not qualify</td>\n",
       "      <td>66.0</td>\n",
       "      <td>79.0</td>\n",
       "    </tr>\n",
       "    <tr>\n",
       "      <th>2</th>\n",
       "      <td>ANKYI</td>\n",
       "      <td>Urban</td>\n",
       "      <td>Non-public</td>\n",
       "      <td>6OL</td>\n",
       "      <td>Standard</td>\n",
       "      <td>20.0</td>\n",
       "      <td>3XOWE</td>\n",
       "      <td>Male</td>\n",
       "      <td>Does not qualify</td>\n",
       "      <td>64.0</td>\n",
       "      <td>76.0</td>\n",
       "    </tr>\n",
       "    <tr>\n",
       "      <th>3</th>\n",
       "      <td>ANKYI</td>\n",
       "      <td>Urban</td>\n",
       "      <td>Non-public</td>\n",
       "      <td>6OL</td>\n",
       "      <td>Standard</td>\n",
       "      <td>20.0</td>\n",
       "      <td>556O0</td>\n",
       "      <td>Female</td>\n",
       "      <td>Does not qualify</td>\n",
       "      <td>61.0</td>\n",
       "      <td>77.0</td>\n",
       "    </tr>\n",
       "    <tr>\n",
       "      <th>4</th>\n",
       "      <td>ANKYI</td>\n",
       "      <td>Urban</td>\n",
       "      <td>Non-public</td>\n",
       "      <td>6OL</td>\n",
       "      <td>Standard</td>\n",
       "      <td>20.0</td>\n",
       "      <td>74LOE</td>\n",
       "      <td>Male</td>\n",
       "      <td>Does not qualify</td>\n",
       "      <td>64.0</td>\n",
       "      <td>76.0</td>\n",
       "    </tr>\n",
       "  </tbody>\n",
       "</table>\n",
       "</div>"
      ],
      "text/plain": [
       "  school school_setting school_type classroom teaching_method  n_student  \\\n",
       "0  ANKYI          Urban  Non-public       6OL        Standard       20.0   \n",
       "1  ANKYI          Urban  Non-public       6OL        Standard       20.0   \n",
       "2  ANKYI          Urban  Non-public       6OL        Standard       20.0   \n",
       "3  ANKYI          Urban  Non-public       6OL        Standard       20.0   \n",
       "4  ANKYI          Urban  Non-public       6OL        Standard       20.0   \n",
       "\n",
       "  student_id  gender             lunch  pretest  posttest  \n",
       "0      2FHT3  Female  Does not qualify     62.0      72.0  \n",
       "1      3JIVH  Female  Does not qualify     66.0      79.0  \n",
       "2      3XOWE    Male  Does not qualify     64.0      76.0  \n",
       "3      556O0  Female  Does not qualify     61.0      77.0  \n",
       "4      74LOE    Male  Does not qualify     64.0      76.0  "
      ]
     },
     "execution_count": 1026,
     "metadata": {},
     "output_type": "execute_result"
    }
   ],
   "source": [
    "df.head()"
   ]
  },
  {
   "cell_type": "markdown",
   "id": "willing-clock",
   "metadata": {},
   "source": [
    "\n",
    "    Nous pouvons voir que les variables sont:\n",
    "    - school\n",
    "    - school_setting\n",
    "    - school_type\n",
    "    - classroom\n",
    "    - teaching_method\n",
    "    - n_student\n",
    "    - student_id\n",
    "    - gender\n",
    "    - lunch\n",
    "    - pretest\n",
    "    - posttest\n"
   ]
  },
  {
   "cell_type": "markdown",
   "id": "coral-joshua",
   "metadata": {},
   "source": [
    "la variable student_id n'influe pas dans le potest. Nous pouvons donc la supprimer."
   ]
  },
  {
   "cell_type": "code",
   "execution_count": 1027,
   "id": "operational-begin",
   "metadata": {},
   "outputs": [],
   "source": [
    "del df[\"student_id\"]"
   ]
  },
  {
   "cell_type": "markdown",
   "id": "public-disney",
   "metadata": {},
   "source": [
    "Nous avons une data base de 2133x11"
   ]
  },
  {
   "cell_type": "code",
   "execution_count": 1028,
   "id": "downtown-cincinnati",
   "metadata": {},
   "outputs": [
    {
     "data": {
      "text/plain": [
       "(2133, 10)"
      ]
     },
     "execution_count": 1028,
     "metadata": {},
     "output_type": "execute_result"
    }
   ],
   "source": [
    "df.shape"
   ]
  },
  {
   "cell_type": "code",
   "execution_count": 1029,
   "id": "younger-australian",
   "metadata": {},
   "outputs": [
    {
     "data": {
      "text/html": [
       "<div>\n",
       "<style scoped>\n",
       "    .dataframe tbody tr th:only-of-type {\n",
       "        vertical-align: middle;\n",
       "    }\n",
       "\n",
       "    .dataframe tbody tr th {\n",
       "        vertical-align: top;\n",
       "    }\n",
       "\n",
       "    .dataframe thead th {\n",
       "        text-align: right;\n",
       "    }\n",
       "</style>\n",
       "<table border=\"1\" class=\"dataframe\">\n",
       "  <thead>\n",
       "    <tr style=\"text-align: right;\">\n",
       "      <th></th>\n",
       "      <th>n_student</th>\n",
       "      <th>pretest</th>\n",
       "      <th>posttest</th>\n",
       "    </tr>\n",
       "  </thead>\n",
       "  <tbody>\n",
       "    <tr>\n",
       "      <th>count</th>\n",
       "      <td>2133.000000</td>\n",
       "      <td>2133.000000</td>\n",
       "      <td>2133.000000</td>\n",
       "    </tr>\n",
       "    <tr>\n",
       "      <th>mean</th>\n",
       "      <td>22.796531</td>\n",
       "      <td>54.955931</td>\n",
       "      <td>67.102203</td>\n",
       "    </tr>\n",
       "    <tr>\n",
       "      <th>std</th>\n",
       "      <td>4.228893</td>\n",
       "      <td>13.563101</td>\n",
       "      <td>13.986789</td>\n",
       "    </tr>\n",
       "    <tr>\n",
       "      <th>min</th>\n",
       "      <td>14.000000</td>\n",
       "      <td>22.000000</td>\n",
       "      <td>32.000000</td>\n",
       "    </tr>\n",
       "    <tr>\n",
       "      <th>25%</th>\n",
       "      <td>20.000000</td>\n",
       "      <td>44.000000</td>\n",
       "      <td>56.000000</td>\n",
       "    </tr>\n",
       "    <tr>\n",
       "      <th>50%</th>\n",
       "      <td>22.000000</td>\n",
       "      <td>56.000000</td>\n",
       "      <td>68.000000</td>\n",
       "    </tr>\n",
       "    <tr>\n",
       "      <th>75%</th>\n",
       "      <td>27.000000</td>\n",
       "      <td>65.000000</td>\n",
       "      <td>77.000000</td>\n",
       "    </tr>\n",
       "    <tr>\n",
       "      <th>max</th>\n",
       "      <td>31.000000</td>\n",
       "      <td>93.000000</td>\n",
       "      <td>100.000000</td>\n",
       "    </tr>\n",
       "  </tbody>\n",
       "</table>\n",
       "</div>"
      ],
      "text/plain": [
       "         n_student      pretest     posttest\n",
       "count  2133.000000  2133.000000  2133.000000\n",
       "mean     22.796531    54.955931    67.102203\n",
       "std       4.228893    13.563101    13.986789\n",
       "min      14.000000    22.000000    32.000000\n",
       "25%      20.000000    44.000000    56.000000\n",
       "50%      22.000000    56.000000    68.000000\n",
       "75%      27.000000    65.000000    77.000000\n",
       "max      31.000000    93.000000   100.000000"
      ]
     },
     "execution_count": 1029,
     "metadata": {},
     "output_type": "execute_result"
    }
   ],
   "source": [
    "df.describe()"
   ]
  },
  {
   "cell_type": "code",
   "execution_count": 1030,
   "id": "detected-supplier",
   "metadata": {},
   "outputs": [
    {
     "data": {
      "text/plain": [
       "school             0\n",
       "school_setting     0\n",
       "school_type        0\n",
       "classroom          0\n",
       "teaching_method    0\n",
       "n_student          0\n",
       "gender             0\n",
       "lunch              0\n",
       "pretest            0\n",
       "posttest           0\n",
       "dtype: int64"
      ]
     },
     "execution_count": 1030,
     "metadata": {},
     "output_type": "execute_result"
    }
   ],
   "source": [
    "df.isna().sum()"
   ]
  },
  {
   "cell_type": "code",
   "execution_count": 1031,
   "id": "allied-debut",
   "metadata": {},
   "outputs": [
    {
     "data": {
      "text/plain": [
       "school             23\n",
       "school_setting      3\n",
       "school_type         2\n",
       "classroom          97\n",
       "teaching_method     2\n",
       "n_student          18\n",
       "gender              2\n",
       "lunch               2\n",
       "pretest            69\n",
       "posttest           68\n",
       "dtype: int64"
      ]
     },
     "execution_count": 1031,
     "metadata": {},
     "output_type": "execute_result"
    }
   ],
   "source": [
    "df.nunique()"
   ]
  },
  {
   "cell_type": "code",
   "execution_count": 1032,
   "id": "integral-disability",
   "metadata": {},
   "outputs": [
    {
     "data": {
      "text/plain": [
       "array(['Non-public', 'Public'], dtype=object)"
      ]
     },
     "execution_count": 1032,
     "metadata": {},
     "output_type": "execute_result"
    }
   ],
   "source": [
    "df[\"school_type\"].unique()"
   ]
  },
  {
   "cell_type": "markdown",
   "id": "alternate-responsibility",
   "metadata": {},
   "source": [
    "Répartition des femmes et des hommes dans notre jeu de donnée."
   ]
  },
  {
   "cell_type": "code",
   "execution_count": 1033,
   "id": "exterior-province",
   "metadata": {},
   "outputs": [
    {
     "data": {
      "text/plain": [
       "(67.00473484848484, 67.19777158774373)"
      ]
     },
     "execution_count": 1033,
     "metadata": {},
     "output_type": "execute_result"
    }
   ],
   "source": [
    "femme = df[df['gender'] == \"Female\"]\n",
    "mean_femal = femme[\"posttest\"].mean()\n",
    "\n",
    "homme = df[df['gender'] == \"Male\"]\n",
    "mean_men = homme[\"posttest\"].mean()\n",
    "\n",
    "mean_femal, mean_men"
   ]
  },
  {
   "cell_type": "code",
   "execution_count": 1034,
   "id": "younger-feeding",
   "metadata": {},
   "outputs": [
    {
     "data": {
      "image/png": "[encoded data removed]",
      "text/plain": [
       "<Figure size 720x432 with 1 Axes>"
      ]
     },
     "metadata": {
      "needs_background": "light"
     },
     "output_type": "display_data"
    }
   ],
   "source": [
    "fig, ax = plt.subplots(ncols=1, nrows=1, figsize=(10,6))\n",
    "\n",
    "width=10\n",
    "\n",
    "plt.bar(len(femme), mean_femal, width, color=\"b\", edgecolor='black')\n",
    "plt.bar(len(homme), mean_men, width, color=\"orange\", edgecolor='black')\n",
    "\n",
    "ax.get_xaxis().set_visible(False)\n",
    "\n",
    "ax.set_title('Gender & posttest', size=20)\n",
    "ax.set_xlabel('Gender', size=15)\n",
    "ax.set_ylabel('Mean postest', size=15)\n",
    "\n",
    "ax.legend(['Male'])\n",
    "\n",
    "plt.show()"
   ]
  },
  {
   "cell_type": "code",
   "execution_count": 1035,
   "id": "detected-electric",
   "metadata": {},
   "outputs": [],
   "source": [
    "df = pd.get_dummies(df, drop_first=False)"
   ]
  },
  {
   "cell_type": "code",
   "execution_count": 1036,
   "id": "pointed-israel",
   "metadata": {},
   "outputs": [
    {
     "name": "stdout",
     "output_type": "stream",
     "text": [
      "{'teaching_method_Experimental': 72.9828947368421, 'teaching_method_Standard': 63.84705025491624}\n"
     ]
    }
   ],
   "source": [
    "labels_school = [k for k, v in df.head().items() if k.find(\"teaching_method\") >= 0]\n",
    "#print(labels_school)\n",
    "school_test_score = {label: df[df[label] == 1][\"posttest\"].mean() for label in labels_school}\n",
    "print(school_test_score)"
   ]
  },
  {
   "cell_type": "code",
   "execution_count": 1037,
   "id": "wireless-monday",
   "metadata": {},
   "outputs": [
    {
     "data": {
      "image/png": "[encoded data removed]",
      "text/plain": [
       "<Figure size 1440x432 with 1 Axes>"
      ]
     },
     "metadata": {
      "needs_background": "light"
     },
     "output_type": "display_data"
    }
   ],
   "source": [
    "fig, ax = plt.subplots(ncols=1, nrows=1, figsize=(20,6))\n",
    "\n",
    "width=10\n",
    "\n",
    "recuperate_label = lambda data: [i for i in data]\n",
    "\n",
    "X = [k for k, v in school_test_score.items()]\n",
    "Y = [i for i in school_test_score.values()]\n",
    "\n",
    "width = 1.0\n",
    "plt.bar(X, Y, width, color='b', edgecolor='black')\n",
    "\n",
    "ax.set_title('School & posttest', size=20)\n",
    "ax.set_ylabel('Mean postest', size=20)\n",
    "\n",
    "plt.show()"
   ]
  },
  {
   "cell_type": "code",
   "execution_count": 1038,
   "id": "german-transcription",
   "metadata": {},
   "outputs": [
    {
     "data": {
      "text/plain": [
       "array([20., 21., 18., 15., 16., 19., 17., 28., 27., 24., 14., 22., 23.,\n",
       "       31., 25., 26., 29., 30.])"
      ]
     },
     "execution_count": 1038,
     "metadata": {},
     "output_type": "execute_result"
    }
   ],
   "source": [
    "df[\"n_student\"].unique()"
   ]
  },
  {
   "cell_type": "code",
   "execution_count": 1039,
   "id": "stylish-market",
   "metadata": {},
   "outputs": [
    {
     "name": "stdout",
     "output_type": "stream",
     "text": [
      "[20. 21. 18. 15. 16. 19. 17. 28. 27. 24. 14. 22. 23. 31. 25. 26. 29. 30.]\n"
     ]
    },
    {
     "data": {
      "image/png": "[encoded data removed]",
      "text/plain": [
       "<Figure size 1440x432 with 1 Axes>"
      ]
     },
     "metadata": {
      "needs_background": "light"
     },
     "output_type": "display_data"
    }
   ],
   "source": [
    "labels_school = df[\"n_student\"].unique()\n",
    "print(labels_school)\n",
    "\n",
    "school_test_score = {label: df[df[\"n_student\"] == label][\"posttest\"].mean() for label in labels_school}\n",
    "\n",
    "\n",
    "fig, ax = plt.subplots(ncols=1, nrows=1, figsize=(20,6))\n",
    "\n",
    "width=10\n",
    "\n",
    "recuperate_label = lambda data: [i for i in data]\n",
    "\n",
    "X = [k for k, v in school_test_score.items()]\n",
    "Y = [i for i in school_test_score.values()]\n",
    "\n",
    "width = 1.0\n",
    "plt.bar(X, Y, width, color='b', edgecolor='black')\n",
    "\n",
    "ax.set_title('School & posttest', size=20)\n",
    "ax.set_ylabel('Mean postest', size=20)\n",
    "ax.set_xlabel('Nb people in class', size=20)\n",
    "plt.show()\n",
    "\n"
   ]
  },
  {
   "cell_type": "code",
   "execution_count": 1040,
   "id": "flexible-trainer",
   "metadata": {},
   "outputs": [
    {
     "name": "stdout",
     "output_type": "stream",
     "text": [
      "{'lunch_Does not qualify': 74.37530864197531, 'lunch_Qualifies for reduced/free lunch': 57.4760348583878}\n"
     ]
    },
    {
     "data": {
      "image/png": "[encoded data removed]",
      "text/plain": [
       "<Figure size 1440x432 with 1 Axes>"
      ]
     },
     "metadata": {
      "needs_background": "light"
     },
     "output_type": "display_data"
    }
   ],
   "source": [
    "labels_school = [k for k, v in df.head().items() if k.find(\"lunch\") >= 0]\n",
    "#print(labels_school)\n",
    "\n",
    "school_test_score = {label: df[df[label] == 1][\"posttest\"].mean() for label in labels_school}\n",
    "print(school_test_score)\n",
    "\n",
    "fig, ax = plt.subplots(ncols=1, nrows=1, figsize=(20,6))\n",
    "\n",
    "width=10\n",
    "\n",
    "recuperate_label = lambda data: [i for i in data]\n",
    "\n",
    "X = [k for k, v in school_test_score.items()]\n",
    "Y = [i for i in school_test_score.values()]\n",
    "\n",
    "width = 1.0\n",
    "plt.bar(X, Y, width, color='b', edgecolor='black')\n",
    "\n",
    "ax.set_title('School & posttest', size=20)\n",
    "ax.set_ylabel('Mean postest', size=20)\n",
    "\n",
    "plt.show()\n"
   ]
  },
  {
   "cell_type": "code",
   "execution_count": 1041,
   "id": "considered-pulse",
   "metadata": {},
   "outputs": [
    {
     "name": "stdout",
     "output_type": "stream",
     "text": [
      "[22.0, 23.0, 25.0, 26.0, 27.0, 28.0, 29.0, 30.0, 31.0, 32.0, 33.0, 34.0, 35.0, 36.0, 37.0, 38.0, 39.0, 40.0, 41.0, 42.0, 43.0, 44.0, 45.0, 46.0, 47.0, 48.0, 49.0, 50.0, 51.0, 52.0, 53.0, 54.0, 55.0, 56.0, 57.0, 58.0, 59.0, 60.0, 61.0, 62.0, 63.0, 64.0, 65.0, 66.0, 67.0, 68.0, 69.0, 70.0, 71.0, 72.0, 73.0, 74.0, 75.0, 76.0, 77.0, 78.0, 79.0, 80.0, 81.0, 82.0, 83.0, 84.0, 85.0, 86.0, 87.0, 88.0, 89.0, 91.0, 93.0]\n"
     ]
    },
    {
     "data": {
      "image/png": "[encoded data removed]",
      "text/plain": [
       "<Figure size 2160x432 with 1 Axes>"
      ]
     },
     "metadata": {
      "needs_background": "light"
     },
     "output_type": "display_data"
    }
   ],
   "source": [
    "labels_school = sorted(df[\"pretest\"].unique())\n",
    "print(labels_school)\n",
    "\n",
    "school_test_score = {label: df[df[\"pretest\"] == label][\"posttest\"].mean() for label in labels_school}\n",
    "\n",
    "labels_school = dict(sorted(school_test_score.items(), key=lambda item: item[0]))\n",
    "\n",
    "fig, ax = plt.subplots(ncols=1, nrows=1, figsize=(30,6))\n",
    "\n",
    "width=10\n",
    "\n",
    "recuperate_label = lambda data: [i for i in data]\n",
    "\n",
    "X = [str(k) for k, v in school_test_score.items()]\n",
    "Y = [i for i in school_test_score.values()]\n",
    "\n",
    "width = 1.0\n",
    "plt.bar(X, Y, width, color='b', edgecolor='black')\n",
    "\n",
    "ax.set_title('School & posttest', size=20)\n",
    "ax.set_ylabel('Mean postest', size=20)\n",
    "ax.set_xlabel('Nb people in class', size=20)\n",
    "\n",
    "plt.show()\n"
   ]
  },
  {
   "cell_type": "code",
   "execution_count": 1042,
   "id": "transsexual-borough",
   "metadata": {},
   "outputs": [],
   "source": [
    "labels_school = [k for k, v in df.head().items() if k.find(\"school_setting\") >= 0]\n",
    "#print(labels_school)"
   ]
  },
  {
   "cell_type": "code",
   "execution_count": 1043,
   "id": "abroad-possession",
   "metadata": {},
   "outputs": [
    {
     "name": "stdout",
     "output_type": "stream",
     "text": [
      "{'school_setting_Rural': 64.05098039215686, 'school_setting_Suburban': 76.0376569037657, 'school_setting_Urban': 61.74834437086093}\n"
     ]
    }
   ],
   "source": [
    "school_test_score = {label: df[df[label] == 1][\"posttest\"].mean() for label in labels_school}\n",
    "print(school_test_score)"
   ]
  },
  {
   "cell_type": "code",
   "execution_count": 1044,
   "id": "placed-trader",
   "metadata": {},
   "outputs": [
    {
     "data": {
      "image/png": "[encoded data removed]",
      "text/plain": [
       "<Figure size 1440x432 with 1 Axes>"
      ]
     },
     "metadata": {
      "needs_background": "light"
     },
     "output_type": "display_data"
    }
   ],
   "source": [
    "fig, ax = plt.subplots(ncols=1, nrows=1, figsize=(20,6))\n",
    "\n",
    "width=10\n",
    "\n",
    "recuperate_label = lambda data: [i for i in data]\n",
    "\n",
    "X = [k for k, v in school_test_score.items()]\n",
    "Y = [i for i in school_test_score.values()]\n",
    "\n",
    "width = 1.0\n",
    "plt.bar(X, Y, width, color='b', edgecolor='black')\n",
    "\n",
    "ax.set_title('School & posttest', size=20)\n",
    "ax.set_ylabel('Mean postest', size=20)\n",
    "\n",
    "plt.show()"
   ]
  },
  {
   "cell_type": "code",
   "execution_count": 1045,
   "id": "protecting-ability",
   "metadata": {},
   "outputs": [],
   "source": [
    "labels_school = [k for k, v in df.head().items() if k.find(\"school\") >= 0 and k.count(\"_\") < 2]\n",
    "#print(labels_school)"
   ]
  },
  {
   "cell_type": "code",
   "execution_count": 1046,
   "id": "mature-pride",
   "metadata": {},
   "outputs": [],
   "source": [
    "school_test_score = {label: df[df[label] == 1][\"posttest\"].mean() for label in labels_school}\n",
    "#print(school_test_score)"
   ]
  },
  {
   "cell_type": "code",
   "execution_count": 1047,
   "id": "covered-queensland",
   "metadata": {},
   "outputs": [
    {
     "data": {
      "image/png": "[encoded data removed]",
      "text/plain": [
       "<Figure size 1440x432 with 1 Axes>"
      ]
     },
     "metadata": {
      "needs_background": "light"
     },
     "output_type": "display_data"
    }
   ],
   "source": [
    "fig, ax = plt.subplots(ncols=1, nrows=1, figsize=(20,6))\n",
    "\n",
    "width=10\n",
    "\n",
    "recuperate_label = lambda data: [i for i in data]\n",
    "\n",
    "X = [n for n in range(len(school_test_score))]\n",
    "Y = [i for i in school_test_score.values()]\n",
    "\n",
    "width = 1.0\n",
    "plt.bar(X, Y, width, color='b', edgecolor='black')\n",
    "\n",
    "ax.set_title('School & posttest', size=20)\n",
    "ax.set_xlabel('School', size=15)\n",
    "ax.set_ylabel('Mean postest', size=15)\n",
    "\n",
    "plt.show()"
   ]
  },
  {
   "cell_type": "code",
   "execution_count": 1048,
   "id": "young-ancient",
   "metadata": {},
   "outputs": [
    {
     "name": "stdout",
     "output_type": "stream",
     "text": [
      "{0: 'school_ANKYI', 1: 'school_CCAAW', 2: 'school_CIMBB', 3: 'school_CUQAM', 4: 'school_DNQDD', 5: 'school_FBUMG', 6: 'school_GJJHK', 7: 'school_GOKXL', 8: 'school_GOOBU', 9: 'school_IDGFP', 10: 'school_KFZMY', 11: 'school_KZKKE', 12: 'school_LAYPA', 13: 'school_OJOBU', 14: 'school_QOQTS', 15: 'school_UAGPU', 16: 'school_UKPGS', 17: 'school_UUUQX', 18: 'school_VHDHF', 19: 'school_VKWQH', 20: 'school_VVTVA', 21: 'school_ZMNYA', 22: 'school_ZOWMK'}\n"
     ]
    }
   ],
   "source": [
    "print({nb: i for nb, i in enumerate(labels_school)})"
   ]
  },
  {
   "cell_type": "code",
   "execution_count": 1049,
   "id": "special-korea",
   "metadata": {},
   "outputs": [
    {
     "name": "stdout",
     "output_type": "stream",
     "text": [
      "['school_type_Non-public', 'school_type_Public']\n"
     ]
    }
   ],
   "source": [
    "labels_school_type = [k for k, v in df.head().items() if k.find(\"school_type\") >= 0]\n",
    "print(labels_school_type)"
   ]
  },
  {
   "cell_type": "code",
   "execution_count": 1050,
   "id": "fleet-fabric",
   "metadata": {},
   "outputs": [
    {
     "name": "stdout",
     "output_type": "stream",
     "text": [
      "{'school_type_Non-public': 75.96188747731398, 'school_type_Public': 64.01643489254108}\n"
     ]
    }
   ],
   "source": [
    "school_test_score = {label: df[df[label] == 1][\"posttest\"].mean() for label in labels_school_type}\n",
    "print(school_test_score)"
   ]
  },
  {
   "cell_type": "code",
   "execution_count": 1051,
   "id": "functional-audio",
   "metadata": {},
   "outputs": [
    {
     "data": {
      "image/png": "[encoded data removed]",
      "text/plain": [
       "<Figure size 720x432 with 1 Axes>"
      ]
     },
     "metadata": {
      "needs_background": "light"
     },
     "output_type": "display_data"
    }
   ],
   "source": [
    "fig, ax = plt.subplots(ncols=1, nrows=1, figsize=(10,6))\n",
    "\n",
    "width=10\n",
    "\n",
    "recuperate_label = lambda data: [i for i in data]\n",
    "\n",
    "X = [k for k, v in school_test_score.items()]\n",
    "Y = [i for i in school_test_score.values()]\n",
    "\n",
    "width = 1.0\n",
    "plt.bar(X, Y, width, color='b', edgecolor='black')\n",
    "\n",
    "ax.set_title('School & posttest', size=20)\n",
    "ax.set_xlabel('School type', size=15)\n",
    "ax.set_ylabel('Mean postest', size=15)\n",
    "\n",
    "plt.show()"
   ]
  },
  {
   "cell_type": "code",
   "execution_count": 1052,
   "id": "distinguished-egyptian",
   "metadata": {},
   "outputs": [
    {
     "data": {
      "text/html": [
       "<div>\n",
       "<style scoped>\n",
       "    .dataframe tbody tr th:only-of-type {\n",
       "        vertical-align: middle;\n",
       "    }\n",
       "\n",
       "    .dataframe tbody tr th {\n",
       "        vertical-align: top;\n",
       "    }\n",
       "\n",
       "    .dataframe thead th {\n",
       "        text-align: right;\n",
       "    }\n",
       "</style>\n",
       "<table border=\"1\" class=\"dataframe\">\n",
       "  <thead>\n",
       "    <tr style=\"text-align: right;\">\n",
       "      <th></th>\n",
       "      <th>n_student</th>\n",
       "      <th>pretest</th>\n",
       "      <th>posttest</th>\n",
       "      <th>school_ANKYI</th>\n",
       "      <th>school_CCAAW</th>\n",
       "      <th>school_CIMBB</th>\n",
       "      <th>school_CUQAM</th>\n",
       "      <th>school_DNQDD</th>\n",
       "      <th>school_FBUMG</th>\n",
       "      <th>school_GJJHK</th>\n",
       "      <th>...</th>\n",
       "      <th>classroom_YUC</th>\n",
       "      <th>classroom_ZBH</th>\n",
       "      <th>classroom_ZDT</th>\n",
       "      <th>classroom_ZNS</th>\n",
       "      <th>teaching_method_Experimental</th>\n",
       "      <th>teaching_method_Standard</th>\n",
       "      <th>gender_Female</th>\n",
       "      <th>gender_Male</th>\n",
       "      <th>lunch_Does not qualify</th>\n",
       "      <th>lunch_Qualifies for reduced/free lunch</th>\n",
       "    </tr>\n",
       "  </thead>\n",
       "  <tbody>\n",
       "    <tr>\n",
       "      <th>0</th>\n",
       "      <td>20.0</td>\n",
       "      <td>62.0</td>\n",
       "      <td>72.0</td>\n",
       "      <td>1</td>\n",
       "      <td>0</td>\n",
       "      <td>0</td>\n",
       "      <td>0</td>\n",
       "      <td>0</td>\n",
       "      <td>0</td>\n",
       "      <td>0</td>\n",
       "      <td>...</td>\n",
       "      <td>0</td>\n",
       "      <td>0</td>\n",
       "      <td>0</td>\n",
       "      <td>0</td>\n",
       "      <td>0</td>\n",
       "      <td>1</td>\n",
       "      <td>1</td>\n",
       "      <td>0</td>\n",
       "      <td>1</td>\n",
       "      <td>0</td>\n",
       "    </tr>\n",
       "    <tr>\n",
       "      <th>1</th>\n",
       "      <td>20.0</td>\n",
       "      <td>66.0</td>\n",
       "      <td>79.0</td>\n",
       "      <td>1</td>\n",
       "      <td>0</td>\n",
       "      <td>0</td>\n",
       "      <td>0</td>\n",
       "      <td>0</td>\n",
       "      <td>0</td>\n",
       "      <td>0</td>\n",
       "      <td>...</td>\n",
       "      <td>0</td>\n",
       "      <td>0</td>\n",
       "      <td>0</td>\n",
       "      <td>0</td>\n",
       "      <td>0</td>\n",
       "      <td>1</td>\n",
       "      <td>1</td>\n",
       "      <td>0</td>\n",
       "      <td>1</td>\n",
       "      <td>0</td>\n",
       "    </tr>\n",
       "    <tr>\n",
       "      <th>2</th>\n",
       "      <td>20.0</td>\n",
       "      <td>64.0</td>\n",
       "      <td>76.0</td>\n",
       "      <td>1</td>\n",
       "      <td>0</td>\n",
       "      <td>0</td>\n",
       "      <td>0</td>\n",
       "      <td>0</td>\n",
       "      <td>0</td>\n",
       "      <td>0</td>\n",
       "      <td>...</td>\n",
       "      <td>0</td>\n",
       "      <td>0</td>\n",
       "      <td>0</td>\n",
       "      <td>0</td>\n",
       "      <td>0</td>\n",
       "      <td>1</td>\n",
       "      <td>0</td>\n",
       "      <td>1</td>\n",
       "      <td>1</td>\n",
       "      <td>0</td>\n",
       "    </tr>\n",
       "    <tr>\n",
       "      <th>3</th>\n",
       "      <td>20.0</td>\n",
       "      <td>61.0</td>\n",
       "      <td>77.0</td>\n",
       "      <td>1</td>\n",
       "      <td>0</td>\n",
       "      <td>0</td>\n",
       "      <td>0</td>\n",
       "      <td>0</td>\n",
       "      <td>0</td>\n",
       "      <td>0</td>\n",
       "      <td>...</td>\n",
       "      <td>0</td>\n",
       "      <td>0</td>\n",
       "      <td>0</td>\n",
       "      <td>0</td>\n",
       "      <td>0</td>\n",
       "      <td>1</td>\n",
       "      <td>1</td>\n",
       "      <td>0</td>\n",
       "      <td>1</td>\n",
       "      <td>0</td>\n",
       "    </tr>\n",
       "    <tr>\n",
       "      <th>4</th>\n",
       "      <td>20.0</td>\n",
       "      <td>64.0</td>\n",
       "      <td>76.0</td>\n",
       "      <td>1</td>\n",
       "      <td>0</td>\n",
       "      <td>0</td>\n",
       "      <td>0</td>\n",
       "      <td>0</td>\n",
       "      <td>0</td>\n",
       "      <td>0</td>\n",
       "      <td>...</td>\n",
       "      <td>0</td>\n",
       "      <td>0</td>\n",
       "      <td>0</td>\n",
       "      <td>0</td>\n",
       "      <td>0</td>\n",
       "      <td>1</td>\n",
       "      <td>0</td>\n",
       "      <td>1</td>\n",
       "      <td>1</td>\n",
       "      <td>0</td>\n",
       "    </tr>\n",
       "  </tbody>\n",
       "</table>\n",
       "<p>5 rows × 134 columns</p>\n",
       "</div>"
      ],
      "text/plain": [
       "   n_student  pretest  posttest  school_ANKYI  school_CCAAW  school_CIMBB  \\\n",
       "0       20.0     62.0      72.0             1             0             0   \n",
       "1       20.0     66.0      79.0             1             0             0   \n",
       "2       20.0     64.0      76.0             1             0             0   \n",
       "3       20.0     61.0      77.0             1             0             0   \n",
       "4       20.0     64.0      76.0             1             0             0   \n",
       "\n",
       "   school_CUQAM  school_DNQDD  school_FBUMG  school_GJJHK  ...  classroom_YUC  \\\n",
       "0             0             0             0             0  ...              0   \n",
       "1             0             0             0             0  ...              0   \n",
       "2             0             0             0             0  ...              0   \n",
       "3             0             0             0             0  ...              0   \n",
       "4             0             0             0             0  ...              0   \n",
       "\n",
       "   classroom_ZBH  classroom_ZDT  classroom_ZNS  teaching_method_Experimental  \\\n",
       "0              0              0              0                             0   \n",
       "1              0              0              0                             0   \n",
       "2              0              0              0                             0   \n",
       "3              0              0              0                             0   \n",
       "4              0              0              0                             0   \n",
       "\n",
       "   teaching_method_Standard  gender_Female  gender_Male  \\\n",
       "0                         1              1            0   \n",
       "1                         1              1            0   \n",
       "2                         1              0            1   \n",
       "3                         1              1            0   \n",
       "4                         1              0            1   \n",
       "\n",
       "   lunch_Does not qualify  lunch_Qualifies for reduced/free lunch  \n",
       "0                       1                                       0  \n",
       "1                       1                                       0  \n",
       "2                       1                                       0  \n",
       "3                       1                                       0  \n",
       "4                       1                                       0  \n",
       "\n",
       "[5 rows x 134 columns]"
      ]
     },
     "execution_count": 1052,
     "metadata": {},
     "output_type": "execute_result"
    }
   ],
   "source": [
    "df.head()"
   ]
  },
  {
   "cell_type": "code",
   "execution_count": null,
   "id": "twenty-cycling",
   "metadata": {},
   "outputs": [],
   "source": []
  },
  {
   "cell_type": "markdown",
   "id": "piano-sterling",
   "metadata": {},
   "source": [
    "Il y a beaucoup de corrélation. Sauf pour le genre."
   ]
  },
  {
   "cell_type": "code",
   "execution_count": 1053,
   "id": "wicked-cover",
   "metadata": {},
   "outputs": [],
   "source": [
    "del df[\"gender_Female\"]\n",
    "del df[\"gender_Male\"]"
   ]
  },
  {
   "cell_type": "markdown",
   "id": "considerable-algeria",
   "metadata": {},
   "source": [
    "\n"
   ]
  },
  {
   "cell_type": "markdown",
   "id": "naked-directory",
   "metadata": {},
   "source": [
    "\n",
    "\n",
    "\n",
    "\n",
    "\n",
    "\n",
    "\n"
   ]
  },
  {
   "cell_type": "code",
   "execution_count": 1072,
   "id": "common-photographer",
   "metadata": {},
   "outputs": [],
   "source": [
    "Y = df[\"posttest\"]"
   ]
  },
  {
   "cell_type": "code",
   "execution_count": 1055,
   "id": "authorized-liquid",
   "metadata": {},
   "outputs": [],
   "source": [
    "X = df.drop(\"posttest\", axis=1)"
   ]
  },
  {
   "cell_type": "code",
   "execution_count": 1056,
   "id": "opponent-granny",
   "metadata": {},
   "outputs": [],
   "source": [
    "from sklearn.model_selection import train_test_split\n",
    "X_train, X_test, y_train, y_test = train_test_split(X, Y, test_size=0.2)"
   ]
  },
  {
   "cell_type": "code",
   "execution_count": 1057,
   "id": "sexual-contact",
   "metadata": {},
   "outputs": [],
   "source": [
    "from sklearn.preprocessing import StandardScaler\n",
    "scaler = StandardScaler()\n",
    "#X_train = scaler.fit_transform(X_train)\n",
    "#X_test = scaler.transform(X_test)"
   ]
  },
  {
   "cell_type": "code",
   "execution_count": null,
   "id": "catholic-chorus",
   "metadata": {},
   "outputs": [],
   "source": []
  },
  {
   "cell_type": "code",
   "execution_count": null,
   "id": "further-thanks",
   "metadata": {},
   "outputs": [],
   "source": []
  },
  {
   "cell_type": "code",
   "execution_count": 1058,
   "id": "silent-tanzania",
   "metadata": {},
   "outputs": [
    {
     "data": {
      "text/plain": [
       "LinearRegression()"
      ]
     },
     "execution_count": 1058,
     "metadata": {},
     "output_type": "execute_result"
    }
   ],
   "source": [
    "from sklearn.linear_model import LinearRegression\n",
    "model = LinearRegression()\n",
    "model.fit(X_train, y_train)"
   ]
  },
  {
   "cell_type": "code",
   "execution_count": 1059,
   "id": "opponent-victim",
   "metadata": {},
   "outputs": [
    {
     "data": {
      "text/plain": [
       "0.9623577049497088"
      ]
     },
     "execution_count": 1059,
     "metadata": {},
     "output_type": "execute_result"
    }
   ],
   "source": [
    "model.score(X_train, y_train)"
   ]
  },
  {
   "cell_type": "code",
   "execution_count": 1060,
   "id": "composed-studio",
   "metadata": {},
   "outputs": [
    {
     "data": {
      "text/plain": [
       "0.9574352165696691"
      ]
     },
     "execution_count": 1060,
     "metadata": {},
     "output_type": "execute_result"
    }
   ],
   "source": [
    "model.score(X_test, y_test)"
   ]
  },
  {
   "cell_type": "code",
   "execution_count": null,
   "id": "healthy-graph",
   "metadata": {},
   "outputs": [],
   "source": []
  },
  {
   "cell_type": "code",
   "execution_count": null,
   "id": "clear-dynamics",
   "metadata": {},
   "outputs": [],
   "source": []
  },
  {
   "cell_type": "code",
   "execution_count": null,
   "id": "leading-delaware",
   "metadata": {},
   "outputs": [],
   "source": []
  },
  {
   "cell_type": "code",
   "execution_count": 1061,
   "id": "individual-effect",
   "metadata": {},
   "outputs": [
    {
     "data": {
      "text/plain": [
       "Lasso()"
      ]
     },
     "execution_count": 1061,
     "metadata": {},
     "output_type": "execute_result"
    }
   ],
   "source": [
    "from sklearn import linear_model\n",
    "lasso_reg = linear_model.Lasso()\n",
    "lasso_reg.fit(X_train, y_train)"
   ]
  },
  {
   "cell_type": "code",
   "execution_count": 1062,
   "id": "declared-albany",
   "metadata": {},
   "outputs": [
    {
     "data": {
      "text/plain": [
       "0.9227267217918536"
      ]
     },
     "execution_count": 1062,
     "metadata": {},
     "output_type": "execute_result"
    }
   ],
   "source": [
    "lasso_reg.score(X_train, y_train)"
   ]
  },
  {
   "cell_type": "code",
   "execution_count": 1063,
   "id": "assisted-malta",
   "metadata": {},
   "outputs": [
    {
     "data": {
      "text/plain": [
       "0.9270361857593599"
      ]
     },
     "execution_count": 1063,
     "metadata": {},
     "output_type": "execute_result"
    }
   ],
   "source": [
    "lasso_reg.score(X_test, y_test)"
   ]
  },
  {
   "cell_type": "code",
   "execution_count": null,
   "id": "overall-advertiser",
   "metadata": {},
   "outputs": [],
   "source": []
  },
  {
   "cell_type": "code",
   "execution_count": null,
   "id": "mexican-blanket",
   "metadata": {},
   "outputs": [],
   "source": []
  },
  {
   "cell_type": "code",
   "execution_count": null,
   "id": "latter-respect",
   "metadata": {},
   "outputs": [],
   "source": []
  },
  {
   "cell_type": "code",
   "execution_count": 1064,
   "id": "entitled-eligibility",
   "metadata": {},
   "outputs": [
    {
     "data": {
      "text/plain": [
       "Ridge()"
      ]
     },
     "execution_count": 1064,
     "metadata": {},
     "output_type": "execute_result"
    }
   ],
   "source": [
    "from sklearn.linear_model import Ridge\n",
    "ridge_reg = Ridge()\n",
    "ridge_reg.fit(X_train, y_train)"
   ]
  },
  {
   "cell_type": "code",
   "execution_count": 1065,
   "id": "elementary-ending",
   "metadata": {},
   "outputs": [
    {
     "data": {
      "text/plain": [
       "0.9617524959285128"
      ]
     },
     "execution_count": 1065,
     "metadata": {},
     "output_type": "execute_result"
    }
   ],
   "source": [
    "ridge_reg.score(X_train, y_train)"
   ]
  },
  {
   "cell_type": "code",
   "execution_count": 1066,
   "id": "brazilian-drinking",
   "metadata": {},
   "outputs": [
    {
     "data": {
      "text/plain": [
       "0.9570171418566119"
      ]
     },
     "execution_count": 1066,
     "metadata": {},
     "output_type": "execute_result"
    }
   ],
   "source": [
    "ridge_reg.score(X_test, y_test)"
   ]
  },
  {
   "cell_type": "code",
   "execution_count": null,
   "id": "incredible-twist",
   "metadata": {},
   "outputs": [],
   "source": []
  },
  {
   "cell_type": "code",
   "execution_count": null,
   "id": "chicken-niger",
   "metadata": {},
   "outputs": [],
   "source": []
  },
  {
   "cell_type": "code",
   "execution_count": null,
   "id": "continuous-spiritual",
   "metadata": {},
   "outputs": [],
   "source": []
  },
  {
   "cell_type": "code",
   "execution_count": null,
   "id": "diverse-reform",
   "metadata": {},
   "outputs": [],
   "source": []
  },
  {
   "cell_type": "code",
   "execution_count": null,
   "id": "offshore-canberra",
   "metadata": {},
   "outputs": [],
   "source": []
  },
  {
   "cell_type": "code",
   "execution_count": null,
   "id": "plain-establishment",
   "metadata": {},
   "outputs": [],
   "source": []
  },
  {
   "cell_type": "code",
   "execution_count": null,
   "id": "viral-norfolk",
   "metadata": {},
   "outputs": [],
   "source": []
  },
  {
   "cell_type": "code",
   "execution_count": null,
   "id": "expensive-lithuania",
   "metadata": {},
   "outputs": [],
   "source": []
  },
  {
   "cell_type": "code",
   "execution_count": null,
   "id": "prescribed-holocaust",
   "metadata": {},
   "outputs": [],
   "source": []
  },
  {
   "cell_type": "code",
   "execution_count": null,
   "id": "premium-passenger",
   "metadata": {},
   "outputs": [],
   "source": []
  },
  {
   "cell_type": "code",
   "execution_count": 1067,
   "id": "written-region",
   "metadata": {},
   "outputs": [],
   "source": [
    "from sklearn.linear_model import ElasticNet\n",
    "from sklearn.datasets import make_regression"
   ]
  },
  {
   "cell_type": "code",
   "execution_count": 1068,
   "id": "creative-playlist",
   "metadata": {},
   "outputs": [
    {
     "data": {
      "text/plain": [
       "ElasticNet(random_state=10)"
      ]
     },
     "execution_count": 1068,
     "metadata": {},
     "output_type": "execute_result"
    }
   ],
   "source": [
    "regr = ElasticNet(random_state=10)\n",
    "regr.fit(X_train, y_train)"
   ]
  },
  {
   "cell_type": "code",
   "execution_count": 1069,
   "id": "cellular-antarctica",
   "metadata": {},
   "outputs": [
    {
     "data": {
      "text/plain": [
       "0.9253188830217853"
      ]
     },
     "execution_count": 1069,
     "metadata": {},
     "output_type": "execute_result"
    }
   ],
   "source": [
    "regr.score(X_train, y_train)"
   ]
  },
  {
   "cell_type": "code",
   "execution_count": 1070,
   "id": "wrapped-ability",
   "metadata": {},
   "outputs": [
    {
     "data": {
      "text/plain": [
       "0.9293309337628993"
      ]
     },
     "execution_count": 1070,
     "metadata": {},
     "output_type": "execute_result"
    }
   ],
   "source": [
    "regr.score(X_test, y_test)"
   ]
  },
  {
   "cell_type": "code",
   "execution_count": null,
   "id": "opening-bones",
   "metadata": {},
   "outputs": [],
   "source": []
  },
  {
   "cell_type": "code",
   "execution_count": null,
   "id": "italic-cemetery",
   "metadata": {},
   "outputs": [],
   "source": []
  },
  {
   "cell_type": "code",
   "execution_count": null,
   "id": "spectacular-friday",
   "metadata": {},
   "outputs": [],
   "source": []
  },
  {
   "cell_type": "code",
   "execution_count": null,
   "id": "guided-status",
   "metadata": {},
   "outputs": [],
   "source": []
  },
  {
   "cell_type": "code",
   "execution_count": null,
   "id": "stopped-wallet",
   "metadata": {},
   "outputs": [],
   "source": []
  },
  {
   "cell_type": "code",
   "execution_count": null,
   "id": "contrary-indie",
   "metadata": {},
   "outputs": [],
   "source": []
  },
  {
   "cell_type": "code",
   "execution_count": 972,
   "id": "dress-coral",
   "metadata": {},
   "outputs": [],
   "source": [
    "from sklearn import svm\n",
    "from sklearn.model_selection import cross_val_score"
   ]
  },
  {
   "cell_type": "code",
   "execution_count": 973,
   "id": "loaded-yesterday",
   "metadata": {},
   "outputs": [
    {
     "data": {
      "text/plain": [
       "SVR(C=1, kernel='linear')"
      ]
     },
     "execution_count": 973,
     "metadata": {},
     "output_type": "execute_result"
    }
   ],
   "source": [
    "clf = svm.SVR(kernel=\"linear\", C=1)\n",
    "clf.fit(X_train, y_train)"
   ]
  },
  {
   "cell_type": "code",
   "execution_count": 974,
   "id": "stopped-immigration",
   "metadata": {},
   "outputs": [
    {
     "data": {
      "text/plain": [
       "0.9591591496870108"
      ]
     },
     "execution_count": 974,
     "metadata": {},
     "output_type": "execute_result"
    }
   ],
   "source": [
    "clf.score(X_train, y_train)"
   ]
  },
  {
   "cell_type": "code",
   "execution_count": 975,
   "id": "professional-pharmacy",
   "metadata": {},
   "outputs": [
    {
     "data": {
      "text/plain": [
       "0.9514470661512768"
      ]
     },
     "execution_count": 975,
     "metadata": {},
     "output_type": "execute_result"
    }
   ],
   "source": [
    "clf.score(X_test, y_test)"
   ]
  },
  {
   "cell_type": "code",
   "execution_count": null,
   "id": "decimal-shower",
   "metadata": {},
   "outputs": [],
   "source": []
  },
  {
   "cell_type": "code",
   "execution_count": null,
   "id": "posted-acrobat",
   "metadata": {},
   "outputs": [],
   "source": []
  },
  {
   "cell_type": "code",
   "execution_count": null,
   "id": "interpreted-anchor",
   "metadata": {},
   "outputs": [],
   "source": []
  },
  {
   "cell_type": "code",
   "execution_count": null,
   "id": "endless-judgment",
   "metadata": {},
   "outputs": [],
   "source": []
  },
  {
   "cell_type": "code",
   "execution_count": 976,
   "id": "incomplete-patient",
   "metadata": {},
   "outputs": [
    {
     "data": {
      "text/plain": [
       "RandomForestRegressor(max_depth=20, random_state=100)"
      ]
     },
     "execution_count": 976,
     "metadata": {},
     "output_type": "execute_result"
    }
   ],
   "source": [
    "from sklearn.ensemble import RandomForestRegressor\n",
    "from sklearn.datasets import make_regression\n",
    "clf = RandomForestRegressor(max_depth=20, random_state=100)\n",
    "clf.fit(X_train, y_train)"
   ]
  },
  {
   "cell_type": "code",
   "execution_count": 977,
   "id": "efficient-skill",
   "metadata": {},
   "outputs": [
    {
     "data": {
      "text/plain": [
       "0.9808321544150493"
      ]
     },
     "execution_count": 977,
     "metadata": {},
     "output_type": "execute_result"
    }
   ],
   "source": [
    "clf.score(X_train, y_train)"
   ]
  },
  {
   "cell_type": "code",
   "execution_count": 978,
   "id": "legal-strengthening",
   "metadata": {},
   "outputs": [
    {
     "data": {
      "text/plain": [
       "0.943152010871202"
      ]
     },
     "execution_count": 978,
     "metadata": {},
     "output_type": "execute_result"
    }
   ],
   "source": [
    "clf.score(X_test, y_test)"
   ]
  },
  {
   "cell_type": "code",
   "execution_count": null,
   "id": "equipped-honduras",
   "metadata": {},
   "outputs": [],
   "source": []
  },
  {
   "cell_type": "code",
   "execution_count": null,
   "id": "advanced-radar",
   "metadata": {},
   "outputs": [],
   "source": []
  },
  {
   "cell_type": "code",
   "execution_count": null,
   "id": "powered-proposal",
   "metadata": {},
   "outputs": [],
   "source": []
  },
  {
   "cell_type": "code",
   "execution_count": null,
   "id": "downtown-camcorder",
   "metadata": {},
   "outputs": [],
   "source": []
  },
  {
   "cell_type": "code",
   "execution_count": null,
   "id": "powered-photography",
   "metadata": {},
   "outputs": [],
   "source": []
  },
  {
   "cell_type": "code",
   "execution_count": null,
   "id": "optical-concentration",
   "metadata": {},
   "outputs": [],
   "source": []
  },
  {
   "cell_type": "markdown",
   "id": "corporate-trust",
   "metadata": {},
   "source": [
    "Pour améliorer:\n",
    "\n",
    "    - grid search\n",
    "    \n",
    "    \n",
    "Pour valider:\n",
    "\n",
    "    - Cross validation\n"
   ]
  },
  {
   "cell_type": "code",
   "execution_count": null,
   "id": "heavy-poker",
   "metadata": {},
   "outputs": [],
   "source": []
  },
  {
   "cell_type": "code",
   "execution_count": null,
   "id": "expressed-cardiff",
   "metadata": {},
   "outputs": [],
   "source": []
  }
 ],
 "metadata": {
  "kernelspec": {
   "display_name": "Python 3",
   "language": "python",
   "name": "python3"
  },
  "language_info": {
   "codemirror_mode": {
    "name": "ipython",
    "version": 3
   },
   "file_extension": ".py",
   "mimetype": "text/x-python",
   "name": "python",
   "nbconvert_exporter": "python",
   "pygments_lexer": "ipython3",
   "version": "3.7.6"
  }
 },
 "nbformat": 4,
 "nbformat_minor": 5
}
